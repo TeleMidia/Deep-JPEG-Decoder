{
 "cells": [
  {
   "cell_type": "code",
   "execution_count": 1,
   "metadata": {},
   "outputs": [],
   "source": [
    "import os"
   ]
  },
  {
   "cell_type": "code",
   "execution_count": 2,
   "metadata": {},
   "outputs": [],
   "source": [
    "save_model_folder = \"../fruits360_experiment/model_save\""
   ]
  },
  {
   "cell_type": "code",
   "execution_count": 3,
   "metadata": {},
   "outputs": [],
   "source": [
    "def export_csv(folder):\n",
    "    model_list = os.listdir( folder )\n",
    "    model_result_list = []\n",
    "    \n",
    "    csv_header = \"\"\n",
    "    \n",
    "    for model in model_list:\n",
    "        data_path = os.path.join(folder, model, \"chart_data\", \"data.txt\")\n",
    "        if os.path.exists(data_path):\n",
    "            with open(data_path, \"r\") as file:\n",
    "                dict_chart_data = eval(file.readline())\n",
    "                model_result_list.append(dict_chart_data)\n",
    "                #print(dict_chart_data)\n",
    "        else:\n",
    "            print(\"wrong path\")\n",
    "    \n",
    "        csv_header += \",\"+model\n",
    "    \n",
    "    path_csv_ssim = \"ssim.csv\"\n",
    "    path_csv_psnr = \"psnr.csv\"\n",
    "    path_csv_nrmse = \"nrmse.csv\"\n",
    "    \n",
    "    if os.path.exists(path_csv_ssim):\n",
    "        os.remove(path_csv_ssim)\n",
    "    if os.path.exists(path_csv_psnr):\n",
    "        os.remove(path_csv_psnr) \n",
    "    if os.path.exists(path_csv_nrmse):\n",
    "        os.remove(path_csv_nrmse) \n",
    "    \n",
    "    file_ssim = open(path_csv_ssim, \"w\")\n",
    "    file_psnr = open(path_csv_psnr, \"w\")\n",
    "    file_nrmse = open(path_csv_nrmse, \"w\")\n",
    "    \n",
    "    file_ssim.write(csv_header+\"\\n\")\n",
    "    file_psnr.write(csv_header+\"\\n\")\n",
    "    file_nrmse.write(csv_header+\"\\n\")\n",
    "    \n",
    "    print(csv_header)\n",
    "    epoch_list = model_result_list[0][\"epoch\"]\n",
    "    print(epoch_list)\n",
    "    for index_epoch, epoch in enumerate(epoch_list):\n",
    "        str_ssim = str(epoch)\n",
    "        str_psnr = str(epoch)\n",
    "        str_nrmse = str(epoch) \n",
    "        for index_model, model in enumerate(model_list):\n",
    "            str_ssim += \",\"+str(model_result_list[index_model][\"SSIM\"][index_epoch])\n",
    "            str_psnr += \",\"+str(model_result_list[index_model][\"PSNR\"][index_epoch])\n",
    "            str_nrmse += \",\"+str(model_result_list[index_model][\"NRMSE\"][index_epoch])\n",
    "        \n",
    "        file_ssim.write(str_ssim+\"\\n\")\n",
    "        file_psnr.write(str_psnr+\"\\n\")\n",
    "        file_nrmse.write(str_nrmse+\"\\n\")"
   ]
  },
  {
   "cell_type": "code",
   "execution_count": 4,
   "metadata": {
    "scrolled": true
   },
   "outputs": [
    {
     "name": "stdout",
     "output_type": "stream",
     "text": [
      ",ARCNN,DeeperSRCNN,dnCNN,EDSR_ResNet,FastARCNN,ResNet,Res_ARCNN,Res_FastARCNN,RUNet,SRResnet,UNet\n",
      "[20, 40, 60, 80, 100, 120, 140, 160, 180, 200, 220, 240, 260, 280, 300, 320, 340, 360, 380, 400]\n"
     ]
    }
   ],
   "source": [
    "export_csv(save_model_folder)"
   ]
  },
  {
   "cell_type": "code",
   "execution_count": null,
   "metadata": {},
   "outputs": [],
   "source": []
  }
 ],
 "metadata": {
  "kernelspec": {
   "display_name": "Python 3",
   "language": "python",
   "name": "python3"
  },
  "language_info": {
   "codemirror_mode": {
    "name": "ipython",
    "version": 3
   },
   "file_extension": ".py",
   "mimetype": "text/x-python",
   "name": "python",
   "nbconvert_exporter": "python",
   "pygments_lexer": "ipython3",
   "version": "3.7.6"
  }
 },
 "nbformat": 4,
 "nbformat_minor": 4
}
