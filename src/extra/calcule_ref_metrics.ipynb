{
 "cells": [
  {
   "cell_type": "code",
   "execution_count": 1,
   "metadata": {},
   "outputs": [],
   "source": [
    "import sys\n",
    "sys.path.append(\"../\")"
   ]
  },
  {
   "cell_type": "code",
   "execution_count": 2,
   "metadata": {},
   "outputs": [],
   "source": [
    "import lib.utils as utils\n",
    "import lib.jpeg as jpg\n",
    "import numpy as np\n",
    "from tqdm import tqdm\n",
    "import os, glob"
   ]
  },
  {
   "cell_type": "code",
   "execution_count": 3,
   "metadata": {},
   "outputs": [],
   "source": [
    "#psnr, ssim and nrmse\n",
    "valid_custom_metrics = utils.CustomMetric()"
   ]
  },
  {
   "cell_type": "code",
   "execution_count": 4,
   "metadata": {
    "scrolled": true
   },
   "outputs": [
    {
     "name": "stderr",
     "output_type": "stream",
     "text": [
      "877it [59:32,  4.07s/it]\n"
     ]
    }
   ],
   "source": [
    "#Loading the training dataset\n",
    "root_folder = \"../../dataset/dataset_fruits360/test\"\n",
    "\n",
    "dataset_x = []\n",
    "dataset_y = []\n",
    "\n",
    "for file_ in tqdm(glob.iglob(root_folder+\"/*/*.jpg\")):\n",
    "       \n",
    "        img = utils.open_image(file_)\n",
    "        #print(file_)\n",
    "        if img is None:\n",
    "            print(\"Corrupted dataset!\")\n",
    "\n",
    "        qtable_luma_50, qtable_chroma_50 = jpg.generate_qtables(quality_factor=50)\n",
    "        qtable_luma_45, qtable_chroma_45 = jpg.generate_qtables(quality_factor=45)\n",
    "        qtable_luma_40, qtable_chroma_40 = jpg.generate_qtables(quality_factor=40)\n",
    "        qtable_luma_35, qtable_chroma_35 = jpg.generate_qtables(quality_factor=35)\n",
    "        qtable_luma_30, qtable_chroma_30 = jpg.generate_qtables(quality_factor=30)\n",
    "        qtable_luma_25, qtable_chroma_25 = jpg.generate_qtables(quality_factor=25)\n",
    "        qtable_luma_20, qtable_chroma_20 = jpg.generate_qtables(quality_factor=20)\n",
    "        qtable_luma_15, qtable_chroma_15 = jpg.generate_qtables(quality_factor=15)\n",
    "        qtable_luma_10, qtable_chroma_10 = jpg.generate_qtables(quality_factor=10)\n",
    "\n",
    "        dct_q10 = jpg.encode_image(img, qtable_luma_10, qtable_chroma_10)\n",
    "        dct_q15 = jpg.encode_image(img, qtable_luma_15, qtable_chroma_15)\n",
    "        dct_q20 = jpg.encode_image(img, qtable_luma_20, qtable_chroma_20)\n",
    "        dct_q25 = jpg.encode_image(img, qtable_luma_25, qtable_chroma_25)\n",
    "        dct_q30 = jpg.encode_image(img, qtable_luma_30, qtable_chroma_30)\n",
    "        dct_q35 = jpg.encode_image(img, qtable_luma_35, qtable_chroma_35)\n",
    "        dct_q40 = jpg.encode_image(img, qtable_luma_40, qtable_chroma_40)\n",
    "        dct_q45 = jpg.encode_image(img, qtable_luma_45, qtable_chroma_45)\n",
    "        dct_q50 = jpg.encode_image(img, qtable_luma_50, qtable_chroma_50)\n",
    "        \n",
    "        img_q10 = jpg.decode_image(dct_q10, qtable_luma_10, qtable_chroma_10)\n",
    "        img_q15 = jpg.decode_image(dct_q15, qtable_luma_15, qtable_chroma_15)\n",
    "        img_q20 = jpg.decode_image(dct_q20, qtable_luma_20, qtable_chroma_20)\n",
    "        img_q25 = jpg.decode_image(dct_q25, qtable_luma_25, qtable_chroma_25)\n",
    "        img_q30 = jpg.decode_image(dct_q30, qtable_luma_30, qtable_chroma_30)\n",
    "        img_q35 = jpg.decode_image(dct_q35, qtable_luma_35, qtable_chroma_35)\n",
    "        img_q40 = jpg.decode_image(dct_q40, qtable_luma_40, qtable_chroma_40)\n",
    "        img_q45 = jpg.decode_image(dct_q45, qtable_luma_45, qtable_chroma_45)\n",
    "        img_q50 = jpg.decode_image(dct_q50, qtable_luma_50, qtable_chroma_50)\n",
    "        \n",
    "        dataset_x.append((img_q10, img_q15, img_q20, img_q25, img_q30, img_q35, img_q40, img_q45))\n",
    "        dataset_y.append(img_q50)\n",
    "\n",
    "      \n",
    "        "
   ]
  },
  {
   "cell_type": "code",
   "execution_count": 5,
   "metadata": {},
   "outputs": [],
   "source": [
    "#psnr, ssim and nrmse\n",
    "metric_q10 = utils.CustomMetric()\n",
    "metric_q15 = utils.CustomMetric()\n",
    "metric_q20 = utils.CustomMetric()\n",
    "metric_q25 = utils.CustomMetric()\n",
    "metric_q30 = utils.CustomMetric()\n",
    "metric_q35 = utils.CustomMetric()\n",
    "metric_q40 = utils.CustomMetric()\n",
    "metric_q45 = utils.CustomMetric()"
   ]
  },
  {
   "cell_type": "code",
   "execution_count": null,
   "metadata": {},
   "outputs": [],
   "source": [
    "\n"
   ]
  },
  {
   "cell_type": "code",
   "execution_count": 6,
   "metadata": {
    "scrolled": true
   },
   "outputs": [
    {
     "name": "stderr",
     "output_type": "stream",
     "text": [
      "  0%|                                                                                                                       | 0/877 [00:00<?, ?it/s]..\\lib\\utils.py:30: UserWarning: DEPRECATED: skimage.measure.compare_psnr has been moved to skimage.metrics.peak_signal_noise_ratio. It will be removed from skimage.measure in version 0.18.\n",
      "  compare_psnr(batch_y[index], predictions[index], data_range=255)), axis=None)\n",
      "..\\lib\\utils.py:32: UserWarning: DEPRECATED: skimage.measure.compare_ssim has been moved to skimage.metrics.structural_similarity. It will be removed from skimage.measure in version 0.18.\n",
      "  compare_ssim(batch_y[index], predictions[index], multichannel=True)), axis=None)\n",
      "..\\lib\\utils.py:34: UserWarning: DEPRECATED: skimage.measure.compare_nrmse has been moved to skimage.metrics.normalized_root_mse. It will be removed from skimage.measure in version 0.18.\n",
      "  compare_nrmse(batch_y[index], predictions[index])), axis=None)\n",
      "100%|█████████████████████████████████████████████████████████████████████████████████████████████████████████████| 877/877 [00:36<00:00, 24.06it/s]\n"
     ]
    }
   ],
   "source": [
    "dataset_size = len(dataset_x)\n",
    "\n",
    "for index in tqdm(range(0, dataset_size)):\n",
    "\n",
    "    batch_y = dataset_y[index]\n",
    "    (batch_x_q10, batch_x_q15, batch_x_q20, batch_x_q25, batch_x_q30, batch_x_q35, batch_x_q40, batch_x_q45) = dataset_x[index]\n",
    "    metric_q10.feed(np.expand_dims(batch_y, axis=0), np.expand_dims(batch_x_q10, axis=0))\n",
    "    metric_q15.feed(np.expand_dims(batch_y, axis=0), np.expand_dims(batch_x_q15, axis=0))    \n",
    "    metric_q20.feed(np.expand_dims(batch_y, axis=0), np.expand_dims(batch_x_q20, axis=0))\n",
    "    metric_q25.feed(np.expand_dims(batch_y, axis=0), np.expand_dims(batch_x_q25, axis=0))\n",
    "    metric_q30.feed(np.expand_dims(batch_y, axis=0), np.expand_dims(batch_x_q30, axis=0))\n",
    "    metric_q35.feed(np.expand_dims(batch_y, axis=0), np.expand_dims(batch_x_q35, axis=0))\n",
    "    metric_q40.feed(np.expand_dims(batch_y, axis=0), np.expand_dims(batch_x_q40, axis=0))\n",
    "    metric_q45.feed(np.expand_dims(batch_y, axis=0), np.expand_dims(batch_x_q45, axis=0))"
   ]
  },
  {
   "cell_type": "code",
   "execution_count": 7,
   "metadata": {},
   "outputs": [
    {
     "name": "stdout",
     "output_type": "stream",
     "text": [
      "877 877 877\n"
     ]
    }
   ],
   "source": [
    "print(len(metric_q10.buffer_psnr), len(metric_q15.buffer_psnr), len(metric_q20.buffer_psnr))\n",
    "\n"
   ]
  },
  {
   "cell_type": "code",
   "execution_count": 8,
   "metadata": {},
   "outputs": [
    {
     "name": "stdout",
     "output_type": "stream",
     "text": [
      "Q10 28.58362744387767 0.8036145076256139 0.0574025873718549\n",
      "Q15 30.35367474610218 0.846888298258759 0.0468802430148654\n",
      "Q20 31.36035533230787 0.8683961477241293 0.04177873598954427\n",
      "Q25 32.05505755064489 0.8807040927310967 0.03859296784675116\n",
      "Q30 33.130295357039635 0.9038971425403652 0.03410908443406955\n",
      "Q35 34.096136060150734 0.9224017435415762 0.030517735649085366\n",
      "Q40 35.449562730902386 0.94154512526919 0.02610561497126433\n",
      "Q45 37.60146579135991 0.964308425448824 0.020356007802710473\n"
     ]
    }
   ],
   "source": [
    "psnr, ssim, nrmse = metric_q10.result()\n",
    "print(\"Q10\", psnr, ssim, nrmse)\n",
    "\n",
    "psnr, ssim, nrmse = metric_q15.result()\n",
    "print(\"Q15\", psnr, ssim, nrmse)\n",
    "\n",
    "psnr, ssim, nrmse = metric_q20.result()\n",
    "print(\"Q20\", psnr, ssim, nrmse)\n",
    "\n",
    "psnr, ssim, nrmse = metric_q25.result()\n",
    "print(\"Q25\", psnr, ssim, nrmse)\n",
    "\n",
    "psnr, ssim, nrmse = metric_q30.result()\n",
    "print(\"Q30\", psnr, ssim, nrmse)\n",
    "\n",
    "psnr, ssim, nrmse = metric_q35.result()\n",
    "print(\"Q35\", psnr, ssim, nrmse)\n",
    "\n",
    "psnr, ssim, nrmse = metric_q40.result()\n",
    "print(\"Q40\", psnr, ssim, nrmse)\n",
    "\n",
    "psnr, ssim, nrmse = metric_q45.result()\n",
    "print(\"Q45\", psnr, ssim, nrmse)"
   ]
  },
  {
   "cell_type": "code",
   "execution_count": null,
   "metadata": {},
   "outputs": [],
   "source": []
  }
 ],
 "metadata": {
  "kernelspec": {
   "display_name": "Python 3",
   "language": "python",
   "name": "python3"
  },
  "language_info": {
   "codemirror_mode": {
    "name": "ipython",
    "version": 3
   },
   "file_extension": ".py",
   "mimetype": "text/x-python",
   "name": "python",
   "nbconvert_exporter": "python",
   "pygments_lexer": "ipython3",
   "version": "3.7.6"
  }
 },
 "nbformat": 4,
 "nbformat_minor": 4
}
