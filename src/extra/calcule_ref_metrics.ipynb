{
 "cells": [
  {
   "cell_type": "code",
   "execution_count": null,
   "metadata": {},
   "outputs": [],
   "source": [
    "import sys\n",
    "sys.path.append(\"../\")"
   ]
  },
  {
   "cell_type": "code",
   "execution_count": null,
   "metadata": {},
   "outputs": [],
   "source": [
    "import lib.utils as utils\n",
    "import lib.jpeg as jpg\n",
    "import numpy as np\n",
    "from tqdm import tqdm\n",
    "import os, glob"
   ]
  },
  {
   "cell_type": "code",
   "execution_count": null,
   "metadata": {},
   "outputs": [],
   "source": [
    "#psnr, ssim and nrmse\n",
    "valid_custom_metrics = utils.CustomMetric()"
   ]
  },
  {
   "cell_type": "code",
   "execution_count": null,
   "metadata": {
    "scrolled": true
   },
   "outputs": [],
   "source": [
    "#Loading the training dataset\n",
    "root_folder = \"../../dataset/dataset_video_frames/test\"\n",
    "\n",
    "dataset_x = []\n",
    "dataset_y = []\n",
    "\n",
    "for file_ in tqdm(glob.iglob(root_folder+\"/*.jpg\")):\n",
    "       \n",
    "        img = utils.open_image(file_)\n",
    "        #print(file_)\n",
    "        if img is None:\n",
    "            print(\"Corrupted dataset!\")\n",
    "\n",
    "        qtable_luma_50, qtable_chroma_50 = jpg.generate_qtables(quality_factor=50)\n",
    "        qtable_luma_45, qtable_chroma_45 = jpg.generate_qtables(quality_factor=45)\n",
    "        qtable_luma_40, qtable_chroma_40 = jpg.generate_qtables(quality_factor=40)\n",
    "        qtable_luma_35, qtable_chroma_35 = jpg.generate_qtables(quality_factor=35)\n",
    "        qtable_luma_30, qtable_chroma_30 = jpg.generate_qtables(quality_factor=30)\n",
    "        qtable_luma_25, qtable_chroma_25 = jpg.generate_qtables(quality_factor=25)\n",
    "        qtable_luma_20, qtable_chroma_20 = jpg.generate_qtables(quality_factor=20)\n",
    "        qtable_luma_15, qtable_chroma_15 = jpg.generate_qtables(quality_factor=15)\n",
    "        qtable_luma_10, qtable_chroma_10 = jpg.generate_qtables(quality_factor=10)\n",
    "\n",
    "        dct_q10 = jpg.encode_image(img, qtable_luma_10, qtable_chroma_10)\n",
    "        dct_q15 = jpg.encode_image(img, qtable_luma_15, qtable_chroma_15)\n",
    "        dct_q20 = jpg.encode_image(img, qtable_luma_20, qtable_chroma_20)\n",
    "        dct_q25 = jpg.encode_image(img, qtable_luma_25, qtable_chroma_25)\n",
    "        dct_q30 = jpg.encode_image(img, qtable_luma_30, qtable_chroma_30)\n",
    "        dct_q35 = jpg.encode_image(img, qtable_luma_35, qtable_chroma_35)\n",
    "        dct_q40 = jpg.encode_image(img, qtable_luma_40, qtable_chroma_40)\n",
    "        dct_q45 = jpg.encode_image(img, qtable_luma_45, qtable_chroma_45)\n",
    "        dct_q50 = jpg.encode_image(img, qtable_luma_50, qtable_chroma_50)\n",
    "        \n",
    "        img_q10 = jpg.decode_image(dct_q10, qtable_luma_10, qtable_chroma_10)\n",
    "        img_q15 = jpg.decode_image(dct_q15, qtable_luma_15, qtable_chroma_15)\n",
    "        img_q20 = jpg.decode_image(dct_q20, qtable_luma_20, qtable_chroma_20)\n",
    "        img_q25 = jpg.decode_image(dct_q25, qtable_luma_25, qtable_chroma_25)\n",
    "        img_q30 = jpg.decode_image(dct_q30, qtable_luma_30, qtable_chroma_30)\n",
    "        img_q35 = jpg.decode_image(dct_q35, qtable_luma_35, qtable_chroma_35)\n",
    "        img_q40 = jpg.decode_image(dct_q40, qtable_luma_40, qtable_chroma_40)\n",
    "        img_q45 = jpg.decode_image(dct_q45, qtable_luma_45, qtable_chroma_45)\n",
    "        img_q50 = jpg.decode_image(dct_q50, qtable_luma_50, qtable_chroma_50)\n",
    "        \n",
    "        dataset_x.append((img_q10, img_q15, img_q20, img_q25, img_q30, img_q35, img_q40, img_q45))\n",
    "        dataset_y.append(img_q50)\n",
    "\n",
    "      \n",
    "        "
   ]
  },
  {
   "cell_type": "code",
   "execution_count": null,
   "metadata": {},
   "outputs": [],
   "source": [
    "#psnr, ssim and nrmse\n",
    "metric_q10 = utils.CustomMetric()\n",
    "metric_q15 = utils.CustomMetric()\n",
    "metric_q20 = utils.CustomMetric()\n",
    "metric_q25 = utils.CustomMetric()\n",
    "metric_q30 = utils.CustomMetric()\n",
    "metric_q35 = utils.CustomMetric()\n",
    "metric_q40 = utils.CustomMetric()\n",
    "metric_q45 = utils.CustomMetric()"
   ]
  },
  {
   "cell_type": "code",
   "execution_count": null,
   "metadata": {},
   "outputs": [],
   "source": [
    "\n"
   ]
  },
  {
   "cell_type": "code",
   "execution_count": null,
   "metadata": {
    "scrolled": true
   },
   "outputs": [],
   "source": [
    "dataset_size = len(dataset_x)\n",
    "\n",
    "for index in tqdm(range(0, dataset_size)):\n",
    "\n",
    "    batch_y = dataset_y[index]\n",
    "    (batch_x_q10, batch_x_q15, batch_x_q20, batch_x_q25, batch_x_q30, batch_x_q35, batch_x_q40, batch_x_q45) = dataset_x[index]\n",
    "    metric_q10.feed(np.expand_dims(batch_y, axis=0), np.expand_dims(batch_x_q10, axis=0))\n",
    "    metric_q15.feed(np.expand_dims(batch_y, axis=0), np.expand_dims(batch_x_q15, axis=0))    \n",
    "    metric_q20.feed(np.expand_dims(batch_y, axis=0), np.expand_dims(batch_x_q20, axis=0))\n",
    "    metric_q25.feed(np.expand_dims(batch_y, axis=0), np.expand_dims(batch_x_q25, axis=0))\n",
    "    metric_q30.feed(np.expand_dims(batch_y, axis=0), np.expand_dims(batch_x_q30, axis=0))\n",
    "    metric_q35.feed(np.expand_dims(batch_y, axis=0), np.expand_dims(batch_x_q35, axis=0))\n",
    "    metric_q40.feed(np.expand_dims(batch_y, axis=0), np.expand_dims(batch_x_q40, axis=0))\n",
    "    metric_q45.feed(np.expand_dims(batch_y, axis=0), np.expand_dims(batch_x_q45, axis=0))"
   ]
  },
  {
   "cell_type": "code",
   "execution_count": null,
   "metadata": {},
   "outputs": [],
   "source": [
    "print(len(metric_q10.buffer_psnr), len(metric_q15.buffer_psnr), len(metric_q20.buffer_psnr))\n",
    "\n"
   ]
  },
  {
   "cell_type": "code",
   "execution_count": null,
   "metadata": {},
   "outputs": [],
   "source": [
    "psnr, ssim, nrmse = metric_q10.result()\n",
    "print(\"Q10\", psnr, ssim, nrmse)\n",
    "\n",
    "psnr, ssim, nrmse = metric_q15.result()\n",
    "print(\"Q15\", psnr, ssim, nrmse)\n",
    "\n",
    "psnr, ssim, nrmse = metric_q20.result()\n",
    "print(\"Q20\", psnr, ssim, nrmse)\n",
    "\n",
    "psnr, ssim, nrmse = metric_q25.result()\n",
    "print(\"Q25\", psnr, ssim, nrmse)\n",
    "\n",
    "psnr, ssim, nrmse = metric_q30.result()\n",
    "print(\"Q30\", psnr, ssim, nrmse)\n",
    "\n",
    "psnr, ssim, nrmse = metric_q35.result()\n",
    "print(\"Q35\", psnr, ssim, nrmse)\n",
    "\n",
    "psnr, ssim, nrmse = metric_q40.result()\n",
    "print(\"Q40\", psnr, ssim, nrmse)\n",
    "\n",
    "psnr, ssim, nrmse = metric_q45.result()\n",
    "print(\"Q45\", psnr, ssim, nrmse)"
   ]
  },
  {
   "cell_type": "code",
   "execution_count": null,
   "metadata": {},
   "outputs": [],
   "source": []
  }
 ],
 "metadata": {
  "kernelspec": {
   "display_name": "Python 3",
   "language": "python",
   "name": "python3"
  },
  "language_info": {
   "codemirror_mode": {
    "name": "ipython",
    "version": 3
   },
   "file_extension": ".py",
   "mimetype": "text/x-python",
   "name": "python",
   "nbconvert_exporter": "python",
   "pygments_lexer": "ipython3",
   "version": "3.7.6"
  }
 },
 "nbformat": 4,
 "nbformat_minor": 4
}
