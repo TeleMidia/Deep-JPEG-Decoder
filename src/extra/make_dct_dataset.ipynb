{
 "cells": [
  {
   "cell_type": "code",
   "execution_count": 1,
   "metadata": {},
   "outputs": [],
   "source": [
    "import sys\n",
    "sys.path.append('..')\n",
    "\n",
    "from tqdm import tqdm\n",
    "import lib.jpeg as jpg\n",
    "import lib.utils as utils\n",
    "import os\n",
    "import glob\n",
    "import numpy as np"
   ]
  },
  {
   "cell_type": "code",
   "execution_count": 2,
   "metadata": {},
   "outputs": [],
   "source": [
    "def make_dct_folder(folder_path):\n",
    "    qtable_luma_50, qtable_chroma_50 = jpg.generate_qtables(quality_factor=50)\n",
    "    qtable_luma_10, qtable_chroma_10 = jpg.generate_qtables(quality_factor=10)\n",
    "    qtable_luma_40, qtable_chroma_40 = jpg.generate_qtables(quality_factor=40)\n",
    "    qtable_luma_30, qtable_chroma_30 = jpg.generate_qtables(quality_factor=30)\n",
    "    \n",
    "    for file_ in tqdm(glob.iglob(folder_path+\"/*.jpg\")):\n",
    "        img = utils.open_image(file_)\n",
    "        \n",
    "        if img is None:\n",
    "            continue\n",
    "            \n",
    "        dct_q10 = jpg.encode_image(img, qtable_luma_10, qtable_chroma_10)\n",
    "        dct_q50 = jpg.encode_image(img, qtable_luma_50, qtable_chroma_50)\n",
    "        dct_q40 = jpg.encode_image(img, qtable_luma_40, qtable_chroma_40)\n",
    "        dct_q30 = jpg.encode_image(img, qtable_luma_30, qtable_chroma_30)\n",
    "        \n",
    "        basename_jpg = os.path.basename(file_)\n",
    "        basename_q10 = basename_jpg.replace(\".jpg\",\"\")+\"_q10.npy\"\n",
    "        basename_q50 = basename_jpg.replace(\".jpg\",\"\")+\"_q50.npy\"\n",
    "        basename_q40 = basename_jpg.replace(\".jpg\",\"\")+\"_q40.npy\"\n",
    "        basename_q30 = basename_jpg.replace(\".jpg\",\"\")+\"_q30.npy\"\n",
    "        file_ = file_.replace(basename_jpg, \"\")\n",
    "        file_path_q10 = os.path.join(file_, basename_q10)\n",
    "        file_path_q50 = os.path.join(file_, basename_q50)\n",
    "        file_path_q40 = os.path.join(file_, basename_q40)\n",
    "        file_path_q30 = os.path.join(file_, basename_q30)\n",
    "        \n",
    "        if os.path.exists(file_path_q10):\n",
    "            os.remove(file_path_q10)     \n",
    "        np.save(file_path_q10, dct_q10)\n",
    "        \n",
    "        if os.path.exists(file_path_q50):\n",
    "            os.remove(file_path_q50)    \n",
    "        np.save(file_path_q50, dct_q50)\n",
    "        \n",
    "        if os.path.exists(file_path_q40):\n",
    "            os.remove(file_path_q40)    \n",
    "        np.save(file_path_q40, dct_q40)\n",
    "        \n",
    "        if os.path.exists(file_path_q30):\n",
    "            os.remove(file_path_q30)    \n",
    "        np.save(file_path_q30, dct_q30)\n",
    "    "
   ]
  },
  {
   "cell_type": "code",
   "execution_count": 4,
   "metadata": {
    "scrolled": false
   },
   "outputs": [
    {
     "name": "stderr",
     "output_type": "stream",
     "text": [
      "4it [00:05,  1.38s/it]"
     ]
    },
    {
     "name": "stdout",
     "output_type": "stream",
     "text": [
      "Invalid image size. Input image width and height should be multiple of 8.\n",
      "Invalid image size. Input image width and height should be multiple of 8.\n",
      "Invalid image size. Input image width and height should be multiple of 8.\n",
      "Invalid image size. Input image width and height should be multiple of 8.\n",
      "Invalid image size. Input image width and height should be multiple of 8.\n",
      "Invalid image size. Input image width and height should be multiple of 8.\n",
      "Invalid image size. Input image width and height should be multiple of 8.\n",
      "Invalid image size. Input image width and height should be multiple of 8.\n"
     ]
    },
    {
     "name": "stderr",
     "output_type": "stream",
     "text": [
      "19it [00:15,  1.34s/it]"
     ]
    },
    {
     "name": "stdout",
     "output_type": "stream",
     "text": [
      "Invalid image size. Input image width and height should be multiple of 8.\n"
     ]
    },
    {
     "name": "stderr",
     "output_type": "stream",
     "text": [
      "27it [00:25,  1.36s/it]"
     ]
    },
    {
     "name": "stdout",
     "output_type": "stream",
     "text": [
      "Invalid image size. Input image width and height should be multiple of 8.\n"
     ]
    },
    {
     "name": "stderr",
     "output_type": "stream",
     "text": [
      "34it [00:33,  1.34s/it]"
     ]
    },
    {
     "name": "stdout",
     "output_type": "stream",
     "text": [
      "Invalid image size. Input image width and height should be multiple of 8.\n",
      "Invalid image size. Input image width and height should be multiple of 8.\n"
     ]
    },
    {
     "name": "stderr",
     "output_type": "stream",
     "text": [
      "\r",
      "37it [00:34,  1.08s/it]"
     ]
    },
    {
     "name": "stdout",
     "output_type": "stream",
     "text": [
      "Invalid image size. Input image width and height should be multiple of 8.\n",
      "Invalid image size. Input image width and height should be multiple of 8.\n",
      "Invalid image size. Input image width and height should be multiple of 8.\n",
      "Invalid image size. Input image width and height should be multiple of 8.\n",
      "Invalid image size. Input image width and height should be multiple of 8.\n",
      "Invalid image size. Input image width and height should be multiple of 8.\n"
     ]
    },
    {
     "name": "stderr",
     "output_type": "stream",
     "text": [
      "47it [00:40,  1.18s/it]"
     ]
    },
    {
     "name": "stdout",
     "output_type": "stream",
     "text": [
      "Invalid image size. Input image width and height should be multiple of 8.\n"
     ]
    },
    {
     "name": "stderr",
     "output_type": "stream",
     "text": [
      "50it [00:42,  1.12s/it]"
     ]
    },
    {
     "name": "stdout",
     "output_type": "stream",
     "text": [
      "Invalid image size. Input image width and height should be multiple of 8.\n"
     ]
    },
    {
     "name": "stderr",
     "output_type": "stream",
     "text": [
      "57it [00:51,  1.31s/it]"
     ]
    },
    {
     "name": "stdout",
     "output_type": "stream",
     "text": [
      "Invalid image size. Input image width and height should be multiple of 8.\n",
      "Invalid image size. Input image width and height should be multiple of 8.\n"
     ]
    },
    {
     "name": "stderr",
     "output_type": "stream",
     "text": [
      "65it [00:59,  1.31s/it]"
     ]
    },
    {
     "name": "stdout",
     "output_type": "stream",
     "text": [
      "Invalid image size. Input image width and height should be multiple of 8.\n",
      "Invalid image size. Input image width and height should be multiple of 8.\n",
      "Invalid image size. Input image width and height should be multiple of 8.\n",
      "Invalid image size. Input image width and height should be multiple of 8.\n",
      "Invalid image size. Input image width and height should be multiple of 8.\n",
      "Invalid image size. Input image width and height should be multiple of 8.\n",
      "Invalid image size. Input image width and height should be multiple of 8.\n",
      "Invalid image size. Input image width and height should be multiple of 8.\n",
      "Invalid image size. Input image width and height should be multiple of 8.\n"
     ]
    },
    {
     "name": "stderr",
     "output_type": "stream",
     "text": [
      "80it [01:07,  1.29s/it]"
     ]
    },
    {
     "name": "stdout",
     "output_type": "stream",
     "text": [
      "Invalid image size. Input image width and height should be multiple of 8.\n",
      "Invalid image size. Input image width and height should be multiple of 8.\n"
     ]
    },
    {
     "name": "stderr",
     "output_type": "stream",
     "text": [
      "88it [01:15,  1.31s/it]"
     ]
    },
    {
     "name": "stdout",
     "output_type": "stream",
     "text": [
      "Invalid image size. Input image width and height should be multiple of 8.\n"
     ]
    },
    {
     "name": "stderr",
     "output_type": "stream",
     "text": [
      "91it [01:18,  1.19s/it]"
     ]
    },
    {
     "name": "stdout",
     "output_type": "stream",
     "text": [
      "Invalid image size. Input image width and height should be multiple of 8.\n"
     ]
    },
    {
     "name": "stderr",
     "output_type": "stream",
     "text": [
      "96it [01:23,  1.26s/it]"
     ]
    },
    {
     "name": "stdout",
     "output_type": "stream",
     "text": [
      "Invalid image size. Input image width and height should be multiple of 8.\n",
      "Invalid image size. Input image width and height should be multiple of 8.\n",
      "Invalid image size. Input image width and height should be multiple of 8.\n",
      "Invalid image size. Input image width and height should be multiple of 8.\n",
      "Invalid image size. Input image width and height should be multiple of 8.\n",
      "Invalid image size. Input image width and height should be multiple of 8.\n",
      "Invalid image size. Input image width and height should be multiple of 8.\n",
      "Invalid image size. Input image width and height should be multiple of 8.\n",
      "Invalid image size. Input image width and height should be multiple of 8.\n"
     ]
    },
    {
     "name": "stderr",
     "output_type": "stream",
     "text": [
      "111it [01:32,  1.29s/it]"
     ]
    },
    {
     "name": "stdout",
     "output_type": "stream",
     "text": [
      "Invalid image size. Input image width and height should be multiple of 8.\n"
     ]
    },
    {
     "name": "stderr",
     "output_type": "stream",
     "text": [
      "114it [01:34,  1.19s/it]"
     ]
    },
    {
     "name": "stdout",
     "output_type": "stream",
     "text": [
      "Invalid image size. Input image width and height should be multiple of 8.\n"
     ]
    },
    {
     "name": "stderr",
     "output_type": "stream",
     "text": [
      "120it [01:41,  1.29s/it]"
     ]
    },
    {
     "name": "stdout",
     "output_type": "stream",
     "text": [
      "Invalid image size. Input image width and height should be multiple of 8.\n"
     ]
    },
    {
     "name": "stderr",
     "output_type": "stream",
     "text": [
      "125it [01:47,  1.27s/it]"
     ]
    },
    {
     "name": "stdout",
     "output_type": "stream",
     "text": [
      "Invalid image size. Input image width and height should be multiple of 8.\n"
     ]
    },
    {
     "name": "stderr",
     "output_type": "stream",
     "text": [
      "128it [01:50,  1.17s/it]"
     ]
    },
    {
     "name": "stdout",
     "output_type": "stream",
     "text": [
      "Invalid image size. Input image width and height should be multiple of 8.\n",
      "Invalid image size. Input image width and height should be multiple of 8.\n",
      "Invalid image size. Input image width and height should be multiple of 8.\n",
      "Invalid image size. Input image width and height should be multiple of 8.\n",
      "Invalid image size. Input image width and height should be multiple of 8.\n",
      "Invalid image size. Input image width and height should be multiple of 8.\n",
      "Invalid image size. Input image width and height should be multiple of 8.\n",
      "Invalid image size. Input image width and height should be multiple of 8.\n"
     ]
    },
    {
     "name": "stderr",
     "output_type": "stream",
     "text": [
      "143it [01:59,  1.30s/it]"
     ]
    },
    {
     "name": "stdout",
     "output_type": "stream",
     "text": [
      "Invalid image size. Input image width and height should be multiple of 8.\n"
     ]
    },
    {
     "name": "stderr",
     "output_type": "stream",
     "text": [
      "151it [02:09,  1.38s/it]"
     ]
    },
    {
     "name": "stdout",
     "output_type": "stream",
     "text": [
      "Invalid image size. Input image width and height should be multiple of 8.\n"
     ]
    },
    {
     "name": "stderr",
     "output_type": "stream",
     "text": [
      "159it [02:19,  1.43s/it]"
     ]
    },
    {
     "name": "stdout",
     "output_type": "stream",
     "text": [
      "Invalid image size. Input image width and height should be multiple of 8.\n",
      "Invalid image size. Input image width and height should be multiple of 8.\n",
      "Invalid image size. Input image width and height should be multiple of 8.\n",
      "Invalid image size. Input image width and height should be multiple of 8.\n",
      "Invalid image size. Input image width and height should be multiple of 8.\n",
      "Invalid image size. Input image width and height should be multiple of 8.\n",
      "Invalid image size. Input image width and height should be multiple of 8.\n",
      "Invalid image size. Input image width and height should be multiple of 8.\n"
     ]
    },
    {
     "name": "stderr",
     "output_type": "stream",
     "text": [
      "174it [02:29,  1.41s/it]"
     ]
    },
    {
     "name": "stdout",
     "output_type": "stream",
     "text": [
      "Invalid image size. Input image width and height should be multiple of 8.\n"
     ]
    },
    {
     "name": "stderr",
     "output_type": "stream",
     "text": [
      "182it [02:39,  1.41s/it]"
     ]
    },
    {
     "name": "stdout",
     "output_type": "stream",
     "text": [
      "Invalid image size. Input image width and height should be multiple of 8.\n"
     ]
    },
    {
     "name": "stderr",
     "output_type": "stream",
     "text": [
      "189it [02:48,  1.39s/it]"
     ]
    },
    {
     "name": "stdout",
     "output_type": "stream",
     "text": [
      "Invalid image size. Input image width and height should be multiple of 8.\n",
      "Invalid image size. Input image width and height should be multiple of 8.\n"
     ]
    },
    {
     "name": "stderr",
     "output_type": "stream",
     "text": [
      "\r",
      "192it [02:49,  1.11s/it]"
     ]
    },
    {
     "name": "stdout",
     "output_type": "stream",
     "text": [
      "Invalid image size. Input image width and height should be multiple of 8.\n",
      "Invalid image size. Input image width and height should be multiple of 8.\n",
      "Invalid image size. Input image width and height should be multiple of 8.\n",
      "Invalid image size. Input image width and height should be multiple of 8.\n",
      "Invalid image size. Input image width and height should be multiple of 8.\n",
      "Invalid image size. Input image width and height should be multiple of 8.\n"
     ]
    },
    {
     "name": "stderr",
     "output_type": "stream",
     "text": [
      "202it [02:55,  1.22s/it]"
     ]
    },
    {
     "name": "stdout",
     "output_type": "stream",
     "text": [
      "Invalid image size. Input image width and height should be multiple of 8.\n"
     ]
    },
    {
     "name": "stderr",
     "output_type": "stream",
     "text": [
      "205it [02:58,  1.17s/it]"
     ]
    },
    {
     "name": "stdout",
     "output_type": "stream",
     "text": [
      "Invalid image size. Input image width and height should be multiple of 8.\n"
     ]
    },
    {
     "name": "stderr",
     "output_type": "stream",
     "text": [
      "212it [03:06,  1.36s/it]"
     ]
    },
    {
     "name": "stdout",
     "output_type": "stream",
     "text": [
      "Invalid image size. Input image width and height should be multiple of 8.\n"
     ]
    },
    {
     "name": "stderr",
     "output_type": "stream",
     "text": [
      "220it [03:16,  1.40s/it]"
     ]
    },
    {
     "name": "stdout",
     "output_type": "stream",
     "text": [
      "Invalid image size. Input image width and height should be multiple of 8.\n",
      "Invalid image size. Input image width and height should be multiple of 8.\n",
      "Invalid image size. Input image width and height should be multiple of 8.\n",
      "Invalid image size. Input image width and height should be multiple of 8.\n"
     ]
    },
    {
     "name": "stderr",
     "output_type": "stream",
     "text": [
      "226it [03:19,  1.18s/it]"
     ]
    },
    {
     "name": "stdout",
     "output_type": "stream",
     "text": [
      "Invalid image size. Input image width and height should be multiple of 8.\n",
      "Invalid image size. Input image width and height should be multiple of 8.\n",
      "Invalid image size. Input image width and height should be multiple of 8.\n",
      "Invalid image size. Input image width and height should be multiple of 8.\n"
     ]
    },
    {
     "name": "stderr",
     "output_type": "stream",
     "text": [
      "237it [03:29,  1.37s/it]"
     ]
    },
    {
     "name": "stdout",
     "output_type": "stream",
     "text": [
      "Invalid image size. Input image width and height should be multiple of 8.\n"
     ]
    },
    {
     "name": "stderr",
     "output_type": "stream",
     "text": [
      "244it [03:38,  1.39s/it]"
     ]
    },
    {
     "name": "stdout",
     "output_type": "stream",
     "text": [
      "Invalid image size. Input image width and height should be multiple of 8.\n"
     ]
    },
    {
     "name": "stderr",
     "output_type": "stream",
     "text": [
      "252it [03:48,  1.40s/it]"
     ]
    },
    {
     "name": "stdout",
     "output_type": "stream",
     "text": [
      "Invalid image size. Input image width and height should be multiple of 8.\n",
      "Invalid image size. Input image width and height should be multiple of 8.\n",
      "Invalid image size. Input image width and height should be multiple of 8.\n",
      "Invalid image size. Input image width and height should be multiple of 8.\n",
      "Invalid image size. Input image width and height should be multiple of 8.\n",
      "Invalid image size. Input image width and height should be multiple of 8.\n"
     ]
    },
    {
     "name": "stderr",
     "output_type": "stream",
     "text": [
      "\r",
      "259it [03:49,  1.04s/it]"
     ]
    },
    {
     "name": "stdout",
     "output_type": "stream",
     "text": [
      "Invalid image size. Input image width and height should be multiple of 8.\n",
      "Invalid image size. Input image width and height should be multiple of 8.\n"
     ]
    },
    {
     "name": "stderr",
     "output_type": "stream",
     "text": [
      "267it [03:58,  1.33s/it]"
     ]
    },
    {
     "name": "stdout",
     "output_type": "stream",
     "text": [
      "Invalid image size. Input image width and height should be multiple of 8.\n"
     ]
    },
    {
     "name": "stderr",
     "output_type": "stream",
     "text": [
      "275it [04:08,  1.40s/it]"
     ]
    },
    {
     "name": "stdout",
     "output_type": "stream",
     "text": [
      "Invalid image size. Input image width and height should be multiple of 8.\n"
     ]
    },
    {
     "name": "stderr",
     "output_type": "stream",
     "text": [
      "280it [04:13,  1.35s/it]"
     ]
    },
    {
     "name": "stdout",
     "output_type": "stream",
     "text": [
      "Invalid image size. Input image width and height should be multiple of 8.\n"
     ]
    },
    {
     "name": "stderr",
     "output_type": "stream",
     "text": [
      "283it [04:16,  1.24s/it]"
     ]
    },
    {
     "name": "stdout",
     "output_type": "stream",
     "text": [
      "Invalid image size. Input image width and height should be multiple of 8.\n",
      "Invalid image size. Input image width and height should be multiple of 8.\n",
      "Invalid image size. Input image width and height should be multiple of 8.\n",
      "Invalid image size. Input image width and height should be multiple of 8.\n",
      "Invalid image size. Input image width and height should be multiple of 8.\n",
      "Invalid image size. Input image width and height should be multiple of 8.\n",
      "Invalid image size. Input image width and height should be multiple of 8.\n",
      "Invalid image size. Input image width and height should be multiple of 8.\n"
     ]
    },
    {
     "name": "stderr",
     "output_type": "stream",
     "text": [
      "298it [04:26,  1.38s/it]"
     ]
    },
    {
     "name": "stdout",
     "output_type": "stream",
     "text": [
      "Invalid image size. Input image width and height should be multiple of 8.\n"
     ]
    },
    {
     "name": "stderr",
     "output_type": "stream",
     "text": [
      "306it [04:36,  1.40s/it]"
     ]
    },
    {
     "name": "stdout",
     "output_type": "stream",
     "text": [
      "Invalid image size. Input image width and height should be multiple of 8.\n"
     ]
    },
    {
     "name": "stderr",
     "output_type": "stream",
     "text": [
      "314it [04:46,  1.40s/it]"
     ]
    },
    {
     "name": "stdout",
     "output_type": "stream",
     "text": [
      "Invalid image size. Input image width and height should be multiple of 8.\n",
      "Invalid image size. Input image width and height should be multiple of 8.\n",
      "Invalid image size. Input image width and height should be multiple of 8.\n",
      "Invalid image size. Input image width and height should be multiple of 8.\n",
      "Invalid image size. Input image width and height should be multiple of 8.\n",
      "Invalid image size. Input image width and height should be multiple of 8.\n",
      "Invalid image size. Input image width and height should be multiple of 8.\n",
      "Invalid image size. Input image width and height should be multiple of 8.\n"
     ]
    },
    {
     "name": "stderr",
     "output_type": "stream",
     "text": [
      "329it [04:56,  1.37s/it]"
     ]
    },
    {
     "name": "stdout",
     "output_type": "stream",
     "text": [
      "Invalid image size. Input image width and height should be multiple of 8.\n"
     ]
    },
    {
     "name": "stderr",
     "output_type": "stream",
     "text": [
      "335it [05:04,  1.37s/it]"
     ]
    },
    {
     "name": "stdout",
     "output_type": "stream",
     "text": [
      "Invalid image size. Input image width and height should be multiple of 8.\n"
     ]
    },
    {
     "name": "stderr",
     "output_type": "stream",
     "text": [
      "338it [05:06,  1.25s/it]"
     ]
    },
    {
     "name": "stdout",
     "output_type": "stream",
     "text": [
      "Invalid image size. Input image width and height should be multiple of 8.\n"
     ]
    },
    {
     "name": "stderr",
     "output_type": "stream",
     "text": [
      "345it [05:15,  1.37s/it]"
     ]
    },
    {
     "name": "stdout",
     "output_type": "stream",
     "text": [
      "Invalid image size. Input image width and height should be multiple of 8.\n",
      "Invalid image size. Input image width and height should be multiple of 8.\n"
     ]
    },
    {
     "name": "stderr",
     "output_type": "stream",
     "text": [
      "\r",
      "348it [05:16,  1.10s/it]"
     ]
    },
    {
     "name": "stdout",
     "output_type": "stream",
     "text": [
      "Invalid image size. Input image width and height should be multiple of 8.\n",
      "Invalid image size. Input image width and height should be multiple of 8.\n",
      "Invalid image size. Input image width and height should be multiple of 8.\n",
      "Invalid image size. Input image width and height should be multiple of 8.\n",
      "Invalid image size. Input image width and height should be multiple of 8.\n",
      "Invalid image size. Input image width and height should be multiple of 8.\n"
     ]
    },
    {
     "name": "stderr",
     "output_type": "stream",
     "text": [
      "358it [05:22,  1.23s/it]"
     ]
    },
    {
     "name": "stdout",
     "output_type": "stream",
     "text": [
      "Invalid image size. Input image width and height should be multiple of 8.\n"
     ]
    },
    {
     "name": "stderr",
     "output_type": "stream",
     "text": [
      "361it [05:25,  1.16s/it]"
     ]
    },
    {
     "name": "stdout",
     "output_type": "stream",
     "text": [
      "Invalid image size. Input image width and height should be multiple of 8.\n"
     ]
    },
    {
     "name": "stderr",
     "output_type": "stream",
     "text": [
      "368it [05:33,  1.34s/it]"
     ]
    },
    {
     "name": "stdout",
     "output_type": "stream",
     "text": [
      "Invalid image size. Input image width and height should be multiple of 8.\n",
      "Invalid image size. Input image width and height should be multiple of 8.\n"
     ]
    },
    {
     "name": "stderr",
     "output_type": "stream",
     "text": [
      "376it [05:42,  1.38s/it]"
     ]
    },
    {
     "name": "stdout",
     "output_type": "stream",
     "text": [
      "Invalid image size. Input image width and height should be multiple of 8.\n",
      "Invalid image size. Input image width and height should be multiple of 8.\n",
      "Invalid image size. Input image width and height should be multiple of 8.\n",
      "Invalid image size. Input image width and height should be multiple of 8.\n",
      "Invalid image size. Input image width and height should be multiple of 8.\n",
      "Invalid image size. Input image width and height should be multiple of 8.\n",
      "Invalid image size. Input image width and height should be multiple of 8.\n",
      "Invalid image size. Input image width and height should be multiple of 8.\n",
      "Invalid image size. Input image width and height should be multiple of 8.\n"
     ]
    },
    {
     "name": "stderr",
     "output_type": "stream",
     "text": [
      "391it [05:51,  1.36s/it]"
     ]
    },
    {
     "name": "stdout",
     "output_type": "stream",
     "text": [
      "Invalid image size. Input image width and height should be multiple of 8.\n",
      "Invalid image size. Input image width and height should be multiple of 8.\n"
     ]
    },
    {
     "name": "stderr",
     "output_type": "stream",
     "text": [
      "399it [05:59,  1.38s/it]"
     ]
    },
    {
     "name": "stdout",
     "output_type": "stream",
     "text": [
      "Invalid image size. Input image width and height should be multiple of 8.\n"
     ]
    },
    {
     "name": "stderr",
     "output_type": "stream",
     "text": [
      "402it [06:02,  1.26s/it]"
     ]
    },
    {
     "name": "stdout",
     "output_type": "stream",
     "text": [
      "Invalid image size. Input image width and height should be multiple of 8.\n"
     ]
    },
    {
     "name": "stderr",
     "output_type": "stream",
     "text": [
      "407it [06:08,  1.31s/it]"
     ]
    },
    {
     "name": "stdout",
     "output_type": "stream",
     "text": [
      "Invalid image size. Input image width and height should be multiple of 8.\n",
      "Invalid image size. Input image width and height should be multiple of 8.\n",
      "Invalid image size. Input image width and height should be multiple of 8.\n",
      "Invalid image size. Input image width and height should be multiple of 8.\n",
      "Invalid image size. Input image width and height should be multiple of 8.\n",
      "Invalid image size. Input image width and height should be multiple of 8.\n",
      "Invalid image size. Input image width and height should be multiple of 8.\n",
      "Invalid image size. Input image width and height should be multiple of 8.\n",
      "Invalid image size. Input image width and height should be multiple of 8.\n"
     ]
    },
    {
     "name": "stderr",
     "output_type": "stream",
     "text": [
      "422it [06:17,  1.36s/it]"
     ]
    },
    {
     "name": "stdout",
     "output_type": "stream",
     "text": [
      "Invalid image size. Input image width and height should be multiple of 8.\n"
     ]
    },
    {
     "name": "stderr",
     "output_type": "stream",
     "text": [
      "\r",
      "424it [06:18,  1.16s/it]"
     ]
    },
    {
     "name": "stdout",
     "output_type": "stream",
     "text": [
      "Invalid image size. Input image width and height should be multiple of 8.\n"
     ]
    },
    {
     "name": "stderr",
     "output_type": "stream",
     "text": [
      "430it [06:25,  1.34s/it]"
     ]
    },
    {
     "name": "stdout",
     "output_type": "stream",
     "text": [
      "Invalid image size. Input image width and height should be multiple of 8.\n"
     ]
    },
    {
     "name": "stderr",
     "output_type": "stream",
     "text": [
      "435it [06:31,  1.37s/it]"
     ]
    },
    {
     "name": "stdout",
     "output_type": "stream",
     "text": [
      "Invalid image size. Input image width and height should be multiple of 8.\n"
     ]
    },
    {
     "name": "stderr",
     "output_type": "stream",
     "text": [
      "438it [06:34,  1.25s/it]"
     ]
    },
    {
     "name": "stdout",
     "output_type": "stream",
     "text": [
      "Invalid image size. Input image width and height should be multiple of 8.\n",
      "Invalid image size. Input image width and height should be multiple of 8.\n",
      "Invalid image size. Input image width and height should be multiple of 8.\n",
      "Invalid image size. Input image width and height should be multiple of 8.\n",
      "Invalid image size. Input image width and height should be multiple of 8.\n",
      "Invalid image size. Input image width and height should be multiple of 8.\n",
      "Invalid image size. Input image width and height should be multiple of 8.\n",
      "Invalid image size. Input image width and height should be multiple of 8.\n"
     ]
    },
    {
     "name": "stderr",
     "output_type": "stream",
     "text": [
      "454it [06:45,  1.39s/it]"
     ]
    },
    {
     "name": "stdout",
     "output_type": "stream",
     "text": [
      "Invalid image size. Input image width and height should be multiple of 8.\n"
     ]
    },
    {
     "name": "stderr",
     "output_type": "stream",
     "text": [
      "462it [06:56,  1.40s/it]"
     ]
    },
    {
     "name": "stdout",
     "output_type": "stream",
     "text": [
      "Invalid image size. Input image width and height should be multiple of 8.\n"
     ]
    },
    {
     "name": "stderr",
     "output_type": "stream",
     "text": [
      "470it [07:06,  1.41s/it]"
     ]
    },
    {
     "name": "stdout",
     "output_type": "stream",
     "text": [
      "Invalid image size. Input image width and height should be multiple of 8.\n",
      "Invalid image size. Input image width and height should be multiple of 8.\n",
      "Invalid image size. Input image width and height should be multiple of 8.\n",
      "Invalid image size. Input image width and height should be multiple of 8.\n",
      "Invalid image size. Input image width and height should be multiple of 8.\n",
      "Invalid image size. Input image width and height should be multiple of 8.\n",
      "Invalid image size. Input image width and height should be multiple of 8.\n",
      "Invalid image size. Input image width and height should be multiple of 8.\n"
     ]
    },
    {
     "name": "stderr",
     "output_type": "stream",
     "text": [
      "485it [07:16,  1.39s/it]"
     ]
    },
    {
     "name": "stdout",
     "output_type": "stream",
     "text": [
      "Invalid image size. Input image width and height should be multiple of 8.\n"
     ]
    },
    {
     "name": "stderr",
     "output_type": "stream",
     "text": [
      "493it [07:26,  1.41s/it]"
     ]
    },
    {
     "name": "stdout",
     "output_type": "stream",
     "text": [
      "Invalid image size. Input image width and height should be multiple of 8.\n"
     ]
    },
    {
     "name": "stderr",
     "output_type": "stream",
     "text": [
      "500it [07:34,  1.40s/it]"
     ]
    },
    {
     "name": "stdout",
     "output_type": "stream",
     "text": [
      "Invalid image size. Input image width and height should be multiple of 8.\n",
      "Invalid image size. Input image width and height should be multiple of 8.\n"
     ]
    },
    {
     "name": "stderr",
     "output_type": "stream",
     "text": [
      "\r",
      "503it [07:36,  1.12s/it]"
     ]
    },
    {
     "name": "stdout",
     "output_type": "stream",
     "text": [
      "Invalid image size. Input image width and height should be multiple of 8.\n",
      "Invalid image size. Input image width and height should be multiple of 8.\n",
      "Invalid image size. Input image width and height should be multiple of 8.\n",
      "Invalid image size. Input image width and height should be multiple of 8.\n",
      "Invalid image size. Input image width and height should be multiple of 8.\n",
      "Invalid image size. Input image width and height should be multiple of 8.\n"
     ]
    },
    {
     "name": "stderr",
     "output_type": "stream",
     "text": [
      "513it [07:41,  1.23s/it]"
     ]
    },
    {
     "name": "stdout",
     "output_type": "stream",
     "text": [
      "Invalid image size. Input image width and height should be multiple of 8.\n"
     ]
    },
    {
     "name": "stderr",
     "output_type": "stream",
     "text": [
      "516it [07:44,  1.19s/it]"
     ]
    },
    {
     "name": "stdout",
     "output_type": "stream",
     "text": [
      "Invalid image size. Input image width and height should be multiple of 8.\n"
     ]
    },
    {
     "name": "stderr",
     "output_type": "stream",
     "text": [
      "523it [07:53,  1.39s/it]"
     ]
    },
    {
     "name": "stdout",
     "output_type": "stream",
     "text": [
      "Invalid image size. Input image width and height should be multiple of 8.\n"
     ]
    },
    {
     "name": "stderr",
     "output_type": "stream",
     "text": [
      "531it [08:03,  1.42s/it]"
     ]
    },
    {
     "name": "stdout",
     "output_type": "stream",
     "text": [
      "Invalid image size. Input image width and height should be multiple of 8.\n",
      "Invalid image size. Input image width and height should be multiple of 8.\n",
      "Invalid image size. Input image width and height should be multiple of 8.\n",
      "Invalid image size. Input image width and height should be multiple of 8.\n"
     ]
    },
    {
     "name": "stderr",
     "output_type": "stream",
     "text": [
      "\r",
      "536it [08:05,  1.08s/it]"
     ]
    },
    {
     "name": "stdout",
     "output_type": "stream",
     "text": [
      "Invalid image size. Input image width and height should be multiple of 8.\n",
      "Invalid image size. Input image width and height should be multiple of 8.\n",
      "Invalid image size. Input image width and height should be multiple of 8.\n",
      "Invalid image size. Input image width and height should be multiple of 8.\n"
     ]
    },
    {
     "name": "stderr",
     "output_type": "stream",
     "text": [
      "547it [08:15,  1.37s/it]"
     ]
    },
    {
     "name": "stdout",
     "output_type": "stream",
     "text": [
      "Invalid image size. Input image width and height should be multiple of 8.\n"
     ]
    },
    {
     "name": "stderr",
     "output_type": "stream",
     "text": [
      "554it [08:23,  1.40s/it]"
     ]
    },
    {
     "name": "stdout",
     "output_type": "stream",
     "text": [
      "Invalid image size. Input image width and height should be multiple of 8.\n"
     ]
    },
    {
     "name": "stderr",
     "output_type": "stream",
     "text": [
      "563it [08:35,  1.43s/it]"
     ]
    },
    {
     "name": "stdout",
     "output_type": "stream",
     "text": [
      "Invalid image size. Input image width and height should be multiple of 8.\n",
      "Invalid image size. Input image width and height should be multiple of 8.\n",
      "Invalid image size. Input image width and height should be multiple of 8.\n",
      "Invalid image size. Input image width and height should be multiple of 8.\n",
      "Invalid image size. Input image width and height should be multiple of 8.\n",
      "Invalid image size. Input image width and height should be multiple of 8.\n"
     ]
    },
    {
     "name": "stderr",
     "output_type": "stream",
     "text": [
      "\r",
      "570it [08:36,  1.06s/it]"
     ]
    },
    {
     "name": "stdout",
     "output_type": "stream",
     "text": [
      "Invalid image size. Input image width and height should be multiple of 8.\n",
      "Invalid image size. Input image width and height should be multiple of 8.\n"
     ]
    },
    {
     "name": "stderr",
     "output_type": "stream",
     "text": [
      "578it [08:45,  1.34s/it]"
     ]
    },
    {
     "name": "stdout",
     "output_type": "stream",
     "text": [
      "Invalid image size. Input image width and height should be multiple of 8.\n"
     ]
    },
    {
     "name": "stderr",
     "output_type": "stream",
     "text": [
      "586it [08:55,  1.42s/it]"
     ]
    },
    {
     "name": "stdout",
     "output_type": "stream",
     "text": [
      "Invalid image size. Input image width and height should be multiple of 8.\n"
     ]
    },
    {
     "name": "stderr",
     "output_type": "stream",
     "text": [
      "591it [09:01,  1.37s/it]"
     ]
    },
    {
     "name": "stdout",
     "output_type": "stream",
     "text": [
      "Invalid image size. Input image width and height should be multiple of 8.\n"
     ]
    },
    {
     "name": "stderr",
     "output_type": "stream",
     "text": [
      "594it [09:04,  1.26s/it]"
     ]
    },
    {
     "name": "stdout",
     "output_type": "stream",
     "text": [
      "Invalid image size. Input image width and height should be multiple of 8.\n",
      "Invalid image size. Input image width and height should be multiple of 8.\n",
      "Invalid image size. Input image width and height should be multiple of 8.\n",
      "Invalid image size. Input image width and height should be multiple of 8.\n",
      "Invalid image size. Input image width and height should be multiple of 8.\n",
      "Invalid image size. Input image width and height should be multiple of 8.\n",
      "Invalid image size. Input image width and height should be multiple of 8.\n",
      "Invalid image size. Input image width and height should be multiple of 8.\n"
     ]
    },
    {
     "name": "stderr",
     "output_type": "stream",
     "text": [
      "609it [09:14,  1.37s/it]"
     ]
    },
    {
     "name": "stdout",
     "output_type": "stream",
     "text": [
      "Invalid image size. Input image width and height should be multiple of 8.\n"
     ]
    },
    {
     "name": "stderr",
     "output_type": "stream",
     "text": [
      "617it [09:24,  1.40s/it]"
     ]
    },
    {
     "name": "stdout",
     "output_type": "stream",
     "text": [
      "Invalid image size. Input image width and height should be multiple of 8.\n"
     ]
    },
    {
     "name": "stderr",
     "output_type": "stream",
     "text": [
      "625it [09:34,  1.42s/it]"
     ]
    },
    {
     "name": "stdout",
     "output_type": "stream",
     "text": [
      "Invalid image size. Input image width and height should be multiple of 8.\n",
      "Invalid image size. Input image width and height should be multiple of 8.\n",
      "Invalid image size. Input image width and height should be multiple of 8.\n",
      "Invalid image size. Input image width and height should be multiple of 8.\n",
      "Invalid image size. Input image width and height should be multiple of 8.\n",
      "Invalid image size. Input image width and height should be multiple of 8.\n",
      "Invalid image size. Input image width and height should be multiple of 8.\n",
      "Invalid image size. Input image width and height should be multiple of 8.\n"
     ]
    },
    {
     "name": "stderr",
     "output_type": "stream",
     "text": [
      "640it [09:44,  1.40s/it]"
     ]
    },
    {
     "name": "stdout",
     "output_type": "stream",
     "text": [
      "Invalid image size. Input image width and height should be multiple of 8.\n"
     ]
    },
    {
     "name": "stderr",
     "output_type": "stream",
     "text": [
      "648it [09:54,  1.41s/it]"
     ]
    },
    {
     "name": "stdout",
     "output_type": "stream",
     "text": [
      "Invalid image size. Input image width and height should be multiple of 8.\n"
     ]
    },
    {
     "name": "stderr",
     "output_type": "stream",
     "text": [
      "655it [10:03,  1.41s/it]"
     ]
    },
    {
     "name": "stdout",
     "output_type": "stream",
     "text": [
      "Invalid image size. Input image width and height should be multiple of 8.\n",
      "Invalid image size. Input image width and height should be multiple of 8.\n"
     ]
    },
    {
     "name": "stderr",
     "output_type": "stream",
     "text": [
      "\r",
      "658it [10:05,  1.13s/it]"
     ]
    },
    {
     "name": "stdout",
     "output_type": "stream",
     "text": [
      "Invalid image size. Input image width and height should be multiple of 8.\n",
      "Invalid image size. Input image width and height should be multiple of 8.\n",
      "Invalid image size. Input image width and height should be multiple of 8.\n",
      "Invalid image size. Input image width and height should be multiple of 8.\n",
      "Invalid image size. Input image width and height should be multiple of 8.\n",
      "Invalid image size. Input image width and height should be multiple of 8.\n"
     ]
    },
    {
     "name": "stderr",
     "output_type": "stream",
     "text": [
      "669it [10:12,  1.30s/it]"
     ]
    },
    {
     "name": "stdout",
     "output_type": "stream",
     "text": [
      "Invalid image size. Input image width and height should be multiple of 8.\n"
     ]
    },
    {
     "name": "stderr",
     "output_type": "stream",
     "text": [
      "672it [10:15,  1.23s/it]"
     ]
    },
    {
     "name": "stdout",
     "output_type": "stream",
     "text": [
      "Invalid image size. Input image width and height should be multiple of 8.\n"
     ]
    },
    {
     "name": "stderr",
     "output_type": "stream",
     "text": [
      "679it [10:24,  1.39s/it]"
     ]
    },
    {
     "name": "stdout",
     "output_type": "stream",
     "text": [
      "Invalid image size. Input image width and height should be multiple of 8.\n",
      "Invalid image size. Input image width and height should be multiple of 8.\n"
     ]
    },
    {
     "name": "stderr",
     "output_type": "stream",
     "text": [
      "687it [10:32,  1.35s/it]"
     ]
    },
    {
     "name": "stdout",
     "output_type": "stream",
     "text": [
      "Invalid image size. Input image width and height should be multiple of 8.\n",
      "Invalid image size. Input image width and height should be multiple of 8.\n",
      "Invalid image size. Input image width and height should be multiple of 8.\n",
      "Invalid image size. Input image width and height should be multiple of 8.\n",
      "Invalid image size. Input image width and height should be multiple of 8.\n",
      "Invalid image size. Input image width and height should be multiple of 8.\n",
      "Invalid image size. Input image width and height should be multiple of 8.\n",
      "Invalid image size. Input image width and height should be multiple of 8.\n",
      "Invalid image size. Input image width and height should be multiple of 8.\n"
     ]
    },
    {
     "name": "stderr",
     "output_type": "stream",
     "text": [
      "702it [10:41,  1.35s/it]"
     ]
    },
    {
     "name": "stdout",
     "output_type": "stream",
     "text": [
      "Invalid image size. Input image width and height should be multiple of 8.\n",
      "Invalid image size. Input image width and height should be multiple of 8.\n"
     ]
    },
    {
     "name": "stderr",
     "output_type": "stream",
     "text": [
      "710it [10:49,  1.40s/it]"
     ]
    },
    {
     "name": "stdout",
     "output_type": "stream",
     "text": [
      "Invalid image size. Input image width and height should be multiple of 8.\n"
     ]
    },
    {
     "name": "stderr",
     "output_type": "stream",
     "text": [
      "713it [10:52,  1.30s/it]"
     ]
    },
    {
     "name": "stdout",
     "output_type": "stream",
     "text": [
      "Invalid image size. Input image width and height should be multiple of 8.\n"
     ]
    },
    {
     "name": "stderr",
     "output_type": "stream",
     "text": [
      "718it [10:58,  1.37s/it]"
     ]
    },
    {
     "name": "stdout",
     "output_type": "stream",
     "text": [
      "Invalid image size. Input image width and height should be multiple of 8.\n",
      "Invalid image size. Input image width and height should be multiple of 8.\n",
      "Invalid image size. Input image width and height should be multiple of 8.\n",
      "Invalid image size. Input image width and height should be multiple of 8.\n",
      "Invalid image size. Input image width and height should be multiple of 8.\n",
      "Invalid image size. Input image width and height should be multiple of 8.\n",
      "Invalid image size. Input image width and height should be multiple of 8.\n",
      "Invalid image size. Input image width and height should be multiple of 8.\n",
      "Invalid image size. Input image width and height should be multiple of 8.\n"
     ]
    },
    {
     "name": "stderr",
     "output_type": "stream",
     "text": [
      "733it [11:07,  1.42s/it]"
     ]
    },
    {
     "name": "stdout",
     "output_type": "stream",
     "text": [
      "Invalid image size. Input image width and height should be multiple of 8.\n"
     ]
    },
    {
     "name": "stderr",
     "output_type": "stream",
     "text": [
      "\r",
      "735it [11:09,  1.22s/it]"
     ]
    },
    {
     "name": "stdout",
     "output_type": "stream",
     "text": [
      "Invalid image size. Input image width and height should be multiple of 8.\n"
     ]
    },
    {
     "name": "stderr",
     "output_type": "stream",
     "text": [
      "741it [11:16,  1.42s/it]"
     ]
    },
    {
     "name": "stdout",
     "output_type": "stream",
     "text": [
      "Invalid image size. Input image width and height should be multiple of 8.\n"
     ]
    },
    {
     "name": "stderr",
     "output_type": "stream",
     "text": [
      "746it [11:22,  1.40s/it]"
     ]
    },
    {
     "name": "stdout",
     "output_type": "stream",
     "text": [
      "Invalid image size. Input image width and height should be multiple of 8.\n"
     ]
    },
    {
     "name": "stderr",
     "output_type": "stream",
     "text": [
      "749it [11:25,  1.29s/it]"
     ]
    },
    {
     "name": "stdout",
     "output_type": "stream",
     "text": [
      "Invalid image size. Input image width and height should be multiple of 8.\n",
      "Invalid image size. Input image width and height should be multiple of 8.\n",
      "Invalid image size. Input image width and height should be multiple of 8.\n",
      "Invalid image size. Input image width and height should be multiple of 8.\n",
      "Invalid image size. Input image width and height should be multiple of 8.\n",
      "Invalid image size. Input image width and height should be multiple of 8.\n",
      "Invalid image size. Input image width and height should be multiple of 8.\n",
      "Invalid image size. Input image width and height should be multiple of 8.\n"
     ]
    },
    {
     "name": "stderr",
     "output_type": "stream",
     "text": [
      "764it [11:36,  1.42s/it]"
     ]
    },
    {
     "name": "stdout",
     "output_type": "stream",
     "text": [
      "Invalid image size. Input image width and height should be multiple of 8.\n"
     ]
    },
    {
     "name": "stderr",
     "output_type": "stream",
     "text": [
      "772it [11:46,  1.46s/it]"
     ]
    },
    {
     "name": "stdout",
     "output_type": "stream",
     "text": [
      "Invalid image size. Input image width and height should be multiple of 8.\n"
     ]
    },
    {
     "name": "stderr",
     "output_type": "stream",
     "text": [
      "781it [11:58,  1.43s/it]"
     ]
    },
    {
     "name": "stdout",
     "output_type": "stream",
     "text": [
      "Invalid image size. Input image width and height should be multiple of 8.\n",
      "Invalid image size. Input image width and height should be multiple of 8.\n",
      "Invalid image size. Input image width and height should be multiple of 8.\n",
      "Invalid image size. Input image width and height should be multiple of 8.\n",
      "Invalid image size. Input image width and height should be multiple of 8.\n",
      "Invalid image size. Input image width and height should be multiple of 8.\n",
      "Invalid image size. Input image width and height should be multiple of 8.\n",
      "Invalid image size. Input image width and height should be multiple of 8.\n"
     ]
    },
    {
     "name": "stderr",
     "output_type": "stream",
     "text": [
      "796it [12:08,  1.42s/it]"
     ]
    },
    {
     "name": "stdout",
     "output_type": "stream",
     "text": [
      "Invalid image size. Input image width and height should be multiple of 8.\n"
     ]
    },
    {
     "name": "stderr",
     "output_type": "stream",
     "text": [
      "804it [12:18,  1.43s/it]"
     ]
    },
    {
     "name": "stdout",
     "output_type": "stream",
     "text": [
      "Invalid image size. Input image width and height should be multiple of 8.\n"
     ]
    },
    {
     "name": "stderr",
     "output_type": "stream",
     "text": [
      "811it [12:27,  1.39s/it]"
     ]
    },
    {
     "name": "stdout",
     "output_type": "stream",
     "text": [
      "Invalid image size. Input image width and height should be multiple of 8.\n",
      "Invalid image size. Input image width and height should be multiple of 8.\n"
     ]
    },
    {
     "name": "stderr",
     "output_type": "stream",
     "text": [
      "\r",
      "814it [12:28,  1.12s/it]"
     ]
    },
    {
     "name": "stdout",
     "output_type": "stream",
     "text": [
      "Invalid image size. Input image width and height should be multiple of 8.\n",
      "Invalid image size. Input image width and height should be multiple of 8.\n",
      "Invalid image size. Input image width and height should be multiple of 8.\n",
      "Invalid image size. Input image width and height should be multiple of 8.\n",
      "Invalid image size. Input image width and height should be multiple of 8.\n",
      "Invalid image size. Input image width and height should be multiple of 8.\n"
     ]
    },
    {
     "name": "stderr",
     "output_type": "stream",
     "text": [
      "824it [12:34,  1.21s/it]"
     ]
    },
    {
     "name": "stdout",
     "output_type": "stream",
     "text": [
      "Invalid image size. Input image width and height should be multiple of 8.\n"
     ]
    },
    {
     "name": "stderr",
     "output_type": "stream",
     "text": [
      "827it [12:37,  1.17s/it]"
     ]
    },
    {
     "name": "stdout",
     "output_type": "stream",
     "text": [
      "Invalid image size. Input image width and height should be multiple of 8.\n"
     ]
    },
    {
     "name": "stderr",
     "output_type": "stream",
     "text": [
      "834it [12:46,  1.36s/it]"
     ]
    },
    {
     "name": "stdout",
     "output_type": "stream",
     "text": [
      "Invalid image size. Input image width and height should be multiple of 8.\n"
     ]
    },
    {
     "name": "stderr",
     "output_type": "stream",
     "text": [
      "842it [12:55,  1.38s/it]"
     ]
    },
    {
     "name": "stdout",
     "output_type": "stream",
     "text": [
      "Invalid image size. Input image width and height should be multiple of 8.\n",
      "Invalid image size. Input image width and height should be multiple of 8.\n",
      "Invalid image size. Input image width and height should be multiple of 8.\n",
      "Invalid image size. Input image width and height should be multiple of 8.\n"
     ]
    },
    {
     "name": "stderr",
     "output_type": "stream",
     "text": [
      "\r",
      "847it [12:57,  1.05s/it]"
     ]
    },
    {
     "name": "stdout",
     "output_type": "stream",
     "text": [
      "Invalid image size. Input image width and height should be multiple of 8.\n",
      "Invalid image size. Input image width and height should be multiple of 8.\n",
      "Invalid image size. Input image width and height should be multiple of 8.\n",
      "Invalid image size. Input image width and height should be multiple of 8.\n"
     ]
    },
    {
     "name": "stderr",
     "output_type": "stream",
     "text": [
      "858it [13:07,  1.32s/it]"
     ]
    },
    {
     "name": "stdout",
     "output_type": "stream",
     "text": [
      "Invalid image size. Input image width and height should be multiple of 8.\n"
     ]
    },
    {
     "name": "stderr",
     "output_type": "stream",
     "text": [
      "865it [13:15,  1.37s/it]"
     ]
    },
    {
     "name": "stdout",
     "output_type": "stream",
     "text": [
      "Invalid image size. Input image width and height should be multiple of 8.\n"
     ]
    },
    {
     "name": "stderr",
     "output_type": "stream",
     "text": [
      "873it [13:25,  1.37s/it]"
     ]
    },
    {
     "name": "stdout",
     "output_type": "stream",
     "text": [
      "Invalid image size. Input image width and height should be multiple of 8.\n",
      "Invalid image size. Input image width and height should be multiple of 8.\n",
      "Invalid image size. Input image width and height should be multiple of 8.\n",
      "Invalid image size. Input image width and height should be multiple of 8.\n",
      "Invalid image size. Input image width and height should be multiple of 8.\n",
      "Invalid image size. Input image width and height should be multiple of 8.\n"
     ]
    },
    {
     "name": "stderr",
     "output_type": "stream",
     "text": [
      "\r",
      "880it [13:26,  1.02s/it]"
     ]
    },
    {
     "name": "stdout",
     "output_type": "stream",
     "text": [
      "Invalid image size. Input image width and height should be multiple of 8.\n",
      "Invalid image size. Input image width and height should be multiple of 8.\n"
     ]
    },
    {
     "name": "stderr",
     "output_type": "stream",
     "text": [
      "888it [13:35,  1.31s/it]"
     ]
    },
    {
     "name": "stdout",
     "output_type": "stream",
     "text": [
      "Invalid image size. Input image width and height should be multiple of 8.\n"
     ]
    },
    {
     "name": "stderr",
     "output_type": "stream",
     "text": [
      "897it [13:46,  1.37s/it]"
     ]
    },
    {
     "name": "stdout",
     "output_type": "stream",
     "text": [
      "Invalid image size. Input image width and height should be multiple of 8.\n"
     ]
    },
    {
     "name": "stderr",
     "output_type": "stream",
     "text": [
      "902it [13:51,  1.33s/it]"
     ]
    },
    {
     "name": "stdout",
     "output_type": "stream",
     "text": [
      "Invalid image size. Input image width and height should be multiple of 8.\n"
     ]
    },
    {
     "name": "stderr",
     "output_type": "stream",
     "text": [
      "905it [13:54,  1.22s/it]"
     ]
    },
    {
     "name": "stdout",
     "output_type": "stream",
     "text": [
      "Invalid image size. Input image width and height should be multiple of 8.\n",
      "Invalid image size. Input image width and height should be multiple of 8.\n",
      "Invalid image size. Input image width and height should be multiple of 8.\n",
      "Invalid image size. Input image width and height should be multiple of 8.\n",
      "Invalid image size. Input image width and height should be multiple of 8.\n",
      "Invalid image size. Input image width and height should be multiple of 8.\n",
      "Invalid image size. Input image width and height should be multiple of 8.\n",
      "Invalid image size. Input image width and height should be multiple of 8.\n"
     ]
    },
    {
     "name": "stderr",
     "output_type": "stream",
     "text": [
      "920it [14:04,  1.34s/it]"
     ]
    },
    {
     "name": "stdout",
     "output_type": "stream",
     "text": [
      "Invalid image size. Input image width and height should be multiple of 8.\n"
     ]
    },
    {
     "name": "stderr",
     "output_type": "stream",
     "text": [
      "928it [14:14,  1.39s/it]"
     ]
    },
    {
     "name": "stdout",
     "output_type": "stream",
     "text": [
      "Invalid image size. Input image width and height should be multiple of 8.\n"
     ]
    },
    {
     "name": "stderr",
     "output_type": "stream",
     "text": [
      "936it [14:24,  1.40s/it]"
     ]
    },
    {
     "name": "stdout",
     "output_type": "stream",
     "text": [
      "Invalid image size. Input image width and height should be multiple of 8.\n",
      "Invalid image size. Input image width and height should be multiple of 8.\n",
      "Invalid image size. Input image width and height should be multiple of 8.\n",
      "Invalid image size. Input image width and height should be multiple of 8.\n",
      "Invalid image size. Input image width and height should be multiple of 8.\n",
      "Invalid image size. Input image width and height should be multiple of 8.\n",
      "Invalid image size. Input image width and height should be multiple of 8.\n",
      "Invalid image size. Input image width and height should be multiple of 8.\n"
     ]
    },
    {
     "name": "stderr",
     "output_type": "stream",
     "text": [
      "951it [14:34,  1.39s/it]"
     ]
    },
    {
     "name": "stdout",
     "output_type": "stream",
     "text": [
      "Invalid image size. Input image width and height should be multiple of 8.\n"
     ]
    },
    {
     "name": "stderr",
     "output_type": "stream",
     "text": [
      "959it [14:44,  1.42s/it]"
     ]
    },
    {
     "name": "stdout",
     "output_type": "stream",
     "text": [
      "Invalid image size. Input image width and height should be multiple of 8.\n"
     ]
    },
    {
     "name": "stderr",
     "output_type": "stream",
     "text": [
      "966it [14:53,  1.41s/it]"
     ]
    },
    {
     "name": "stdout",
     "output_type": "stream",
     "text": [
      "Invalid image size. Input image width and height should be multiple of 8.\n",
      "Invalid image size. Input image width and height should be multiple of 8.\n"
     ]
    },
    {
     "name": "stderr",
     "output_type": "stream",
     "text": [
      "\r",
      "969it [14:54,  1.13s/it]"
     ]
    },
    {
     "name": "stdout",
     "output_type": "stream",
     "text": [
      "Invalid image size. Input image width and height should be multiple of 8.\n",
      "Invalid image size. Input image width and height should be multiple of 8.\n",
      "Invalid image size. Input image width and height should be multiple of 8.\n",
      "Invalid image size. Input image width and height should be multiple of 8.\n",
      "Invalid image size. Input image width and height should be multiple of 8.\n",
      "Invalid image size. Input image width and height should be multiple of 8.\n"
     ]
    },
    {
     "name": "stderr",
     "output_type": "stream",
     "text": [
      "979it [15:00,  1.23s/it]"
     ]
    },
    {
     "name": "stdout",
     "output_type": "stream",
     "text": [
      "Invalid image size. Input image width and height should be multiple of 8.\n"
     ]
    },
    {
     "name": "stderr",
     "output_type": "stream",
     "text": [
      "982it [15:03,  1.19s/it]"
     ]
    },
    {
     "name": "stdout",
     "output_type": "stream",
     "text": [
      "Invalid image size. Input image width and height should be multiple of 8.\n"
     ]
    },
    {
     "name": "stderr",
     "output_type": "stream",
     "text": [
      "989it [15:12,  1.40s/it]"
     ]
    },
    {
     "name": "stdout",
     "output_type": "stream",
     "text": [
      "Invalid image size. Input image width and height should be multiple of 8.\n",
      "Invalid image size. Input image width and height should be multiple of 8.\n"
     ]
    },
    {
     "name": "stderr",
     "output_type": "stream",
     "text": [
      "997it [15:20,  1.38s/it]"
     ]
    },
    {
     "name": "stdout",
     "output_type": "stream",
     "text": [
      "Invalid image size. Input image width and height should be multiple of 8.\n",
      "Invalid image size. Input image width and height should be multiple of 8.\n",
      "Invalid image size. Input image width and height should be multiple of 8.\n",
      "Invalid image size. Input image width and height should be multiple of 8.\n"
     ]
    },
    {
     "name": "stderr",
     "output_type": "stream",
     "text": [
      "\r",
      "1002it [15:22,  1.05s/it]"
     ]
    },
    {
     "name": "stdout",
     "output_type": "stream",
     "text": [
      "Invalid image size. Input image width and height should be multiple of 8.\n",
      "Invalid image size. Input image width and height should be multiple of 8.\n",
      "Invalid image size. Input image width and height should be multiple of 8.\n",
      "Invalid image size. Input image width and height should be multiple of 8.\n",
      "Invalid image size. Input image width and height should be multiple of 8.\n"
     ]
    },
    {
     "name": "stderr",
     "output_type": "stream",
     "text": [
      "1013it [15:30,  1.32s/it]"
     ]
    },
    {
     "name": "stdout",
     "output_type": "stream",
     "text": [
      "Invalid image size. Input image width and height should be multiple of 8.\n",
      "Invalid image size. Input image width and height should be multiple of 8.\n"
     ]
    },
    {
     "name": "stderr",
     "output_type": "stream",
     "text": [
      "1021it [15:39,  1.39s/it]"
     ]
    },
    {
     "name": "stdout",
     "output_type": "stream",
     "text": [
      "Invalid image size. Input image width and height should be multiple of 8.\n"
     ]
    },
    {
     "name": "stderr",
     "output_type": "stream",
     "text": [
      "1024it [15:42,  1.27s/it]"
     ]
    },
    {
     "name": "stdout",
     "output_type": "stream",
     "text": [
      "Invalid image size. Input image width and height should be multiple of 8.\n"
     ]
    },
    {
     "name": "stderr",
     "output_type": "stream",
     "text": [
      "1029it [15:48,  1.36s/it]"
     ]
    },
    {
     "name": "stdout",
     "output_type": "stream",
     "text": [
      "Invalid image size. Input image width and height should be multiple of 8.\n",
      "Invalid image size. Input image width and height should be multiple of 8.\n",
      "Invalid image size. Input image width and height should be multiple of 8.\n",
      "Invalid image size. Input image width and height should be multiple of 8.\n",
      "Invalid image size. Input image width and height should be multiple of 8.\n",
      "Invalid image size. Input image width and height should be multiple of 8.\n",
      "Invalid image size. Input image width and height should be multiple of 8.\n",
      "Invalid image size. Input image width and height should be multiple of 8.\n",
      "Invalid image size. Input image width and height should be multiple of 8.\n"
     ]
    },
    {
     "name": "stderr",
     "output_type": "stream",
     "text": [
      "1044it [15:56,  1.35s/it]"
     ]
    },
    {
     "name": "stdout",
     "output_type": "stream",
     "text": [
      "Invalid image size. Input image width and height should be multiple of 8.\n"
     ]
    },
    {
     "name": "stderr",
     "output_type": "stream",
     "text": [
      "\r",
      "1046it [15:58,  1.16s/it]"
     ]
    },
    {
     "name": "stdout",
     "output_type": "stream",
     "text": [
      "Invalid image size. Input image width and height should be multiple of 8.\n"
     ]
    },
    {
     "name": "stderr",
     "output_type": "stream",
     "text": [
      "1052it [16:05,  1.32s/it]"
     ]
    },
    {
     "name": "stdout",
     "output_type": "stream",
     "text": [
      "Invalid image size. Input image width and height should be multiple of 8.\n"
     ]
    },
    {
     "name": "stderr",
     "output_type": "stream",
     "text": [
      "1057it [16:11,  1.35s/it]"
     ]
    },
    {
     "name": "stdout",
     "output_type": "stream",
     "text": [
      "Invalid image size. Input image width and height should be multiple of 8.\n"
     ]
    },
    {
     "name": "stderr",
     "output_type": "stream",
     "text": [
      "1060it [16:14,  1.25s/it]"
     ]
    },
    {
     "name": "stdout",
     "output_type": "stream",
     "text": [
      "Invalid image size. Input image width and height should be multiple of 8.\n",
      "Invalid image size. Input image width and height should be multiple of 8.\n",
      "Invalid image size. Input image width and height should be multiple of 8.\n",
      "Invalid image size. Input image width and height should be multiple of 8.\n",
      "Invalid image size. Input image width and height should be multiple of 8.\n",
      "Invalid image size. Input image width and height should be multiple of 8.\n",
      "Invalid image size. Input image width and height should be multiple of 8.\n",
      "Invalid image size. Input image width and height should be multiple of 8.\n"
     ]
    },
    {
     "name": "stderr",
     "output_type": "stream",
     "text": [
      "1075it [16:24,  1.37s/it]"
     ]
    },
    {
     "name": "stdout",
     "output_type": "stream",
     "text": [
      "Invalid image size. Input image width and height should be multiple of 8.\n"
     ]
    },
    {
     "name": "stderr",
     "output_type": "stream",
     "text": [
      "1083it [16:34,  1.40s/it]"
     ]
    },
    {
     "name": "stdout",
     "output_type": "stream",
     "text": [
      "Invalid image size. Input image width and height should be multiple of 8.\n"
     ]
    },
    {
     "name": "stderr",
     "output_type": "stream",
     "text": [
      "1091it [16:44,  1.40s/it]"
     ]
    },
    {
     "name": "stdout",
     "output_type": "stream",
     "text": [
      "Invalid image size. Input image width and height should be multiple of 8.\n",
      "Invalid image size. Input image width and height should be multiple of 8.\n",
      "Invalid image size. Input image width and height should be multiple of 8.\n",
      "Invalid image size. Input image width and height should be multiple of 8.\n",
      "Invalid image size. Input image width and height should be multiple of 8.\n",
      "Invalid image size. Input image width and height should be multiple of 8.\n",
      "Invalid image size. Input image width and height should be multiple of 8.\n",
      "Invalid image size. Input image width and height should be multiple of 8.\n"
     ]
    },
    {
     "name": "stderr",
     "output_type": "stream",
     "text": [
      "1106it [16:54,  1.39s/it]"
     ]
    },
    {
     "name": "stdout",
     "output_type": "stream",
     "text": [
      "Invalid image size. Input image width and height should be multiple of 8.\n"
     ]
    },
    {
     "name": "stderr",
     "output_type": "stream",
     "text": [
      "1113it [17:03,  1.40s/it]"
     ]
    },
    {
     "name": "stdout",
     "output_type": "stream",
     "text": [
      "Invalid image size. Input image width and height should be multiple of 8.\n"
     ]
    },
    {
     "name": "stderr",
     "output_type": "stream",
     "text": [
      "1116it [17:06,  1.26s/it]"
     ]
    },
    {
     "name": "stdout",
     "output_type": "stream",
     "text": [
      "Invalid image size. Input image width and height should be multiple of 8.\n"
     ]
    },
    {
     "name": "stderr",
     "output_type": "stream",
     "text": [
      "1123it [17:14,  1.35s/it]"
     ]
    },
    {
     "name": "stdout",
     "output_type": "stream",
     "text": [
      "Invalid image size. Input image width and height should be multiple of 8.\n",
      "Invalid image size. Input image width and height should be multiple of 8.\n"
     ]
    },
    {
     "name": "stderr",
     "output_type": "stream",
     "text": [
      "\r",
      "1126it [17:16,  1.09s/it]"
     ]
    },
    {
     "name": "stdout",
     "output_type": "stream",
     "text": [
      "Invalid image size. Input image width and height should be multiple of 8.\n",
      "Invalid image size. Input image width and height should be multiple of 8.\n",
      "Invalid image size. Input image width and height should be multiple of 8.\n",
      "Invalid image size. Input image width and height should be multiple of 8.\n",
      "Invalid image size. Input image width and height should be multiple of 8.\n",
      "Invalid image size. Input image width and height should be multiple of 8.\n"
     ]
    },
    {
     "name": "stderr",
     "output_type": "stream",
     "text": [
      "1136it [17:21,  1.19s/it]"
     ]
    },
    {
     "name": "stdout",
     "output_type": "stream",
     "text": [
      "Invalid image size. Input image width and height should be multiple of 8.\n"
     ]
    },
    {
     "name": "stderr",
     "output_type": "stream",
     "text": [
      "1139it [17:24,  1.14s/it]"
     ]
    },
    {
     "name": "stdout",
     "output_type": "stream",
     "text": [
      "Invalid image size. Input image width and height should be multiple of 8.\n"
     ]
    },
    {
     "name": "stderr",
     "output_type": "stream",
     "text": [
      "1146it [17:32,  1.31s/it]"
     ]
    },
    {
     "name": "stdout",
     "output_type": "stream",
     "text": [
      "Invalid image size. Input image width and height should be multiple of 8.\n"
     ]
    },
    {
     "name": "stderr",
     "output_type": "stream",
     "text": [
      "1154it [17:42,  1.34s/it]"
     ]
    },
    {
     "name": "stdout",
     "output_type": "stream",
     "text": [
      "Invalid image size. Input image width and height should be multiple of 8.\n",
      "Invalid image size. Input image width and height should be multiple of 8.\n",
      "Invalid image size. Input image width and height should be multiple of 8.\n",
      "Invalid image size. Input image width and height should be multiple of 8.\n"
     ]
    },
    {
     "name": "stderr",
     "output_type": "stream",
     "text": [
      "\r",
      "1159it [17:43,  1.02s/it]"
     ]
    },
    {
     "name": "stdout",
     "output_type": "stream",
     "text": [
      "Invalid image size. Input image width and height should be multiple of 8.\n",
      "Invalid image size. Input image width and height should be multiple of 8.\n",
      "Invalid image size. Input image width and height should be multiple of 8.\n",
      "Invalid image size. Input image width and height should be multiple of 8.\n"
     ]
    },
    {
     "name": "stderr",
     "output_type": "stream",
     "text": [
      "1170it [17:53,  1.31s/it]"
     ]
    },
    {
     "name": "stdout",
     "output_type": "stream",
     "text": [
      "Invalid image size. Input image width and height should be multiple of 8.\n"
     ]
    },
    {
     "name": "stderr",
     "output_type": "stream",
     "text": [
      "1177it [18:01,  1.34s/it]"
     ]
    },
    {
     "name": "stdout",
     "output_type": "stream",
     "text": [
      "Invalid image size. Input image width and height should be multiple of 8.\n"
     ]
    },
    {
     "name": "stderr",
     "output_type": "stream",
     "text": [
      "1185it [18:12,  1.50s/it]"
     ]
    },
    {
     "name": "stdout",
     "output_type": "stream",
     "text": [
      "Invalid image size. Input image width and height should be multiple of 8.\n",
      "Invalid image size. Input image width and height should be multiple of 8.\n",
      "Invalid image size. Input image width and height should be multiple of 8.\n",
      "Invalid image size. Input image width and height should be multiple of 8.\n",
      "Invalid image size. Input image width and height should be multiple of 8.\n",
      "Invalid image size. Input image width and height should be multiple of 8.\n"
     ]
    },
    {
     "name": "stderr",
     "output_type": "stream",
     "text": [
      "\r",
      "1192it [18:13,  1.12s/it]"
     ]
    },
    {
     "name": "stdout",
     "output_type": "stream",
     "text": [
      "Invalid image size. Input image width and height should be multiple of 8.\n",
      "Invalid image size. Input image width and height should be multiple of 8.\n"
     ]
    },
    {
     "name": "stderr",
     "output_type": "stream",
     "text": [
      "1200it [18:22,  1.38s/it]"
     ]
    },
    {
     "name": "stdout",
     "output_type": "stream",
     "text": [
      "Invalid image size. Input image width and height should be multiple of 8.\n"
     ]
    },
    {
     "name": "stderr",
     "output_type": "stream",
     "text": [
      "1208it [18:33,  1.48s/it]"
     ]
    },
    {
     "name": "stdout",
     "output_type": "stream",
     "text": [
      "Invalid image size. Input image width and height should be multiple of 8.\n"
     ]
    },
    {
     "name": "stderr",
     "output_type": "stream",
     "text": [
      "1213it [18:39,  1.43s/it]"
     ]
    },
    {
     "name": "stdout",
     "output_type": "stream",
     "text": [
      "Invalid image size. Input image width and height should be multiple of 8.\n"
     ]
    },
    {
     "name": "stderr",
     "output_type": "stream",
     "text": [
      "1216it [18:42,  1.30s/it]"
     ]
    },
    {
     "name": "stdout",
     "output_type": "stream",
     "text": [
      "Invalid image size. Input image width and height should be multiple of 8.\n",
      "Invalid image size. Input image width and height should be multiple of 8.\n",
      "Invalid image size. Input image width and height should be multiple of 8.\n",
      "Invalid image size. Input image width and height should be multiple of 8.\n",
      "Invalid image size. Input image width and height should be multiple of 8.\n",
      "Invalid image size. Input image width and height should be multiple of 8.\n",
      "Invalid image size. Input image width and height should be multiple of 8.\n",
      "Invalid image size. Input image width and height should be multiple of 8.\n",
      "Invalid image size. Input image width and height should be multiple of 8.\n"
     ]
    },
    {
     "name": "stderr",
     "output_type": "stream",
     "text": [
      "1232it [18:52,  1.44s/it]"
     ]
    },
    {
     "name": "stdout",
     "output_type": "stream",
     "text": [
      "Invalid image size. Input image width and height should be multiple of 8.\n"
     ]
    },
    {
     "name": "stderr",
     "output_type": "stream",
     "text": [
      "1240it [19:03,  1.48s/it]"
     ]
    },
    {
     "name": "stdout",
     "output_type": "stream",
     "text": [
      "Invalid image size. Input image width and height should be multiple of 8.\n"
     ]
    },
    {
     "name": "stderr",
     "output_type": "stream",
     "text": [
      "1248it [19:13,  1.48s/it]"
     ]
    },
    {
     "name": "stdout",
     "output_type": "stream",
     "text": [
      "Invalid image size. Input image width and height should be multiple of 8.\n",
      "Invalid image size. Input image width and height should be multiple of 8.\n",
      "Invalid image size. Input image width and height should be multiple of 8.\n",
      "Invalid image size. Input image width and height should be multiple of 8.\n",
      "Invalid image size. Input image width and height should be multiple of 8.\n",
      "Invalid image size. Input image width and height should be multiple of 8.\n",
      "Invalid image size. Input image width and height should be multiple of 8.\n",
      "Invalid image size. Input image width and height should be multiple of 8.\n"
     ]
    },
    {
     "name": "stderr",
     "output_type": "stream",
     "text": [
      "1263it [19:24,  1.46s/it]"
     ]
    },
    {
     "name": "stdout",
     "output_type": "stream",
     "text": [
      "Invalid image size. Input image width and height should be multiple of 8.\n"
     ]
    },
    {
     "name": "stderr",
     "output_type": "stream",
     "text": [
      "1271it [19:34,  1.46s/it]"
     ]
    },
    {
     "name": "stdout",
     "output_type": "stream",
     "text": [
      "Invalid image size. Input image width and height should be multiple of 8.\n"
     ]
    },
    {
     "name": "stderr",
     "output_type": "stream",
     "text": [
      "1278it [19:44,  1.48s/it]"
     ]
    },
    {
     "name": "stdout",
     "output_type": "stream",
     "text": [
      "Invalid image size. Input image width and height should be multiple of 8.\n",
      "Invalid image size. Input image width and height should be multiple of 8.\n"
     ]
    },
    {
     "name": "stderr",
     "output_type": "stream",
     "text": [
      "\r",
      "1281it [19:45,  1.19s/it]"
     ]
    },
    {
     "name": "stdout",
     "output_type": "stream",
     "text": [
      "Invalid image size. Input image width and height should be multiple of 8.\n",
      "Invalid image size. Input image width and height should be multiple of 8.\n",
      "Invalid image size. Input image width and height should be multiple of 8.\n",
      "Invalid image size. Input image width and height should be multiple of 8.\n",
      "Invalid image size. Input image width and height should be multiple of 8.\n",
      "Invalid image size. Input image width and height should be multiple of 8.\n"
     ]
    },
    {
     "name": "stderr",
     "output_type": "stream",
     "text": [
      "1291it [19:51,  1.26s/it]"
     ]
    },
    {
     "name": "stdout",
     "output_type": "stream",
     "text": [
      "Invalid image size. Input image width and height should be multiple of 8.\n"
     ]
    },
    {
     "name": "stderr",
     "output_type": "stream",
     "text": [
      "1294it [19:54,  1.19s/it]"
     ]
    },
    {
     "name": "stdout",
     "output_type": "stream",
     "text": [
      "Invalid image size. Input image width and height should be multiple of 8.\n"
     ]
    },
    {
     "name": "stderr",
     "output_type": "stream",
     "text": [
      "1301it [20:02,  1.37s/it]"
     ]
    },
    {
     "name": "stdout",
     "output_type": "stream",
     "text": [
      "Invalid image size. Input image width and height should be multiple of 8.\n",
      "Invalid image size. Input image width and height should be multiple of 8.\n"
     ]
    },
    {
     "name": "stderr",
     "output_type": "stream",
     "text": [
      "1309it [20:11,  1.32s/it]"
     ]
    },
    {
     "name": "stdout",
     "output_type": "stream",
     "text": [
      "Invalid image size. Input image width and height should be multiple of 8.\n",
      "Invalid image size. Input image width and height should be multiple of 8.\n",
      "Invalid image size. Input image width and height should be multiple of 8.\n",
      "Invalid image size. Input image width and height should be multiple of 8.\n",
      "Invalid image size. Input image width and height should be multiple of 8.\n",
      "Invalid image size. Input image width and height should be multiple of 8.\n",
      "Invalid image size. Input image width and height should be multiple of 8.\n",
      "Invalid image size. Input image width and height should be multiple of 8.\n",
      "Invalid image size. Input image width and height should be multiple of 8.\n"
     ]
    },
    {
     "name": "stderr",
     "output_type": "stream",
     "text": [
      "1324it [20:19,  1.29s/it]"
     ]
    },
    {
     "name": "stdout",
     "output_type": "stream",
     "text": [
      "Invalid image size. Input image width and height should be multiple of 8.\n",
      "Invalid image size. Input image width and height should be multiple of 8.\n"
     ]
    },
    {
     "name": "stderr",
     "output_type": "stream",
     "text": [
      "1332it [20:27,  1.34s/it]"
     ]
    },
    {
     "name": "stdout",
     "output_type": "stream",
     "text": [
      "Invalid image size. Input image width and height should be multiple of 8.\n"
     ]
    },
    {
     "name": "stderr",
     "output_type": "stream",
     "text": [
      "1335it [20:30,  1.23s/it]"
     ]
    },
    {
     "name": "stdout",
     "output_type": "stream",
     "text": [
      "Invalid image size. Input image width and height should be multiple of 8.\n",
      "Invalid image size. Input image width and height should be multiple of 8.\n"
     ]
    },
    {
     "name": "stderr",
     "output_type": "stream",
     "text": [
      "1341it [20:36,  1.27s/it]"
     ]
    },
    {
     "name": "stdout",
     "output_type": "stream",
     "text": [
      "Invalid image size. Input image width and height should be multiple of 8.\n",
      "Invalid image size. Input image width and height should be multiple of 8.\n",
      "Invalid image size. Input image width and height should be multiple of 8.\n",
      "Invalid image size. Input image width and height should be multiple of 8.\n",
      "Invalid image size. Input image width and height should be multiple of 8.\n",
      "Invalid image size. Input image width and height should be multiple of 8.\n",
      "Invalid image size. Input image width and height should be multiple of 8.\n",
      "Invalid image size. Input image width and height should be multiple of 8.\n",
      "Invalid image size. Input image width and height should be multiple of 8.\n",
      "Invalid image size. Input image width and height should be multiple of 8.\n",
      "Invalid image size. Input image width and height should be multiple of 8.\n"
     ]
    },
    {
     "name": "stderr",
     "output_type": "stream",
     "text": [
      "1358it [20:44,  1.37s/it]"
     ]
    },
    {
     "name": "stdout",
     "output_type": "stream",
     "text": [
      "Invalid image size. Input image width and height should be multiple of 8.\n",
      "Invalid image size. Input image width and height should be multiple of 8.\n"
     ]
    },
    {
     "name": "stderr",
     "output_type": "stream",
     "text": [
      "1366it [20:53,  1.34s/it]"
     ]
    },
    {
     "name": "stdout",
     "output_type": "stream",
     "text": [
      "Invalid image size. Input image width and height should be multiple of 8.\n"
     ]
    },
    {
     "name": "stderr",
     "output_type": "stream",
     "text": [
      "1369it [20:55,  1.20s/it]"
     ]
    },
    {
     "name": "stdout",
     "output_type": "stream",
     "text": [
      "Invalid image size. Input image width and height should be multiple of 8.\n"
     ]
    },
    {
     "name": "stderr",
     "output_type": "stream",
     "text": [
      "1374it [21:01,  1.28s/it]"
     ]
    },
    {
     "name": "stdout",
     "output_type": "stream",
     "text": [
      "Invalid image size. Input image width and height should be multiple of 8.\n",
      "Invalid image size. Input image width and height should be multiple of 8.\n",
      "Invalid image size. Input image width and height should be multiple of 8.\n",
      "Invalid image size. Input image width and height should be multiple of 8.\n",
      "Invalid image size. Input image width and height should be multiple of 8.\n",
      "Invalid image size. Input image width and height should be multiple of 8.\n",
      "Invalid image size. Input image width and height should be multiple of 8.\n",
      "Invalid image size. Input image width and height should be multiple of 8.\n",
      "Invalid image size. Input image width and height should be multiple of 8.\n"
     ]
    },
    {
     "name": "stderr",
     "output_type": "stream",
     "text": [
      "1389it [21:10,  1.32s/it]"
     ]
    },
    {
     "name": "stdout",
     "output_type": "stream",
     "text": [
      "Invalid image size. Input image width and height should be multiple of 8.\n"
     ]
    },
    {
     "name": "stderr",
     "output_type": "stream",
     "text": [
      "\r",
      "1391it [21:11,  1.14s/it]"
     ]
    },
    {
     "name": "stdout",
     "output_type": "stream",
     "text": [
      "Invalid image size. Input image width and height should be multiple of 8.\n"
     ]
    },
    {
     "name": "stderr",
     "output_type": "stream",
     "text": [
      "1397it [21:18,  1.33s/it]"
     ]
    },
    {
     "name": "stdout",
     "output_type": "stream",
     "text": [
      "Invalid image size. Input image width and height should be multiple of 8.\n"
     ]
    },
    {
     "name": "stderr",
     "output_type": "stream",
     "text": [
      "1402it [21:24,  1.32s/it]"
     ]
    },
    {
     "name": "stdout",
     "output_type": "stream",
     "text": [
      "Invalid image size. Input image width and height should be multiple of 8.\n"
     ]
    },
    {
     "name": "stderr",
     "output_type": "stream",
     "text": [
      "1405it [21:27,  1.23s/it]"
     ]
    },
    {
     "name": "stdout",
     "output_type": "stream",
     "text": [
      "Invalid image size. Input image width and height should be multiple of 8.\n",
      "Invalid image size. Input image width and height should be multiple of 8.\n",
      "Invalid image size. Input image width and height should be multiple of 8.\n",
      "Invalid image size. Input image width and height should be multiple of 8.\n",
      "Invalid image size. Input image width and height should be multiple of 8.\n",
      "Invalid image size. Input image width and height should be multiple of 8.\n",
      "Invalid image size. Input image width and height should be multiple of 8.\n",
      "Invalid image size. Input image width and height should be multiple of 8.\n"
     ]
    },
    {
     "name": "stderr",
     "output_type": "stream",
     "text": [
      "1420it [21:36,  1.32s/it]"
     ]
    },
    {
     "name": "stdout",
     "output_type": "stream",
     "text": [
      "Invalid image size. Input image width and height should be multiple of 8.\n"
     ]
    },
    {
     "name": "stderr",
     "output_type": "stream",
     "text": [
      "1428it [21:46,  1.35s/it]"
     ]
    },
    {
     "name": "stdout",
     "output_type": "stream",
     "text": [
      "Invalid image size. Input image width and height should be multiple of 8.\n"
     ]
    },
    {
     "name": "stderr",
     "output_type": "stream",
     "text": [
      "1437it [21:58,  1.48s/it]"
     ]
    },
    {
     "name": "stdout",
     "output_type": "stream",
     "text": [
      "Invalid image size. Input image width and height should be multiple of 8.\n",
      "Invalid image size. Input image width and height should be multiple of 8.\n",
      "Invalid image size. Input image width and height should be multiple of 8.\n",
      "Invalid image size. Input image width and height should be multiple of 8.\n",
      "Invalid image size. Input image width and height should be multiple of 8.\n",
      "Invalid image size. Input image width and height should be multiple of 8.\n",
      "Invalid image size. Input image width and height should be multiple of 8.\n",
      "Invalid image size. Input image width and height should be multiple of 8.\n"
     ]
    },
    {
     "name": "stderr",
     "output_type": "stream",
     "text": [
      "1452it [22:08,  1.41s/it]"
     ]
    },
    {
     "name": "stdout",
     "output_type": "stream",
     "text": [
      "Invalid image size. Input image width and height should be multiple of 8.\n"
     ]
    },
    {
     "name": "stderr",
     "output_type": "stream",
     "text": [
      "1460it [22:18,  1.36s/it]"
     ]
    },
    {
     "name": "stdout",
     "output_type": "stream",
     "text": [
      "Invalid image size. Input image width and height should be multiple of 8.\n"
     ]
    },
    {
     "name": "stderr",
     "output_type": "stream",
     "text": [
      "1467it [22:27,  1.40s/it]"
     ]
    },
    {
     "name": "stdout",
     "output_type": "stream",
     "text": [
      "Invalid image size. Input image width and height should be multiple of 8.\n",
      "Invalid image size. Input image width and height should be multiple of 8.\n"
     ]
    },
    {
     "name": "stderr",
     "output_type": "stream",
     "text": [
      "\r",
      "1470it [22:28,  1.13s/it]"
     ]
    },
    {
     "name": "stdout",
     "output_type": "stream",
     "text": [
      "Invalid image size. Input image width and height should be multiple of 8.\n",
      "Invalid image size. Input image width and height should be multiple of 8.\n",
      "Invalid image size. Input image width and height should be multiple of 8.\n",
      "Invalid image size. Input image width and height should be multiple of 8.\n",
      "Invalid image size. Input image width and height should be multiple of 8.\n",
      "Invalid image size. Input image width and height should be multiple of 8.\n"
     ]
    },
    {
     "name": "stderr",
     "output_type": "stream",
     "text": [
      "1480it [22:34,  1.25s/it]"
     ]
    },
    {
     "name": "stdout",
     "output_type": "stream",
     "text": [
      "Invalid image size. Input image width and height should be multiple of 8.\n"
     ]
    },
    {
     "name": "stderr",
     "output_type": "stream",
     "text": [
      "1483it [22:37,  1.21s/it]"
     ]
    },
    {
     "name": "stdout",
     "output_type": "stream",
     "text": [
      "Invalid image size. Input image width and height should be multiple of 8.\n"
     ]
    },
    {
     "name": "stderr",
     "output_type": "stream",
     "text": [
      "1490it [22:46,  1.38s/it]"
     ]
    },
    {
     "name": "stdout",
     "output_type": "stream",
     "text": [
      "Invalid image size. Input image width and height should be multiple of 8.\n"
     ]
    },
    {
     "name": "stderr",
     "output_type": "stream",
     "text": [
      "1498it [22:56,  1.46s/it]"
     ]
    },
    {
     "name": "stdout",
     "output_type": "stream",
     "text": [
      "Invalid image size. Input image width and height should be multiple of 8.\n",
      "Invalid image size. Input image width and height should be multiple of 8.\n",
      "Invalid image size. Input image width and height should be multiple of 8.\n",
      "Invalid image size. Input image width and height should be multiple of 8.\n"
     ]
    },
    {
     "name": "stderr",
     "output_type": "stream",
     "text": [
      "\r",
      "1503it [22:57,  1.11s/it]"
     ]
    },
    {
     "name": "stdout",
     "output_type": "stream",
     "text": [
      "Invalid image size. Input image width and height should be multiple of 8.\n",
      "Invalid image size. Input image width and height should be multiple of 8.\n",
      "Invalid image size. Input image width and height should be multiple of 8.\n",
      "Invalid image size. Input image width and height should be multiple of 8.\n"
     ]
    },
    {
     "name": "stderr",
     "output_type": "stream",
     "text": [
      "1514it [23:08,  1.38s/it]"
     ]
    },
    {
     "name": "stdout",
     "output_type": "stream",
     "text": [
      "Invalid image size. Input image width and height should be multiple of 8.\n"
     ]
    },
    {
     "name": "stderr",
     "output_type": "stream",
     "text": [
      "1521it [23:16,  1.43s/it]"
     ]
    },
    {
     "name": "stdout",
     "output_type": "stream",
     "text": [
      "Invalid image size. Input image width and height should be multiple of 8.\n"
     ]
    },
    {
     "name": "stderr",
     "output_type": "stream",
     "text": [
      "1529it [23:27,  1.45s/it]"
     ]
    },
    {
     "name": "stdout",
     "output_type": "stream",
     "text": [
      "Invalid image size. Input image width and height should be multiple of 8.\n",
      "Invalid image size. Input image width and height should be multiple of 8.\n",
      "Invalid image size. Input image width and height should be multiple of 8.\n",
      "Invalid image size. Input image width and height should be multiple of 8.\n",
      "Invalid image size. Input image width and height should be multiple of 8.\n",
      "Invalid image size. Input image width and height should be multiple of 8.\n"
     ]
    },
    {
     "name": "stderr",
     "output_type": "stream",
     "text": [
      "\r",
      "1536it [23:28,  1.08s/it]"
     ]
    },
    {
     "name": "stdout",
     "output_type": "stream",
     "text": [
      "Invalid image size. Input image width and height should be multiple of 8.\n",
      "Invalid image size. Input image width and height should be multiple of 8.\n"
     ]
    },
    {
     "name": "stderr",
     "output_type": "stream",
     "text": [
      "1544it [23:37,  1.33s/it]"
     ]
    },
    {
     "name": "stdout",
     "output_type": "stream",
     "text": [
      "Invalid image size. Input image width and height should be multiple of 8.\n"
     ]
    },
    {
     "name": "stderr",
     "output_type": "stream",
     "text": [
      "1553it [23:48,  1.41s/it]"
     ]
    },
    {
     "name": "stdout",
     "output_type": "stream",
     "text": [
      "Invalid image size. Input image width and height should be multiple of 8.\n"
     ]
    },
    {
     "name": "stderr",
     "output_type": "stream",
     "text": [
      "1558it [23:54,  1.35s/it]"
     ]
    },
    {
     "name": "stdout",
     "output_type": "stream",
     "text": [
      "Invalid image size. Input image width and height should be multiple of 8.\n"
     ]
    },
    {
     "name": "stderr",
     "output_type": "stream",
     "text": [
      "1561it [23:57,  1.24s/it]"
     ]
    },
    {
     "name": "stdout",
     "output_type": "stream",
     "text": [
      "Invalid image size. Input image width and height should be multiple of 8.\n",
      "Invalid image size. Input image width and height should be multiple of 8.\n",
      "Invalid image size. Input image width and height should be multiple of 8.\n",
      "Invalid image size. Input image width and height should be multiple of 8.\n",
      "Invalid image size. Input image width and height should be multiple of 8.\n",
      "Invalid image size. Input image width and height should be multiple of 8.\n",
      "Invalid image size. Input image width and height should be multiple of 8.\n",
      "Invalid image size. Input image width and height should be multiple of 8.\n"
     ]
    },
    {
     "name": "stderr",
     "output_type": "stream",
     "text": [
      "1576it [24:07,  1.38s/it]"
     ]
    },
    {
     "name": "stdout",
     "output_type": "stream",
     "text": [
      "Invalid image size. Input image width and height should be multiple of 8.\n"
     ]
    },
    {
     "name": "stderr",
     "output_type": "stream",
     "text": [
      "1584it [24:17,  1.43s/it]"
     ]
    },
    {
     "name": "stdout",
     "output_type": "stream",
     "text": [
      "Invalid image size. Input image width and height should be multiple of 8.\n"
     ]
    },
    {
     "name": "stderr",
     "output_type": "stream",
     "text": [
      "1592it [24:27,  1.45s/it]"
     ]
    },
    {
     "name": "stdout",
     "output_type": "stream",
     "text": [
      "Invalid image size. Input image width and height should be multiple of 8.\n",
      "Invalid image size. Input image width and height should be multiple of 8.\n",
      "Invalid image size. Input image width and height should be multiple of 8.\n",
      "Invalid image size. Input image width and height should be multiple of 8.\n",
      "Invalid image size. Input image width and height should be multiple of 8.\n",
      "Invalid image size. Input image width and height should be multiple of 8.\n",
      "Invalid image size. Input image width and height should be multiple of 8.\n",
      "Invalid image size. Input image width and height should be multiple of 8.\n"
     ]
    },
    {
     "name": "stderr",
     "output_type": "stream",
     "text": [
      "1607it [24:37,  1.40s/it]"
     ]
    },
    {
     "name": "stdout",
     "output_type": "stream",
     "text": [
      "Invalid image size. Input image width and height should be multiple of 8.\n"
     ]
    },
    {
     "name": "stderr",
     "output_type": "stream",
     "text": [
      "1615it [24:48,  1.43s/it]"
     ]
    },
    {
     "name": "stdout",
     "output_type": "stream",
     "text": [
      "Invalid image size. Input image width and height should be multiple of 8.\n"
     ]
    },
    {
     "name": "stderr",
     "output_type": "stream",
     "text": [
      "1622it [24:56,  1.41s/it]"
     ]
    },
    {
     "name": "stdout",
     "output_type": "stream",
     "text": [
      "Invalid image size. Input image width and height should be multiple of 8.\n",
      "Invalid image size. Input image width and height should be multiple of 8.\n"
     ]
    },
    {
     "name": "stderr",
     "output_type": "stream",
     "text": [
      "\r",
      "1625it [24:58,  1.13s/it]"
     ]
    },
    {
     "name": "stdout",
     "output_type": "stream",
     "text": [
      "Invalid image size. Input image width and height should be multiple of 8.\n",
      "Invalid image size. Input image width and height should be multiple of 8.\n",
      "Invalid image size. Input image width and height should be multiple of 8.\n",
      "Invalid image size. Input image width and height should be multiple of 8.\n",
      "Invalid image size. Input image width and height should be multiple of 8.\n",
      "Invalid image size. Input image width and height should be multiple of 8.\n"
     ]
    },
    {
     "name": "stderr",
     "output_type": "stream",
     "text": [
      "1635it [25:03,  1.24s/it]"
     ]
    },
    {
     "name": "stdout",
     "output_type": "stream",
     "text": [
      "Invalid image size. Input image width and height should be multiple of 8.\n"
     ]
    },
    {
     "name": "stderr",
     "output_type": "stream",
     "text": [
      "1638it [25:06,  1.19s/it]"
     ]
    },
    {
     "name": "stdout",
     "output_type": "stream",
     "text": [
      "Invalid image size. Input image width and height should be multiple of 8.\n"
     ]
    },
    {
     "name": "stderr",
     "output_type": "stream",
     "text": [
      "1645it [25:15,  1.38s/it]"
     ]
    },
    {
     "name": "stdout",
     "output_type": "stream",
     "text": [
      "Invalid image size. Input image width and height should be multiple of 8.\n",
      "Invalid image size. Input image width and height should be multiple of 8.\n"
     ]
    },
    {
     "name": "stderr",
     "output_type": "stream",
     "text": [
      "1653it [25:24,  1.39s/it]"
     ]
    },
    {
     "name": "stdout",
     "output_type": "stream",
     "text": [
      "Invalid image size. Input image width and height should be multiple of 8.\n",
      "Invalid image size. Input image width and height should be multiple of 8.\n",
      "Invalid image size. Input image width and height should be multiple of 8.\n",
      "Invalid image size. Input image width and height should be multiple of 8.\n"
     ]
    },
    {
     "name": "stderr",
     "output_type": "stream",
     "text": [
      "\r",
      "1658it [25:25,  1.06s/it]"
     ]
    },
    {
     "name": "stdout",
     "output_type": "stream",
     "text": [
      "Invalid image size. Input image width and height should be multiple of 8.\n",
      "Invalid image size. Input image width and height should be multiple of 8.\n",
      "Invalid image size. Input image width and height should be multiple of 8.\n",
      "Invalid image size. Input image width and height should be multiple of 8.\n",
      "Invalid image size. Input image width and height should be multiple of 8.\n"
     ]
    },
    {
     "name": "stderr",
     "output_type": "stream",
     "text": [
      "1669it [25:34,  1.34s/it]"
     ]
    },
    {
     "name": "stdout",
     "output_type": "stream",
     "text": [
      "Invalid image size. Input image width and height should be multiple of 8.\n",
      "Invalid image size. Input image width and height should be multiple of 8.\n"
     ]
    },
    {
     "name": "stderr",
     "output_type": "stream",
     "text": [
      "1677it [25:43,  1.37s/it]"
     ]
    },
    {
     "name": "stdout",
     "output_type": "stream",
     "text": [
      "Invalid image size. Input image width and height should be multiple of 8.\n"
     ]
    },
    {
     "name": "stderr",
     "output_type": "stream",
     "text": [
      "1680it [25:45,  1.25s/it]"
     ]
    },
    {
     "name": "stdout",
     "output_type": "stream",
     "text": [
      "Invalid image size. Input image width and height should be multiple of 8.\n"
     ]
    },
    {
     "name": "stderr",
     "output_type": "stream",
     "text": [
      "1685it [25:51,  1.33s/it]"
     ]
    },
    {
     "name": "stdout",
     "output_type": "stream",
     "text": [
      "Invalid image size. Input image width and height should be multiple of 8.\n",
      "Invalid image size. Input image width and height should be multiple of 8.\n",
      "Invalid image size. Input image width and height should be multiple of 8.\n",
      "Invalid image size. Input image width and height should be multiple of 8.\n",
      "Invalid image size. Input image width and height should be multiple of 8.\n",
      "Invalid image size. Input image width and height should be multiple of 8.\n",
      "Invalid image size. Input image width and height should be multiple of 8.\n",
      "Invalid image size. Input image width and height should be multiple of 8.\n",
      "Invalid image size. Input image width and height should be multiple of 8.\n"
     ]
    },
    {
     "name": "stderr",
     "output_type": "stream",
     "text": [
      "1700it [26:00,  1.35s/it]"
     ]
    },
    {
     "name": "stdout",
     "output_type": "stream",
     "text": [
      "Invalid image size. Input image width and height should be multiple of 8.\n"
     ]
    },
    {
     "name": "stderr",
     "output_type": "stream",
     "text": [
      "\r",
      "1702it [26:01,  1.17s/it]"
     ]
    },
    {
     "name": "stdout",
     "output_type": "stream",
     "text": [
      "Invalid image size. Input image width and height should be multiple of 8.\n"
     ]
    },
    {
     "name": "stderr",
     "output_type": "stream",
     "text": [
      "1708it [26:09,  1.39s/it]"
     ]
    },
    {
     "name": "stdout",
     "output_type": "stream",
     "text": [
      "Invalid image size. Input image width and height should be multiple of 8.\n"
     ]
    },
    {
     "name": "stderr",
     "output_type": "stream",
     "text": [
      "1713it [26:15,  1.36s/it]"
     ]
    },
    {
     "name": "stdout",
     "output_type": "stream",
     "text": [
      "Invalid image size. Input image width and height should be multiple of 8.\n"
     ]
    },
    {
     "name": "stderr",
     "output_type": "stream",
     "text": [
      "1716it [26:18,  1.25s/it]"
     ]
    },
    {
     "name": "stdout",
     "output_type": "stream",
     "text": [
      "Invalid image size. Input image width and height should be multiple of 8.\n",
      "Invalid image size. Input image width and height should be multiple of 8.\n",
      "Invalid image size. Input image width and height should be multiple of 8.\n",
      "Invalid image size. Input image width and height should be multiple of 8.\n",
      "Invalid image size. Input image width and height should be multiple of 8.\n",
      "Invalid image size. Input image width and height should be multiple of 8.\n",
      "Invalid image size. Input image width and height should be multiple of 8.\n",
      "Invalid image size. Input image width and height should be multiple of 8.\n"
     ]
    },
    {
     "name": "stderr",
     "output_type": "stream",
     "text": [
      "1731it [26:28,  1.36s/it]"
     ]
    },
    {
     "name": "stdout",
     "output_type": "stream",
     "text": [
      "Invalid image size. Input image width and height should be multiple of 8.\n"
     ]
    },
    {
     "name": "stderr",
     "output_type": "stream",
     "text": [
      "1739it [26:38,  1.42s/it]"
     ]
    },
    {
     "name": "stdout",
     "output_type": "stream",
     "text": [
      "Invalid image size. Input image width and height should be multiple of 8.\n"
     ]
    },
    {
     "name": "stderr",
     "output_type": "stream",
     "text": [
      "1747it [26:48,  1.46s/it]"
     ]
    },
    {
     "name": "stdout",
     "output_type": "stream",
     "text": [
      "Invalid image size. Input image width and height should be multiple of 8.\n",
      "Invalid image size. Input image width and height should be multiple of 8.\n",
      "Invalid image size. Input image width and height should be multiple of 8.\n",
      "Invalid image size. Input image width and height should be multiple of 8.\n",
      "Invalid image size. Input image width and height should be multiple of 8.\n",
      "Invalid image size. Input image width and height should be multiple of 8.\n",
      "Invalid image size. Input image width and height should be multiple of 8.\n",
      "Invalid image size. Input image width and height should be multiple of 8.\n"
     ]
    },
    {
     "name": "stderr",
     "output_type": "stream",
     "text": [
      "1762it [26:58,  1.41s/it]"
     ]
    },
    {
     "name": "stdout",
     "output_type": "stream",
     "text": [
      "Invalid image size. Input image width and height should be multiple of 8.\n"
     ]
    },
    {
     "name": "stderr",
     "output_type": "stream",
     "text": [
      "1768it [27:06,  1.39s/it]"
     ]
    },
    {
     "name": "stdout",
     "output_type": "stream",
     "text": [
      "Invalid image size. Input image width and height should be multiple of 8.\n"
     ]
    },
    {
     "name": "stderr",
     "output_type": "stream",
     "text": [
      "1771it [27:08,  1.26s/it]"
     ]
    },
    {
     "name": "stdout",
     "output_type": "stream",
     "text": [
      "Invalid image size. Input image width and height should be multiple of 8.\n"
     ]
    },
    {
     "name": "stderr",
     "output_type": "stream",
     "text": [
      "1778it [27:17,  1.41s/it]"
     ]
    },
    {
     "name": "stdout",
     "output_type": "stream",
     "text": [
      "Invalid image size. Input image width and height should be multiple of 8.\n",
      "Invalid image size. Input image width and height should be multiple of 8.\n"
     ]
    },
    {
     "name": "stderr",
     "output_type": "stream",
     "text": [
      "\r",
      "1781it [27:19,  1.13s/it]"
     ]
    },
    {
     "name": "stdout",
     "output_type": "stream",
     "text": [
      "Invalid image size. Input image width and height should be multiple of 8.\n",
      "Invalid image size. Input image width and height should be multiple of 8.\n",
      "Invalid image size. Input image width and height should be multiple of 8.\n",
      "Invalid image size. Input image width and height should be multiple of 8.\n",
      "Invalid image size. Input image width and height should be multiple of 8.\n",
      "Invalid image size. Input image width and height should be multiple of 8.\n"
     ]
    },
    {
     "name": "stderr",
     "output_type": "stream",
     "text": [
      "1791it [27:25,  1.25s/it]"
     ]
    },
    {
     "name": "stdout",
     "output_type": "stream",
     "text": [
      "Invalid image size. Input image width and height should be multiple of 8.\n"
     ]
    },
    {
     "name": "stderr",
     "output_type": "stream",
     "text": [
      "1794it [27:27,  1.20s/it]"
     ]
    },
    {
     "name": "stdout",
     "output_type": "stream",
     "text": [
      "Invalid image size. Input image width and height should be multiple of 8.\n"
     ]
    },
    {
     "name": "stderr",
     "output_type": "stream",
     "text": [
      "1801it [27:36,  1.39s/it]"
     ]
    },
    {
     "name": "stdout",
     "output_type": "stream",
     "text": [
      "Invalid image size. Input image width and height should be multiple of 8.\n"
     ]
    },
    {
     "name": "stderr",
     "output_type": "stream",
     "text": [
      "1809it [27:46,  1.42s/it]"
     ]
    },
    {
     "name": "stdout",
     "output_type": "stream",
     "text": [
      "Invalid image size. Input image width and height should be multiple of 8.\n",
      "Invalid image size. Input image width and height should be multiple of 8.\n",
      "Invalid image size. Input image width and height should be multiple of 8.\n",
      "Invalid image size. Input image width and height should be multiple of 8.\n"
     ]
    },
    {
     "name": "stderr",
     "output_type": "stream",
     "text": [
      "\r",
      "1814it [27:48,  1.08s/it]"
     ]
    },
    {
     "name": "stdout",
     "output_type": "stream",
     "text": [
      "Invalid image size. Input image width and height should be multiple of 8.\n",
      "Invalid image size. Input image width and height should be multiple of 8.\n",
      "Invalid image size. Input image width and height should be multiple of 8.\n",
      "Invalid image size. Input image width and height should be multiple of 8.\n"
     ]
    },
    {
     "name": "stderr",
     "output_type": "stream",
     "text": [
      "1825it [27:58,  1.38s/it]"
     ]
    },
    {
     "name": "stdout",
     "output_type": "stream",
     "text": [
      "Invalid image size. Input image width and height should be multiple of 8.\n"
     ]
    },
    {
     "name": "stderr",
     "output_type": "stream",
     "text": [
      "1832it [28:06,  1.38s/it]"
     ]
    },
    {
     "name": "stdout",
     "output_type": "stream",
     "text": [
      "Invalid image size. Input image width and height should be multiple of 8.\n"
     ]
    },
    {
     "name": "stderr",
     "output_type": "stream",
     "text": [
      "1840it [28:17,  1.42s/it]"
     ]
    },
    {
     "name": "stdout",
     "output_type": "stream",
     "text": [
      "Invalid image size. Input image width and height should be multiple of 8.\n",
      "Invalid image size. Input image width and height should be multiple of 8.\n",
      "Invalid image size. Input image width and height should be multiple of 8.\n",
      "Invalid image size. Input image width and height should be multiple of 8.\n",
      "Invalid image size. Input image width and height should be multiple of 8.\n",
      "Invalid image size. Input image width and height should be multiple of 8.\n"
     ]
    },
    {
     "name": "stderr",
     "output_type": "stream",
     "text": [
      "\r",
      "1847it [28:18,  1.05s/it]"
     ]
    },
    {
     "name": "stdout",
     "output_type": "stream",
     "text": [
      "Invalid image size. Input image width and height should be multiple of 8.\n",
      "Invalid image size. Input image width and height should be multiple of 8.\n"
     ]
    },
    {
     "name": "stderr",
     "output_type": "stream",
     "text": [
      "1855it [28:26,  1.29s/it]"
     ]
    },
    {
     "name": "stdout",
     "output_type": "stream",
     "text": [
      "Invalid image size. Input image width and height should be multiple of 8.\n"
     ]
    },
    {
     "name": "stderr",
     "output_type": "stream",
     "text": [
      "1863it [28:36,  1.39s/it]"
     ]
    },
    {
     "name": "stdout",
     "output_type": "stream",
     "text": [
      "Invalid image size. Input image width and height should be multiple of 8.\n"
     ]
    },
    {
     "name": "stderr",
     "output_type": "stream",
     "text": [
      "1868it [28:42,  1.36s/it]"
     ]
    },
    {
     "name": "stdout",
     "output_type": "stream",
     "text": [
      "Invalid image size. Input image width and height should be multiple of 8.\n"
     ]
    },
    {
     "name": "stderr",
     "output_type": "stream",
     "text": [
      "1871it [28:45,  1.26s/it]"
     ]
    },
    {
     "name": "stdout",
     "output_type": "stream",
     "text": [
      "Invalid image size. Input image width and height should be multiple of 8.\n",
      "Invalid image size. Input image width and height should be multiple of 8.\n",
      "Invalid image size. Input image width and height should be multiple of 8.\n",
      "Invalid image size. Input image width and height should be multiple of 8.\n",
      "Invalid image size. Input image width and height should be multiple of 8.\n",
      "Invalid image size. Input image width and height should be multiple of 8.\n",
      "Invalid image size. Input image width and height should be multiple of 8.\n",
      "Invalid image size. Input image width and height should be multiple of 8.\n"
     ]
    },
    {
     "name": "stderr",
     "output_type": "stream",
     "text": [
      "1887it [28:56,  1.41s/it]"
     ]
    },
    {
     "name": "stdout",
     "output_type": "stream",
     "text": [
      "Invalid image size. Input image width and height should be multiple of 8.\n"
     ]
    },
    {
     "name": "stderr",
     "output_type": "stream",
     "text": [
      "1895it [29:06,  1.41s/it]"
     ]
    },
    {
     "name": "stdout",
     "output_type": "stream",
     "text": [
      "Invalid image size. Input image width and height should be multiple of 8.\n"
     ]
    },
    {
     "name": "stderr",
     "output_type": "stream",
     "text": [
      "1903it [29:17,  1.42s/it]"
     ]
    },
    {
     "name": "stdout",
     "output_type": "stream",
     "text": [
      "Invalid image size. Input image width and height should be multiple of 8.\n",
      "Invalid image size. Input image width and height should be multiple of 8.\n",
      "Invalid image size. Input image width and height should be multiple of 8.\n",
      "Invalid image size. Input image width and height should be multiple of 8.\n",
      "Invalid image size. Input image width and height should be multiple of 8.\n",
      "Invalid image size. Input image width and height should be multiple of 8.\n",
      "Invalid image size. Input image width and height should be multiple of 8.\n",
      "Invalid image size. Input image width and height should be multiple of 8.\n"
     ]
    },
    {
     "name": "stderr",
     "output_type": "stream",
     "text": [
      "1918it [29:27,  1.40s/it]"
     ]
    },
    {
     "name": "stdout",
     "output_type": "stream",
     "text": [
      "Invalid image size. Input image width and height should be multiple of 8.\n"
     ]
    },
    {
     "name": "stderr",
     "output_type": "stream",
     "text": [
      "1926it [29:37,  1.42s/it]"
     ]
    },
    {
     "name": "stdout",
     "output_type": "stream",
     "text": [
      "Invalid image size. Input image width and height should be multiple of 8.\n"
     ]
    },
    {
     "name": "stderr",
     "output_type": "stream",
     "text": [
      "1933it [29:46,  1.41s/it]"
     ]
    },
    {
     "name": "stdout",
     "output_type": "stream",
     "text": [
      "Invalid image size. Input image width and height should be multiple of 8.\n",
      "Invalid image size. Input image width and height should be multiple of 8.\n"
     ]
    },
    {
     "name": "stderr",
     "output_type": "stream",
     "text": [
      "\r",
      "1936it [29:47,  1.13s/it]"
     ]
    },
    {
     "name": "stdout",
     "output_type": "stream",
     "text": [
      "Invalid image size. Input image width and height should be multiple of 8.\n",
      "Invalid image size. Input image width and height should be multiple of 8.\n",
      "Invalid image size. Input image width and height should be multiple of 8.\n",
      "Invalid image size. Input image width and height should be multiple of 8.\n",
      "Invalid image size. Input image width and height should be multiple of 8.\n",
      "Invalid image size. Input image width and height should be multiple of 8.\n"
     ]
    },
    {
     "name": "stderr",
     "output_type": "stream",
     "text": [
      "1946it [29:53,  1.23s/it]"
     ]
    },
    {
     "name": "stdout",
     "output_type": "stream",
     "text": [
      "Invalid image size. Input image width and height should be multiple of 8.\n"
     ]
    },
    {
     "name": "stderr",
     "output_type": "stream",
     "text": [
      "1949it [29:56,  1.18s/it]"
     ]
    },
    {
     "name": "stdout",
     "output_type": "stream",
     "text": [
      "Invalid image size. Input image width and height should be multiple of 8.\n"
     ]
    },
    {
     "name": "stderr",
     "output_type": "stream",
     "text": [
      "1956it [30:04,  1.39s/it]"
     ]
    },
    {
     "name": "stdout",
     "output_type": "stream",
     "text": [
      "Invalid image size. Input image width and height should be multiple of 8.\n",
      "Invalid image size. Input image width and height should be multiple of 8.\n"
     ]
    },
    {
     "name": "stderr",
     "output_type": "stream",
     "text": [
      "1964it [30:13,  1.37s/it]"
     ]
    },
    {
     "name": "stdout",
     "output_type": "stream",
     "text": [
      "Invalid image size. Input image width and height should be multiple of 8.\n",
      "Invalid image size. Input image width and height should be multiple of 8.\n",
      "Invalid image size. Input image width and height should be multiple of 8.\n",
      "Invalid image size. Input image width and height should be multiple of 8.\n",
      "Invalid image size. Input image width and height should be multiple of 8.\n",
      "Invalid image size. Input image width and height should be multiple of 8.\n",
      "Invalid image size. Input image width and height should be multiple of 8.\n",
      "Invalid image size. Input image width and height should be multiple of 8.\n",
      "Invalid image size. Input image width and height should be multiple of 8.\n"
     ]
    },
    {
     "name": "stderr",
     "output_type": "stream",
     "text": [
      "1979it [30:21,  1.37s/it]"
     ]
    },
    {
     "name": "stdout",
     "output_type": "stream",
     "text": [
      "Invalid image size. Input image width and height should be multiple of 8.\n",
      "Invalid image size. Input image width and height should be multiple of 8.\n"
     ]
    },
    {
     "name": "stderr",
     "output_type": "stream",
     "text": [
      "1987it [30:30,  1.39s/it]"
     ]
    },
    {
     "name": "stdout",
     "output_type": "stream",
     "text": [
      "Invalid image size. Input image width and height should be multiple of 8.\n"
     ]
    },
    {
     "name": "stderr",
     "output_type": "stream",
     "text": [
      "1991it [30:34,  1.33s/it]"
     ]
    },
    {
     "name": "stdout",
     "output_type": "stream",
     "text": [
      "Invalid image size. Input image width and height should be multiple of 8.\n"
     ]
    },
    {
     "name": "stderr",
     "output_type": "stream",
     "text": [
      "1996it [30:40,  1.36s/it]"
     ]
    },
    {
     "name": "stdout",
     "output_type": "stream",
     "text": [
      "Invalid image size. Input image width and height should be multiple of 8.\n",
      "Invalid image size. Input image width and height should be multiple of 8.\n",
      "Invalid image size. Input image width and height should be multiple of 8.\n",
      "Invalid image size. Input image width and height should be multiple of 8.\n",
      "Invalid image size. Input image width and height should be multiple of 8.\n",
      "Invalid image size. Input image width and height should be multiple of 8.\n",
      "Invalid image size. Input image width and height should be multiple of 8.\n",
      "Invalid image size. Input image width and height should be multiple of 8.\n",
      "Invalid image size. Input image width and height should be multiple of 8.\n"
     ]
    },
    {
     "name": "stderr",
     "output_type": "stream",
     "text": [
      "2011it [30:49,  1.36s/it]"
     ]
    },
    {
     "name": "stdout",
     "output_type": "stream",
     "text": [
      "Invalid image size. Input image width and height should be multiple of 8.\n"
     ]
    },
    {
     "name": "stderr",
     "output_type": "stream",
     "text": [
      "\r",
      "2013it [30:51,  1.18s/it]"
     ]
    },
    {
     "name": "stdout",
     "output_type": "stream",
     "text": [
      "Invalid image size. Input image width and height should be multiple of 8.\n"
     ]
    },
    {
     "name": "stderr",
     "output_type": "stream",
     "text": [
      "2019it [30:58,  1.36s/it]"
     ]
    },
    {
     "name": "stdout",
     "output_type": "stream",
     "text": [
      "Invalid image size. Input image width and height should be multiple of 8.\n"
     ]
    },
    {
     "name": "stderr",
     "output_type": "stream",
     "text": [
      "2024it [31:04,  1.36s/it]"
     ]
    },
    {
     "name": "stdout",
     "output_type": "stream",
     "text": [
      "Invalid image size. Input image width and height should be multiple of 8.\n"
     ]
    },
    {
     "name": "stderr",
     "output_type": "stream",
     "text": [
      "2027it [31:07,  1.26s/it]"
     ]
    },
    {
     "name": "stdout",
     "output_type": "stream",
     "text": [
      "Invalid image size. Input image width and height should be multiple of 8.\n",
      "Invalid image size. Input image width and height should be multiple of 8.\n",
      "Invalid image size. Input image width and height should be multiple of 8.\n",
      "Invalid image size. Input image width and height should be multiple of 8.\n",
      "Invalid image size. Input image width and height should be multiple of 8.\n",
      "Invalid image size. Input image width and height should be multiple of 8.\n",
      "Invalid image size. Input image width and height should be multiple of 8.\n",
      "Invalid image size. Input image width and height should be multiple of 8.\n"
     ]
    },
    {
     "name": "stderr",
     "output_type": "stream",
     "text": [
      "2042it [31:17,  1.38s/it]"
     ]
    },
    {
     "name": "stdout",
     "output_type": "stream",
     "text": [
      "Invalid image size. Input image width and height should be multiple of 8.\n"
     ]
    },
    {
     "name": "stderr",
     "output_type": "stream",
     "text": [
      "2050it [31:27,  1.42s/it]"
     ]
    },
    {
     "name": "stdout",
     "output_type": "stream",
     "text": [
      "Invalid image size. Input image width and height should be multiple of 8.\n"
     ]
    },
    {
     "name": "stderr",
     "output_type": "stream",
     "text": [
      "2058it [31:37,  1.42s/it]"
     ]
    },
    {
     "name": "stdout",
     "output_type": "stream",
     "text": [
      "Invalid image size. Input image width and height should be multiple of 8.\n",
      "Invalid image size. Input image width and height should be multiple of 8.\n",
      "Invalid image size. Input image width and height should be multiple of 8.\n",
      "Invalid image size. Input image width and height should be multiple of 8.\n",
      "Invalid image size. Input image width and height should be multiple of 8.\n",
      "Invalid image size. Input image width and height should be multiple of 8.\n",
      "Invalid image size. Input image width and height should be multiple of 8.\n",
      "Invalid image size. Input image width and height should be multiple of 8.\n"
     ]
    },
    {
     "name": "stderr",
     "output_type": "stream",
     "text": [
      "2073it [31:48,  1.43s/it]"
     ]
    },
    {
     "name": "stdout",
     "output_type": "stream",
     "text": [
      "Invalid image size. Input image width and height should be multiple of 8.\n"
     ]
    },
    {
     "name": "stderr",
     "output_type": "stream",
     "text": [
      "2081it [31:58,  1.44s/it]"
     ]
    },
    {
     "name": "stdout",
     "output_type": "stream",
     "text": [
      "Invalid image size. Input image width and height should be multiple of 8.\n"
     ]
    },
    {
     "name": "stderr",
     "output_type": "stream",
     "text": [
      "2088it [32:07,  1.41s/it]"
     ]
    },
    {
     "name": "stdout",
     "output_type": "stream",
     "text": [
      "Invalid image size. Input image width and height should be multiple of 8.\n",
      "Invalid image size. Input image width and height should be multiple of 8.\n"
     ]
    },
    {
     "name": "stderr",
     "output_type": "stream",
     "text": [
      "\r",
      "2091it [32:08,  1.13s/it]"
     ]
    },
    {
     "name": "stdout",
     "output_type": "stream",
     "text": [
      "Invalid image size. Input image width and height should be multiple of 8.\n",
      "Invalid image size. Input image width and height should be multiple of 8.\n",
      "Invalid image size. Input image width and height should be multiple of 8.\n",
      "Invalid image size. Input image width and height should be multiple of 8.\n",
      "Invalid image size. Input image width and height should be multiple of 8.\n",
      "Invalid image size. Input image width and height should be multiple of 8.\n"
     ]
    },
    {
     "name": "stderr",
     "output_type": "stream",
     "text": [
      "2102it [32:15,  1.29s/it]"
     ]
    },
    {
     "name": "stdout",
     "output_type": "stream",
     "text": [
      "Invalid image size. Input image width and height should be multiple of 8.\n"
     ]
    },
    {
     "name": "stderr",
     "output_type": "stream",
     "text": [
      "2105it [32:18,  1.21s/it]"
     ]
    },
    {
     "name": "stdout",
     "output_type": "stream",
     "text": [
      "Invalid image size. Input image width and height should be multiple of 8.\n"
     ]
    },
    {
     "name": "stderr",
     "output_type": "stream",
     "text": [
      "2112it [32:27,  1.38s/it]"
     ]
    },
    {
     "name": "stdout",
     "output_type": "stream",
     "text": [
      "Invalid image size. Input image width and height should be multiple of 8.\n"
     ]
    },
    {
     "name": "stderr",
     "output_type": "stream",
     "text": [
      "2120it [32:37,  1.42s/it]"
     ]
    },
    {
     "name": "stdout",
     "output_type": "stream",
     "text": [
      "Invalid image size. Input image width and height should be multiple of 8.\n",
      "Invalid image size. Input image width and height should be multiple of 8.\n",
      "Invalid image size. Input image width and height should be multiple of 8.\n",
      "Invalid image size. Input image width and height should be multiple of 8.\n"
     ]
    },
    {
     "name": "stderr",
     "output_type": "stream",
     "text": [
      "\r",
      "2125it [32:38,  1.08s/it]"
     ]
    },
    {
     "name": "stdout",
     "output_type": "stream",
     "text": [
      "Invalid image size. Input image width and height should be multiple of 8.\n",
      "Invalid image size. Input image width and height should be multiple of 8.\n",
      "Invalid image size. Input image width and height should be multiple of 8.\n",
      "Invalid image size. Input image width and height should be multiple of 8.\n"
     ]
    },
    {
     "name": "stderr",
     "output_type": "stream",
     "text": [
      "2136it [32:48,  1.36s/it]"
     ]
    },
    {
     "name": "stdout",
     "output_type": "stream",
     "text": [
      "Invalid image size. Input image width and height should be multiple of 8.\n"
     ]
    },
    {
     "name": "stderr",
     "output_type": "stream",
     "text": [
      "2143it [32:57,  1.38s/it]"
     ]
    },
    {
     "name": "stdout",
     "output_type": "stream",
     "text": [
      "Invalid image size. Input image width and height should be multiple of 8.\n"
     ]
    },
    {
     "name": "stderr",
     "output_type": "stream",
     "text": [
      "2151it [33:07,  1.41s/it]"
     ]
    },
    {
     "name": "stdout",
     "output_type": "stream",
     "text": [
      "Invalid image size. Input image width and height should be multiple of 8.\n",
      "Invalid image size. Input image width and height should be multiple of 8.\n",
      "Invalid image size. Input image width and height should be multiple of 8.\n",
      "Invalid image size. Input image width and height should be multiple of 8.\n",
      "Invalid image size. Input image width and height should be multiple of 8.\n",
      "Invalid image size. Input image width and height should be multiple of 8.\n"
     ]
    },
    {
     "name": "stderr",
     "output_type": "stream",
     "text": [
      "\r",
      "2158it [33:09,  1.05s/it]"
     ]
    },
    {
     "name": "stdout",
     "output_type": "stream",
     "text": [
      "Invalid image size. Input image width and height should be multiple of 8.\n",
      "Invalid image size. Input image width and height should be multiple of 8.\n"
     ]
    },
    {
     "name": "stderr",
     "output_type": "stream",
     "text": [
      "2166it [33:18,  1.36s/it]"
     ]
    },
    {
     "name": "stdout",
     "output_type": "stream",
     "text": [
      "Invalid image size. Input image width and height should be multiple of 8.\n"
     ]
    },
    {
     "name": "stderr",
     "output_type": "stream",
     "text": [
      "2174it [33:28,  1.45s/it]"
     ]
    },
    {
     "name": "stdout",
     "output_type": "stream",
     "text": [
      "Invalid image size. Input image width and height should be multiple of 8.\n"
     ]
    },
    {
     "name": "stderr",
     "output_type": "stream",
     "text": [
      "2179it [33:34,  1.38s/it]"
     ]
    },
    {
     "name": "stdout",
     "output_type": "stream",
     "text": [
      "Invalid image size. Input image width and height should be multiple of 8.\n"
     ]
    },
    {
     "name": "stderr",
     "output_type": "stream",
     "text": [
      "2182it [33:37,  1.26s/it]"
     ]
    },
    {
     "name": "stdout",
     "output_type": "stream",
     "text": [
      "Invalid image size. Input image width and height should be multiple of 8.\n",
      "Invalid image size. Input image width and height should be multiple of 8.\n",
      "Invalid image size. Input image width and height should be multiple of 8.\n",
      "Invalid image size. Input image width and height should be multiple of 8.\n",
      "Invalid image size. Input image width and height should be multiple of 8.\n",
      "Invalid image size. Input image width and height should be multiple of 8.\n",
      "Invalid image size. Input image width and height should be multiple of 8.\n",
      "Invalid image size. Input image width and height should be multiple of 8.\n"
     ]
    },
    {
     "name": "stderr",
     "output_type": "stream",
     "text": [
      "2197it [33:46,  1.33s/it]"
     ]
    },
    {
     "name": "stdout",
     "output_type": "stream",
     "text": [
      "Invalid image size. Input image width and height should be multiple of 8.\n"
     ]
    },
    {
     "name": "stderr",
     "output_type": "stream",
     "text": [
      "2205it [33:56,  1.36s/it]"
     ]
    },
    {
     "name": "stdout",
     "output_type": "stream",
     "text": [
      "Invalid image size. Input image width and height should be multiple of 8.\n"
     ]
    },
    {
     "name": "stderr",
     "output_type": "stream",
     "text": [
      "2212it [34:05,  1.08it/s]\n"
     ]
    }
   ],
   "source": [
    "make_dct_folder(\"../../dataset/dataset_video_frames2/test\")"
   ]
  },
  {
   "cell_type": "code",
   "execution_count": null,
   "metadata": {},
   "outputs": [],
   "source": []
  }
 ],
 "metadata": {
  "kernelspec": {
   "display_name": "Python 3",
   "language": "python",
   "name": "python3"
  },
  "language_info": {
   "codemirror_mode": {
    "name": "ipython",
    "version": 3
   },
   "file_extension": ".py",
   "mimetype": "text/x-python",
   "name": "python",
   "nbconvert_exporter": "python",
   "pygments_lexer": "ipython3",
   "version": "3.7.6"
  }
 },
 "nbformat": 4,
 "nbformat_minor": 4
}
