{
 "cells": [
  {
   "cell_type": "code",
   "execution_count": 1,
   "metadata": {},
   "outputs": [],
   "source": [
    "import sys\n",
    "sys.path.append('..')\n",
    "\n",
    "from tqdm import tqdm\n",
    "import lib.jpeg as jpg\n",
    "import lib.utils as utils\n",
    "import os\n",
    "import glob\n",
    "import numpy as np"
   ]
  },
  {
   "cell_type": "code",
   "execution_count": 2,
   "metadata": {},
   "outputs": [],
   "source": [
    "def make_dct_folder(folder_path):\n",
    "    #qtable_luma_50, qtable_chroma_50 = jpg.generate_qtables(quality_factor=50)\n",
    "    #qtable_luma_10, qtable_chroma_10 = jpg.generate_qtables(quality_factor=10)\n",
    "    qtable_luma_40, qtable_chroma_40 = jpg.generate_qtables(quality_factor=40)\n",
    "    #qtable_luma_30, qtable_chroma_30 = jpg.generate_qtables(quality_factor=30)\n",
    "    \n",
    "    for file_ in tqdm(glob.iglob(folder_path+\"/*.jpg\")):\n",
    "        img = utils.open_image(file_)\n",
    "        \n",
    "        if img is None:\n",
    "            continue\n",
    "            \n",
    "        #dct_q10 = jpg.encode_image(img, qtable_luma_10, qtable_chroma_10)\n",
    "        #dct_q50 = jpg.encode_image(img, qtable_luma_50, qtable_chroma_50)\n",
    "        dct_q40 = jpg.encode_image(img, qtable_luma_40, qtable_chroma_40)\n",
    "        #dct_q30 = jpg.encode_image(img, qtable_luma_30, qtable_chroma_30)\n",
    "        \n",
    "        basename_jpg = os.path.basename(file_)\n",
    "        basename_q10 = basename_jpg.replace(\".jpg\",\"\")+\"_q10.npy\"\n",
    "        basename_q50 = basename_jpg.replace(\".jpg\",\"\")+\"_q50.npy\"\n",
    "        basename_q40 = basename_jpg.replace(\".jpg\",\"\")+\"_q40.npy\"\n",
    "        basename_q30 = basename_jpg.replace(\".jpg\",\"\")+\"_q30.npy\"\n",
    "        file_ = file_.replace(basename_jpg, \"\")\n",
    "        #file_path_q10 = os.path.join(file_, basename_q10)\n",
    "        #file_path_q50 = os.path.join(file_, basename_q50)\n",
    "        file_path_q40 = os.path.join(file_, basename_q40)\n",
    "        #file_path_q30 = os.path.join(file_, basename_q30)\n",
    "        \n",
    "        '''\n",
    "        if os.path.exists(file_path_q10):\n",
    "            os.remove(file_path_q10)     \n",
    "        np.save(file_path_q10, dct_q10)\n",
    "        \n",
    "        if os.path.exists(file_path_q50):\n",
    "            os.remove(file_path_q50)    \n",
    "        np.save(file_path_q50, dct_q50)\n",
    "        '''\n",
    "        if os.path.exists(file_path_q40):\n",
    "            os.remove(file_path_q40)    \n",
    "        np.save(file_path_q40, dct_q40)\n",
    "        \n",
    "        '''\n",
    "        if os.path.exists(file_path_q30):\n",
    "            os.remove(file_path_q30)    \n",
    "        np.save(file_path_q30, dct_q30)\n",
    "        '''\n",
    "    "
   ]
  },
  {
   "cell_type": "code",
   "execution_count": 3,
   "metadata": {
    "scrolled": true
   },
   "outputs": [
    {
     "name": "stderr",
     "output_type": "stream",
     "text": [
      "4it [00:01,  2.10it/s]"
     ]
    },
    {
     "name": "stdout",
     "output_type": "stream",
     "text": [
      "Invalid image size. Input image width and height should be multiple of 8.\n",
      "Invalid image size. Input image width and height should be multiple of 8.\n",
      "Invalid image size. Input image width and height should be multiple of 8.\n",
      "Invalid image size. Input image width and height should be multiple of 8.\n",
      "Invalid image size. Input image width and height should be multiple of 8.\n",
      "Invalid image size. Input image width and height should be multiple of 8.\n",
      "Invalid image size. Input image width and height should be multiple of 8.\n",
      "Invalid image size. Input image width and height should be multiple of 8.\n"
     ]
    },
    {
     "name": "stderr",
     "output_type": "stream",
     "text": [
      "19it [00:04,  2.74it/s]"
     ]
    },
    {
     "name": "stdout",
     "output_type": "stream",
     "text": [
      "Invalid image size. Input image width and height should be multiple of 8.\n"
     ]
    },
    {
     "name": "stderr",
     "output_type": "stream",
     "text": [
      "27it [00:07,  2.69it/s]"
     ]
    },
    {
     "name": "stdout",
     "output_type": "stream",
     "text": [
      "Invalid image size. Input image width and height should be multiple of 8.\n"
     ]
    },
    {
     "name": "stderr",
     "output_type": "stream",
     "text": [
      "34it [00:09,  2.81it/s]"
     ]
    },
    {
     "name": "stdout",
     "output_type": "stream",
     "text": [
      "Invalid image size. Input image width and height should be multiple of 8.\n",
      "Invalid image size. Input image width and height should be multiple of 8.\n"
     ]
    },
    {
     "name": "stderr",
     "output_type": "stream",
     "text": [
      "\r",
      "37it [00:09,  3.47it/s]"
     ]
    },
    {
     "name": "stdout",
     "output_type": "stream",
     "text": [
      "Invalid image size. Input image width and height should be multiple of 8.\n",
      "Invalid image size. Input image width and height should be multiple of 8.\n",
      "Invalid image size. Input image width and height should be multiple of 8.\n",
      "Invalid image size. Input image width and height should be multiple of 8.\n",
      "Invalid image size. Input image width and height should be multiple of 8.\n",
      "Invalid image size. Input image width and height should be multiple of 8.\n"
     ]
    },
    {
     "name": "stderr",
     "output_type": "stream",
     "text": [
      "47it [00:11,  3.22it/s]"
     ]
    },
    {
     "name": "stdout",
     "output_type": "stream",
     "text": [
      "Invalid image size. Input image width and height should be multiple of 8.\n"
     ]
    },
    {
     "name": "stderr",
     "output_type": "stream",
     "text": [
      "50it [00:11,  3.29it/s]"
     ]
    },
    {
     "name": "stdout",
     "output_type": "stream",
     "text": [
      "Invalid image size. Input image width and height should be multiple of 8.\n"
     ]
    },
    {
     "name": "stderr",
     "output_type": "stream",
     "text": [
      "57it [00:14,  2.76it/s]"
     ]
    },
    {
     "name": "stdout",
     "output_type": "stream",
     "text": [
      "Invalid image size. Input image width and height should be multiple of 8.\n",
      "Invalid image size. Input image width and height should be multiple of 8.\n"
     ]
    },
    {
     "name": "stderr",
     "output_type": "stream",
     "text": [
      "65it [00:16,  2.70it/s]"
     ]
    },
    {
     "name": "stdout",
     "output_type": "stream",
     "text": [
      "Invalid image size. Input image width and height should be multiple of 8.\n",
      "Invalid image size. Input image width and height should be multiple of 8.\n",
      "Invalid image size. Input image width and height should be multiple of 8.\n",
      "Invalid image size. Input image width and height should be multiple of 8.\n",
      "Invalid image size. Input image width and height should be multiple of 8.\n",
      "Invalid image size. Input image width and height should be multiple of 8.\n",
      "Invalid image size. Input image width and height should be multiple of 8.\n",
      "Invalid image size. Input image width and height should be multiple of 8.\n",
      "Invalid image size. Input image width and height should be multiple of 8.\n"
     ]
    },
    {
     "name": "stderr",
     "output_type": "stream",
     "text": [
      "80it [00:18,  2.88it/s]"
     ]
    },
    {
     "name": "stdout",
     "output_type": "stream",
     "text": [
      "Invalid image size. Input image width and height should be multiple of 8.\n",
      "Invalid image size. Input image width and height should be multiple of 8.\n"
     ]
    },
    {
     "name": "stderr",
     "output_type": "stream",
     "text": [
      "88it [00:20,  2.83it/s]"
     ]
    },
    {
     "name": "stdout",
     "output_type": "stream",
     "text": [
      "Invalid image size. Input image width and height should be multiple of 8.\n"
     ]
    },
    {
     "name": "stderr",
     "output_type": "stream",
     "text": [
      "91it [00:21,  3.08it/s]"
     ]
    },
    {
     "name": "stdout",
     "output_type": "stream",
     "text": [
      "Invalid image size. Input image width and height should be multiple of 8.\n"
     ]
    },
    {
     "name": "stderr",
     "output_type": "stream",
     "text": [
      "96it [00:23,  2.96it/s]"
     ]
    },
    {
     "name": "stdout",
     "output_type": "stream",
     "text": [
      "Invalid image size. Input image width and height should be multiple of 8.\n",
      "Invalid image size. Input image width and height should be multiple of 8.\n",
      "Invalid image size. Input image width and height should be multiple of 8.\n",
      "Invalid image size. Input image width and height should be multiple of 8.\n",
      "Invalid image size. Input image width and height should be multiple of 8.\n",
      "Invalid image size. Input image width and height should be multiple of 8.\n",
      "Invalid image size. Input image width and height should be multiple of 8.\n",
      "Invalid image size. Input image width and height should be multiple of 8.\n",
      "Invalid image size. Input image width and height should be multiple of 8.\n"
     ]
    },
    {
     "name": "stderr",
     "output_type": "stream",
     "text": [
      "111it [00:25,  2.75it/s]"
     ]
    },
    {
     "name": "stdout",
     "output_type": "stream",
     "text": [
      "Invalid image size. Input image width and height should be multiple of 8.\n"
     ]
    },
    {
     "name": "stderr",
     "output_type": "stream",
     "text": [
      "114it [00:26,  2.96it/s]"
     ]
    },
    {
     "name": "stdout",
     "output_type": "stream",
     "text": [
      "Invalid image size. Input image width and height should be multiple of 8.\n"
     ]
    },
    {
     "name": "stderr",
     "output_type": "stream",
     "text": [
      "120it [00:28,  2.72it/s]"
     ]
    },
    {
     "name": "stdout",
     "output_type": "stream",
     "text": [
      "Invalid image size. Input image width and height should be multiple of 8.\n"
     ]
    },
    {
     "name": "stderr",
     "output_type": "stream",
     "text": [
      "125it [00:29,  2.77it/s]"
     ]
    },
    {
     "name": "stdout",
     "output_type": "stream",
     "text": [
      "Invalid image size. Input image width and height should be multiple of 8.\n"
     ]
    },
    {
     "name": "stderr",
     "output_type": "stream",
     "text": [
      "128it [00:30,  3.07it/s]"
     ]
    },
    {
     "name": "stdout",
     "output_type": "stream",
     "text": [
      "Invalid image size. Input image width and height should be multiple of 8.\n",
      "Invalid image size. Input image width and height should be multiple of 8.\n",
      "Invalid image size. Input image width and height should be multiple of 8.\n",
      "Invalid image size. Input image width and height should be multiple of 8.\n",
      "Invalid image size. Input image width and height should be multiple of 8.\n",
      "Invalid image size. Input image width and height should be multiple of 8.\n",
      "Invalid image size. Input image width and height should be multiple of 8.\n",
      "Invalid image size. Input image width and height should be multiple of 8.\n"
     ]
    },
    {
     "name": "stderr",
     "output_type": "stream",
     "text": [
      "143it [00:33,  2.76it/s]"
     ]
    },
    {
     "name": "stdout",
     "output_type": "stream",
     "text": [
      "Invalid image size. Input image width and height should be multiple of 8.\n"
     ]
    },
    {
     "name": "stderr",
     "output_type": "stream",
     "text": [
      "151it [00:36,  2.62it/s]"
     ]
    },
    {
     "name": "stdout",
     "output_type": "stream",
     "text": [
      "Invalid image size. Input image width and height should be multiple of 8.\n"
     ]
    },
    {
     "name": "stderr",
     "output_type": "stream",
     "text": [
      "167it [00:38,  3.66it/s]"
     ]
    },
    {
     "name": "stdout",
     "output_type": "stream",
     "text": [
      "Invalid image size. Input image width and height should be multiple of 8.\n",
      "Invalid image size. Input image width and height should be multiple of 8.\n",
      "Invalid image size. Input image width and height should be multiple of 8.\n",
      "Invalid image size. Input image width and height should be multiple of 8.\n",
      "Invalid image size. Input image width and height should be multiple of 8.\n",
      "Invalid image size. Input image width and height should be multiple of 8.\n",
      "Invalid image size. Input image width and height should be multiple of 8.\n",
      "Invalid image size. Input image width and height should be multiple of 8.\n"
     ]
    },
    {
     "name": "stderr",
     "output_type": "stream",
     "text": [
      "174it [00:41,  2.93it/s]"
     ]
    },
    {
     "name": "stdout",
     "output_type": "stream",
     "text": [
      "Invalid image size. Input image width and height should be multiple of 8.\n"
     ]
    },
    {
     "name": "stderr",
     "output_type": "stream",
     "text": [
      "182it [00:44,  2.67it/s]"
     ]
    },
    {
     "name": "stdout",
     "output_type": "stream",
     "text": [
      "Invalid image size. Input image width and height should be multiple of 8.\n"
     ]
    },
    {
     "name": "stderr",
     "output_type": "stream",
     "text": [
      "189it [00:46,  2.70it/s]"
     ]
    },
    {
     "name": "stdout",
     "output_type": "stream",
     "text": [
      "Invalid image size. Input image width and height should be multiple of 8.\n",
      "Invalid image size. Input image width and height should be multiple of 8.\n"
     ]
    },
    {
     "name": "stderr",
     "output_type": "stream",
     "text": [
      "\r",
      "192it [00:46,  3.35it/s]"
     ]
    },
    {
     "name": "stdout",
     "output_type": "stream",
     "text": [
      "Invalid image size. Input image width and height should be multiple of 8.\n",
      "Invalid image size. Input image width and height should be multiple of 8.\n",
      "Invalid image size. Input image width and height should be multiple of 8.\n",
      "Invalid image size. Input image width and height should be multiple of 8.\n",
      "Invalid image size. Input image width and height should be multiple of 8.\n",
      "Invalid image size. Input image width and height should be multiple of 8.\n"
     ]
    },
    {
     "name": "stderr",
     "output_type": "stream",
     "text": [
      "202it [00:48,  2.97it/s]"
     ]
    },
    {
     "name": "stdout",
     "output_type": "stream",
     "text": [
      "Invalid image size. Input image width and height should be multiple of 8.\n"
     ]
    },
    {
     "name": "stderr",
     "output_type": "stream",
     "text": [
      "205it [00:49,  3.12it/s]"
     ]
    },
    {
     "name": "stdout",
     "output_type": "stream",
     "text": [
      "Invalid image size. Input image width and height should be multiple of 8.\n"
     ]
    },
    {
     "name": "stderr",
     "output_type": "stream",
     "text": [
      "212it [00:51,  2.64it/s]"
     ]
    },
    {
     "name": "stdout",
     "output_type": "stream",
     "text": [
      "Invalid image size. Input image width and height should be multiple of 8.\n"
     ]
    },
    {
     "name": "stderr",
     "output_type": "stream",
     "text": [
      "220it [00:54,  2.59it/s]"
     ]
    },
    {
     "name": "stdout",
     "output_type": "stream",
     "text": [
      "Invalid image size. Input image width and height should be multiple of 8.\n",
      "Invalid image size. Input image width and height should be multiple of 8.\n",
      "Invalid image size. Input image width and height should be multiple of 8.\n",
      "Invalid image size. Input image width and height should be multiple of 8.\n"
     ]
    },
    {
     "name": "stderr",
     "output_type": "stream",
     "text": [
      "226it [00:55,  3.15it/s]"
     ]
    },
    {
     "name": "stdout",
     "output_type": "stream",
     "text": [
      "Invalid image size. Input image width and height should be multiple of 8.\n",
      "Invalid image size. Input image width and height should be multiple of 8.\n",
      "Invalid image size. Input image width and height should be multiple of 8.\n",
      "Invalid image size. Input image width and height should be multiple of 8.\n"
     ]
    },
    {
     "name": "stderr",
     "output_type": "stream",
     "text": [
      "237it [00:58,  2.70it/s]"
     ]
    },
    {
     "name": "stdout",
     "output_type": "stream",
     "text": [
      "Invalid image size. Input image width and height should be multiple of 8.\n"
     ]
    },
    {
     "name": "stderr",
     "output_type": "stream",
     "text": [
      "244it [01:00,  2.67it/s]"
     ]
    },
    {
     "name": "stdout",
     "output_type": "stream",
     "text": [
      "Invalid image size. Input image width and height should be multiple of 8.\n"
     ]
    },
    {
     "name": "stderr",
     "output_type": "stream",
     "text": [
      "252it [01:03,  2.64it/s]"
     ]
    },
    {
     "name": "stdout",
     "output_type": "stream",
     "text": [
      "Invalid image size. Input image width and height should be multiple of 8.\n",
      "Invalid image size. Input image width and height should be multiple of 8.\n",
      "Invalid image size. Input image width and height should be multiple of 8.\n",
      "Invalid image size. Input image width and height should be multiple of 8.\n",
      "Invalid image size. Input image width and height should be multiple of 8.\n",
      "Invalid image size. Input image width and height should be multiple of 8.\n"
     ]
    },
    {
     "name": "stderr",
     "output_type": "stream",
     "text": [
      "\r",
      "259it [01:03,  3.52it/s]"
     ]
    },
    {
     "name": "stdout",
     "output_type": "stream",
     "text": [
      "Invalid image size. Input image width and height should be multiple of 8.\n",
      "Invalid image size. Input image width and height should be multiple of 8.\n"
     ]
    },
    {
     "name": "stderr",
     "output_type": "stream",
     "text": [
      "267it [01:05,  2.79it/s]"
     ]
    },
    {
     "name": "stdout",
     "output_type": "stream",
     "text": [
      "Invalid image size. Input image width and height should be multiple of 8.\n"
     ]
    },
    {
     "name": "stderr",
     "output_type": "stream",
     "text": [
      "275it [01:08,  2.74it/s]"
     ]
    },
    {
     "name": "stdout",
     "output_type": "stream",
     "text": [
      "Invalid image size. Input image width and height should be multiple of 8.\n"
     ]
    },
    {
     "name": "stderr",
     "output_type": "stream",
     "text": [
      "280it [01:10,  2.75it/s]"
     ]
    },
    {
     "name": "stdout",
     "output_type": "stream",
     "text": [
      "Invalid image size. Input image width and height should be multiple of 8.\n"
     ]
    },
    {
     "name": "stderr",
     "output_type": "stream",
     "text": [
      "291it [01:10,  4.21it/s]"
     ]
    },
    {
     "name": "stdout",
     "output_type": "stream",
     "text": [
      "Invalid image size. Input image width and height should be multiple of 8.\n",
      "Invalid image size. Input image width and height should be multiple of 8.\n",
      "Invalid image size. Input image width and height should be multiple of 8.\n",
      "Invalid image size. Input image width and height should be multiple of 8.\n",
      "Invalid image size. Input image width and height should be multiple of 8.\n",
      "Invalid image size. Input image width and height should be multiple of 8.\n",
      "Invalid image size. Input image width and height should be multiple of 8.\n",
      "Invalid image size. Input image width and height should be multiple of 8.\n"
     ]
    },
    {
     "name": "stderr",
     "output_type": "stream",
     "text": [
      "298it [01:13,  3.09it/s]"
     ]
    },
    {
     "name": "stdout",
     "output_type": "stream",
     "text": [
      "Invalid image size. Input image width and height should be multiple of 8.\n"
     ]
    },
    {
     "name": "stderr",
     "output_type": "stream",
     "text": [
      "306it [01:16,  2.82it/s]"
     ]
    },
    {
     "name": "stdout",
     "output_type": "stream",
     "text": [
      "Invalid image size. Input image width and height should be multiple of 8.\n"
     ]
    },
    {
     "name": "stderr",
     "output_type": "stream",
     "text": [
      "314it [01:18,  2.68it/s]"
     ]
    },
    {
     "name": "stdout",
     "output_type": "stream",
     "text": [
      "Invalid image size. Input image width and height should be multiple of 8.\n",
      "Invalid image size. Input image width and height should be multiple of 8.\n",
      "Invalid image size. Input image width and height should be multiple of 8.\n",
      "Invalid image size. Input image width and height should be multiple of 8.\n",
      "Invalid image size. Input image width and height should be multiple of 8.\n",
      "Invalid image size. Input image width and height should be multiple of 8.\n",
      "Invalid image size. Input image width and height should be multiple of 8.\n",
      "Invalid image size. Input image width and height should be multiple of 8.\n"
     ]
    },
    {
     "name": "stderr",
     "output_type": "stream",
     "text": [
      "329it [01:21,  2.74it/s]"
     ]
    },
    {
     "name": "stdout",
     "output_type": "stream",
     "text": [
      "Invalid image size. Input image width and height should be multiple of 8.\n"
     ]
    },
    {
     "name": "stderr",
     "output_type": "stream",
     "text": [
      "335it [01:23,  2.81it/s]"
     ]
    },
    {
     "name": "stdout",
     "output_type": "stream",
     "text": [
      "Invalid image size. Input image width and height should be multiple of 8.\n"
     ]
    },
    {
     "name": "stderr",
     "output_type": "stream",
     "text": [
      "338it [01:24,  3.05it/s]"
     ]
    },
    {
     "name": "stdout",
     "output_type": "stream",
     "text": [
      "Invalid image size. Input image width and height should be multiple of 8.\n"
     ]
    },
    {
     "name": "stderr",
     "output_type": "stream",
     "text": [
      "345it [01:26,  2.79it/s]"
     ]
    },
    {
     "name": "stdout",
     "output_type": "stream",
     "text": [
      "Invalid image size. Input image width and height should be multiple of 8.\n",
      "Invalid image size. Input image width and height should be multiple of 8.\n"
     ]
    },
    {
     "name": "stderr",
     "output_type": "stream",
     "text": [
      "\r",
      "348it [01:26,  3.41it/s]"
     ]
    },
    {
     "name": "stdout",
     "output_type": "stream",
     "text": [
      "Invalid image size. Input image width and height should be multiple of 8.\n",
      "Invalid image size. Input image width and height should be multiple of 8.\n",
      "Invalid image size. Input image width and height should be multiple of 8.\n",
      "Invalid image size. Input image width and height should be multiple of 8.\n",
      "Invalid image size. Input image width and height should be multiple of 8.\n",
      "Invalid image size. Input image width and height should be multiple of 8.\n"
     ]
    },
    {
     "name": "stderr",
     "output_type": "stream",
     "text": [
      "358it [01:28,  3.15it/s]"
     ]
    },
    {
     "name": "stdout",
     "output_type": "stream",
     "text": [
      "Invalid image size. Input image width and height should be multiple of 8.\n"
     ]
    },
    {
     "name": "stderr",
     "output_type": "stream",
     "text": [
      "361it [01:29,  3.24it/s]"
     ]
    },
    {
     "name": "stdout",
     "output_type": "stream",
     "text": [
      "Invalid image size. Input image width and height should be multiple of 8.\n"
     ]
    },
    {
     "name": "stderr",
     "output_type": "stream",
     "text": [
      "368it [01:31,  2.76it/s]"
     ]
    },
    {
     "name": "stdout",
     "output_type": "stream",
     "text": [
      "Invalid image size. Input image width and height should be multiple of 8.\n",
      "Invalid image size. Input image width and height should be multiple of 8.\n"
     ]
    },
    {
     "name": "stderr",
     "output_type": "stream",
     "text": [
      "376it [01:33,  2.87it/s]"
     ]
    },
    {
     "name": "stdout",
     "output_type": "stream",
     "text": [
      "Invalid image size. Input image width and height should be multiple of 8.\n",
      "Invalid image size. Input image width and height should be multiple of 8.\n",
      "Invalid image size. Input image width and height should be multiple of 8.\n",
      "Invalid image size. Input image width and height should be multiple of 8.\n",
      "Invalid image size. Input image width and height should be multiple of 8.\n",
      "Invalid image size. Input image width and height should be multiple of 8.\n",
      "Invalid image size. Input image width and height should be multiple of 8.\n",
      "Invalid image size. Input image width and height should be multiple of 8.\n",
      "Invalid image size. Input image width and height should be multiple of 8.\n"
     ]
    },
    {
     "name": "stderr",
     "output_type": "stream",
     "text": [
      "391it [01:35,  2.86it/s]"
     ]
    },
    {
     "name": "stdout",
     "output_type": "stream",
     "text": [
      "Invalid image size. Input image width and height should be multiple of 8.\n",
      "Invalid image size. Input image width and height should be multiple of 8.\n"
     ]
    },
    {
     "name": "stderr",
     "output_type": "stream",
     "text": [
      "399it [01:38,  2.88it/s]"
     ]
    },
    {
     "name": "stdout",
     "output_type": "stream",
     "text": [
      "Invalid image size. Input image width and height should be multiple of 8.\n"
     ]
    },
    {
     "name": "stderr",
     "output_type": "stream",
     "text": [
      "402it [01:38,  3.17it/s]"
     ]
    },
    {
     "name": "stdout",
     "output_type": "stream",
     "text": [
      "Invalid image size. Input image width and height should be multiple of 8.\n"
     ]
    },
    {
     "name": "stderr",
     "output_type": "stream",
     "text": [
      "407it [01:40,  2.92it/s]"
     ]
    },
    {
     "name": "stdout",
     "output_type": "stream",
     "text": [
      "Invalid image size. Input image width and height should be multiple of 8.\n",
      "Invalid image size. Input image width and height should be multiple of 8.\n",
      "Invalid image size. Input image width and height should be multiple of 8.\n",
      "Invalid image size. Input image width and height should be multiple of 8.\n",
      "Invalid image size. Input image width and height should be multiple of 8.\n",
      "Invalid image size. Input image width and height should be multiple of 8.\n",
      "Invalid image size. Input image width and height should be multiple of 8.\n",
      "Invalid image size. Input image width and height should be multiple of 8.\n",
      "Invalid image size. Input image width and height should be multiple of 8.\n"
     ]
    },
    {
     "name": "stderr",
     "output_type": "stream",
     "text": [
      "422it [01:42,  2.89it/s]"
     ]
    },
    {
     "name": "stdout",
     "output_type": "stream",
     "text": [
      "Invalid image size. Input image width and height should be multiple of 8.\n"
     ]
    },
    {
     "name": "stderr",
     "output_type": "stream",
     "text": [
      "\r",
      "424it [01:42,  3.34it/s]"
     ]
    },
    {
     "name": "stdout",
     "output_type": "stream",
     "text": [
      "Invalid image size. Input image width and height should be multiple of 8.\n"
     ]
    },
    {
     "name": "stderr",
     "output_type": "stream",
     "text": [
      "430it [01:44,  2.96it/s]"
     ]
    },
    {
     "name": "stdout",
     "output_type": "stream",
     "text": [
      "Invalid image size. Input image width and height should be multiple of 8.\n"
     ]
    },
    {
     "name": "stderr",
     "output_type": "stream",
     "text": [
      "435it [01:46,  2.91it/s]"
     ]
    },
    {
     "name": "stdout",
     "output_type": "stream",
     "text": [
      "Invalid image size. Input image width and height should be multiple of 8.\n"
     ]
    },
    {
     "name": "stderr",
     "output_type": "stream",
     "text": [
      "438it [01:47,  3.13it/s]"
     ]
    },
    {
     "name": "stdout",
     "output_type": "stream",
     "text": [
      "Invalid image size. Input image width and height should be multiple of 8.\n",
      "Invalid image size. Input image width and height should be multiple of 8.\n",
      "Invalid image size. Input image width and height should be multiple of 8.\n",
      "Invalid image size. Input image width and height should be multiple of 8.\n",
      "Invalid image size. Input image width and height should be multiple of 8.\n",
      "Invalid image size. Input image width and height should be multiple of 8.\n",
      "Invalid image size. Input image width and height should be multiple of 8.\n",
      "Invalid image size. Input image width and height should be multiple of 8.\n"
     ]
    },
    {
     "name": "stderr",
     "output_type": "stream",
     "text": [
      "454it [01:49,  2.89it/s]"
     ]
    },
    {
     "name": "stdout",
     "output_type": "stream",
     "text": [
      "Invalid image size. Input image width and height should be multiple of 8.\n"
     ]
    },
    {
     "name": "stderr",
     "output_type": "stream",
     "text": [
      "462it [01:52,  2.85it/s]"
     ]
    },
    {
     "name": "stdout",
     "output_type": "stream",
     "text": [
      "Invalid image size. Input image width and height should be multiple of 8.\n"
     ]
    },
    {
     "name": "stderr",
     "output_type": "stream",
     "text": [
      "470it [01:54,  2.90it/s]"
     ]
    },
    {
     "name": "stdout",
     "output_type": "stream",
     "text": [
      "Invalid image size. Input image width and height should be multiple of 8.\n",
      "Invalid image size. Input image width and height should be multiple of 8.\n",
      "Invalid image size. Input image width and height should be multiple of 8.\n",
      "Invalid image size. Input image width and height should be multiple of 8.\n",
      "Invalid image size. Input image width and height should be multiple of 8.\n",
      "Invalid image size. Input image width and height should be multiple of 8.\n",
      "Invalid image size. Input image width and height should be multiple of 8.\n",
      "Invalid image size. Input image width and height should be multiple of 8.\n"
     ]
    },
    {
     "name": "stderr",
     "output_type": "stream",
     "text": [
      "485it [01:57,  2.93it/s]"
     ]
    },
    {
     "name": "stdout",
     "output_type": "stream",
     "text": [
      "Invalid image size. Input image width and height should be multiple of 8.\n"
     ]
    },
    {
     "name": "stderr",
     "output_type": "stream",
     "text": [
      "493it [02:00,  2.80it/s]"
     ]
    },
    {
     "name": "stdout",
     "output_type": "stream",
     "text": [
      "Invalid image size. Input image width and height should be multiple of 8.\n"
     ]
    },
    {
     "name": "stderr",
     "output_type": "stream",
     "text": [
      "500it [02:02,  2.87it/s]"
     ]
    },
    {
     "name": "stdout",
     "output_type": "stream",
     "text": [
      "Invalid image size. Input image width and height should be multiple of 8.\n",
      "Invalid image size. Input image width and height should be multiple of 8.\n"
     ]
    },
    {
     "name": "stderr",
     "output_type": "stream",
     "text": [
      "\r",
      "503it [02:02,  3.56it/s]"
     ]
    },
    {
     "name": "stdout",
     "output_type": "stream",
     "text": [
      "Invalid image size. Input image width and height should be multiple of 8.\n",
      "Invalid image size. Input image width and height should be multiple of 8.\n",
      "Invalid image size. Input image width and height should be multiple of 8.\n",
      "Invalid image size. Input image width and height should be multiple of 8.\n",
      "Invalid image size. Input image width and height should be multiple of 8.\n",
      "Invalid image size. Input image width and height should be multiple of 8.\n"
     ]
    },
    {
     "name": "stderr",
     "output_type": "stream",
     "text": [
      "513it [02:03,  3.29it/s]"
     ]
    },
    {
     "name": "stdout",
     "output_type": "stream",
     "text": [
      "Invalid image size. Input image width and height should be multiple of 8.\n"
     ]
    },
    {
     "name": "stderr",
     "output_type": "stream",
     "text": [
      "516it [02:04,  3.43it/s]"
     ]
    },
    {
     "name": "stdout",
     "output_type": "stream",
     "text": [
      "Invalid image size. Input image width and height should be multiple of 8.\n"
     ]
    },
    {
     "name": "stderr",
     "output_type": "stream",
     "text": [
      "523it [02:06,  2.81it/s]"
     ]
    },
    {
     "name": "stdout",
     "output_type": "stream",
     "text": [
      "Invalid image size. Input image width and height should be multiple of 8.\n"
     ]
    },
    {
     "name": "stderr",
     "output_type": "stream",
     "text": [
      "531it [02:09,  2.69it/s]"
     ]
    },
    {
     "name": "stdout",
     "output_type": "stream",
     "text": [
      "Invalid image size. Input image width and height should be multiple of 8.\n",
      "Invalid image size. Input image width and height should be multiple of 8.\n",
      "Invalid image size. Input image width and height should be multiple of 8.\n",
      "Invalid image size. Input image width and height should be multiple of 8.\n"
     ]
    },
    {
     "name": "stderr",
     "output_type": "stream",
     "text": [
      "\r",
      "536it [02:09,  3.50it/s]"
     ]
    },
    {
     "name": "stdout",
     "output_type": "stream",
     "text": [
      "Invalid image size. Input image width and height should be multiple of 8.\n",
      "Invalid image size. Input image width and height should be multiple of 8.\n",
      "Invalid image size. Input image width and height should be multiple of 8.\n",
      "Invalid image size. Input image width and height should be multiple of 8.\n"
     ]
    },
    {
     "name": "stderr",
     "output_type": "stream",
     "text": [
      "547it [02:12,  2.68it/s]"
     ]
    },
    {
     "name": "stdout",
     "output_type": "stream",
     "text": [
      "Invalid image size. Input image width and height should be multiple of 8.\n"
     ]
    },
    {
     "name": "stderr",
     "output_type": "stream",
     "text": [
      "554it [02:15,  2.61it/s]"
     ]
    },
    {
     "name": "stdout",
     "output_type": "stream",
     "text": [
      "Invalid image size. Input image width and height should be multiple of 8.\n"
     ]
    },
    {
     "name": "stderr",
     "output_type": "stream",
     "text": [
      "563it [02:18,  2.59it/s]"
     ]
    },
    {
     "name": "stdout",
     "output_type": "stream",
     "text": [
      "Invalid image size. Input image width and height should be multiple of 8.\n",
      "Invalid image size. Input image width and height should be multiple of 8.\n",
      "Invalid image size. Input image width and height should be multiple of 8.\n",
      "Invalid image size. Input image width and height should be multiple of 8.\n",
      "Invalid image size. Input image width and height should be multiple of 8.\n",
      "Invalid image size. Input image width and height should be multiple of 8.\n"
     ]
    },
    {
     "name": "stderr",
     "output_type": "stream",
     "text": [
      "\r",
      "570it [02:18,  3.44it/s]"
     ]
    },
    {
     "name": "stdout",
     "output_type": "stream",
     "text": [
      "Invalid image size. Input image width and height should be multiple of 8.\n",
      "Invalid image size. Input image width and height should be multiple of 8.\n"
     ]
    },
    {
     "name": "stderr",
     "output_type": "stream",
     "text": [
      "578it [02:21,  2.77it/s]"
     ]
    },
    {
     "name": "stdout",
     "output_type": "stream",
     "text": [
      "Invalid image size. Input image width and height should be multiple of 8.\n"
     ]
    },
    {
     "name": "stderr",
     "output_type": "stream",
     "text": [
      "586it [02:23,  2.61it/s]"
     ]
    },
    {
     "name": "stdout",
     "output_type": "stream",
     "text": [
      "Invalid image size. Input image width and height should be multiple of 8.\n"
     ]
    },
    {
     "name": "stderr",
     "output_type": "stream",
     "text": [
      "591it [02:25,  2.70it/s]"
     ]
    },
    {
     "name": "stdout",
     "output_type": "stream",
     "text": [
      "Invalid image size. Input image width and height should be multiple of 8.\n"
     ]
    },
    {
     "name": "stderr",
     "output_type": "stream",
     "text": [
      "594it [02:26,  2.98it/s]"
     ]
    },
    {
     "name": "stdout",
     "output_type": "stream",
     "text": [
      "Invalid image size. Input image width and height should be multiple of 8.\n",
      "Invalid image size. Input image width and height should be multiple of 8.\n",
      "Invalid image size. Input image width and height should be multiple of 8.\n",
      "Invalid image size. Input image width and height should be multiple of 8.\n",
      "Invalid image size. Input image width and height should be multiple of 8.\n",
      "Invalid image size. Input image width and height should be multiple of 8.\n",
      "Invalid image size. Input image width and height should be multiple of 8.\n",
      "Invalid image size. Input image width and height should be multiple of 8.\n"
     ]
    },
    {
     "name": "stderr",
     "output_type": "stream",
     "text": [
      "609it [02:28,  2.71it/s]"
     ]
    },
    {
     "name": "stdout",
     "output_type": "stream",
     "text": [
      "Invalid image size. Input image width and height should be multiple of 8.\n"
     ]
    },
    {
     "name": "stderr",
     "output_type": "stream",
     "text": [
      "617it [02:31,  2.60it/s]"
     ]
    },
    {
     "name": "stdout",
     "output_type": "stream",
     "text": [
      "Invalid image size. Input image width and height should be multiple of 8.\n"
     ]
    },
    {
     "name": "stderr",
     "output_type": "stream",
     "text": [
      "625it [02:34,  2.57it/s]"
     ]
    },
    {
     "name": "stdout",
     "output_type": "stream",
     "text": [
      "Invalid image size. Input image width and height should be multiple of 8.\n",
      "Invalid image size. Input image width and height should be multiple of 8.\n",
      "Invalid image size. Input image width and height should be multiple of 8.\n",
      "Invalid image size. Input image width and height should be multiple of 8.\n",
      "Invalid image size. Input image width and height should be multiple of 8.\n",
      "Invalid image size. Input image width and height should be multiple of 8.\n",
      "Invalid image size. Input image width and height should be multiple of 8.\n",
      "Invalid image size. Input image width and height should be multiple of 8.\n"
     ]
    },
    {
     "name": "stderr",
     "output_type": "stream",
     "text": [
      "640it [02:37,  2.57it/s]"
     ]
    },
    {
     "name": "stdout",
     "output_type": "stream",
     "text": [
      "Invalid image size. Input image width and height should be multiple of 8.\n"
     ]
    },
    {
     "name": "stderr",
     "output_type": "stream",
     "text": [
      "648it [02:40,  2.67it/s]"
     ]
    },
    {
     "name": "stdout",
     "output_type": "stream",
     "text": [
      "Invalid image size. Input image width and height should be multiple of 8.\n"
     ]
    },
    {
     "name": "stderr",
     "output_type": "stream",
     "text": [
      "655it [02:42,  2.63it/s]"
     ]
    },
    {
     "name": "stdout",
     "output_type": "stream",
     "text": [
      "Invalid image size. Input image width and height should be multiple of 8.\n",
      "Invalid image size. Input image width and height should be multiple of 8.\n"
     ]
    },
    {
     "name": "stderr",
     "output_type": "stream",
     "text": [
      "\r",
      "658it [02:42,  3.25it/s]"
     ]
    },
    {
     "name": "stdout",
     "output_type": "stream",
     "text": [
      "Invalid image size. Input image width and height should be multiple of 8.\n",
      "Invalid image size. Input image width and height should be multiple of 8.\n",
      "Invalid image size. Input image width and height should be multiple of 8.\n",
      "Invalid image size. Input image width and height should be multiple of 8.\n",
      "Invalid image size. Input image width and height should be multiple of 8.\n",
      "Invalid image size. Input image width and height should be multiple of 8.\n"
     ]
    },
    {
     "name": "stderr",
     "output_type": "stream",
     "text": [
      "669it [02:44,  2.89it/s]"
     ]
    },
    {
     "name": "stdout",
     "output_type": "stream",
     "text": [
      "Invalid image size. Input image width and height should be multiple of 8.\n"
     ]
    },
    {
     "name": "stderr",
     "output_type": "stream",
     "text": [
      "672it [02:45,  3.05it/s]"
     ]
    },
    {
     "name": "stdout",
     "output_type": "stream",
     "text": [
      "Invalid image size. Input image width and height should be multiple of 8.\n"
     ]
    },
    {
     "name": "stderr",
     "output_type": "stream",
     "text": [
      "679it [02:47,  2.75it/s]"
     ]
    },
    {
     "name": "stdout",
     "output_type": "stream",
     "text": [
      "Invalid image size. Input image width and height should be multiple of 8.\n",
      "Invalid image size. Input image width and height should be multiple of 8.\n"
     ]
    },
    {
     "name": "stderr",
     "output_type": "stream",
     "text": [
      "687it [02:50,  2.74it/s]"
     ]
    },
    {
     "name": "stdout",
     "output_type": "stream",
     "text": [
      "Invalid image size. Input image width and height should be multiple of 8.\n",
      "Invalid image size. Input image width and height should be multiple of 8.\n",
      "Invalid image size. Input image width and height should be multiple of 8.\n",
      "Invalid image size. Input image width and height should be multiple of 8.\n",
      "Invalid image size. Input image width and height should be multiple of 8.\n",
      "Invalid image size. Input image width and height should be multiple of 8.\n",
      "Invalid image size. Input image width and height should be multiple of 8.\n",
      "Invalid image size. Input image width and height should be multiple of 8.\n",
      "Invalid image size. Input image width and height should be multiple of 8.\n"
     ]
    },
    {
     "name": "stderr",
     "output_type": "stream",
     "text": [
      "702it [02:52,  2.75it/s]"
     ]
    },
    {
     "name": "stdout",
     "output_type": "stream",
     "text": [
      "Invalid image size. Input image width and height should be multiple of 8.\n",
      "Invalid image size. Input image width and height should be multiple of 8.\n"
     ]
    },
    {
     "name": "stderr",
     "output_type": "stream",
     "text": [
      "710it [02:54,  2.77it/s]"
     ]
    },
    {
     "name": "stdout",
     "output_type": "stream",
     "text": [
      "Invalid image size. Input image width and height should be multiple of 8.\n"
     ]
    },
    {
     "name": "stderr",
     "output_type": "stream",
     "text": [
      "713it [02:55,  2.99it/s]"
     ]
    },
    {
     "name": "stdout",
     "output_type": "stream",
     "text": [
      "Invalid image size. Input image width and height should be multiple of 8.\n"
     ]
    },
    {
     "name": "stderr",
     "output_type": "stream",
     "text": [
      "718it [02:57,  2.84it/s]"
     ]
    },
    {
     "name": "stdout",
     "output_type": "stream",
     "text": [
      "Invalid image size. Input image width and height should be multiple of 8.\n",
      "Invalid image size. Input image width and height should be multiple of 8.\n",
      "Invalid image size. Input image width and height should be multiple of 8.\n",
      "Invalid image size. Input image width and height should be multiple of 8.\n",
      "Invalid image size. Input image width and height should be multiple of 8.\n",
      "Invalid image size. Input image width and height should be multiple of 8.\n",
      "Invalid image size. Input image width and height should be multiple of 8.\n",
      "Invalid image size. Input image width and height should be multiple of 8.\n",
      "Invalid image size. Input image width and height should be multiple of 8.\n"
     ]
    },
    {
     "name": "stderr",
     "output_type": "stream",
     "text": [
      "733it [02:59,  2.79it/s]"
     ]
    },
    {
     "name": "stdout",
     "output_type": "stream",
     "text": [
      "Invalid image size. Input image width and height should be multiple of 8.\n"
     ]
    },
    {
     "name": "stderr",
     "output_type": "stream",
     "text": [
      "\r",
      "735it [02:59,  3.22it/s]"
     ]
    },
    {
     "name": "stdout",
     "output_type": "stream",
     "text": [
      "Invalid image size. Input image width and height should be multiple of 8.\n"
     ]
    },
    {
     "name": "stderr",
     "output_type": "stream",
     "text": [
      "741it [03:01,  2.87it/s]"
     ]
    },
    {
     "name": "stdout",
     "output_type": "stream",
     "text": [
      "Invalid image size. Input image width and height should be multiple of 8.\n"
     ]
    },
    {
     "name": "stderr",
     "output_type": "stream",
     "text": [
      "746it [03:03,  2.89it/s]"
     ]
    },
    {
     "name": "stdout",
     "output_type": "stream",
     "text": [
      "Invalid image size. Input image width and height should be multiple of 8.\n"
     ]
    },
    {
     "name": "stderr",
     "output_type": "stream",
     "text": [
      "749it [03:04,  3.11it/s]"
     ]
    },
    {
     "name": "stdout",
     "output_type": "stream",
     "text": [
      "Invalid image size. Input image width and height should be multiple of 8.\n",
      "Invalid image size. Input image width and height should be multiple of 8.\n",
      "Invalid image size. Input image width and height should be multiple of 8.\n",
      "Invalid image size. Input image width and height should be multiple of 8.\n",
      "Invalid image size. Input image width and height should be multiple of 8.\n",
      "Invalid image size. Input image width and height should be multiple of 8.\n",
      "Invalid image size. Input image width and height should be multiple of 8.\n",
      "Invalid image size. Input image width and height should be multiple of 8.\n"
     ]
    },
    {
     "name": "stderr",
     "output_type": "stream",
     "text": [
      "764it [03:06,  2.85it/s]"
     ]
    },
    {
     "name": "stdout",
     "output_type": "stream",
     "text": [
      "Invalid image size. Input image width and height should be multiple of 8.\n"
     ]
    },
    {
     "name": "stderr",
     "output_type": "stream",
     "text": [
      "772it [03:09,  2.74it/s]"
     ]
    },
    {
     "name": "stdout",
     "output_type": "stream",
     "text": [
      "Invalid image size. Input image width and height should be multiple of 8.\n"
     ]
    },
    {
     "name": "stderr",
     "output_type": "stream",
     "text": [
      "781it [03:12,  2.77it/s]"
     ]
    },
    {
     "name": "stdout",
     "output_type": "stream",
     "text": [
      "Invalid image size. Input image width and height should be multiple of 8.\n",
      "Invalid image size. Input image width and height should be multiple of 8.\n",
      "Invalid image size. Input image width and height should be multiple of 8.\n",
      "Invalid image size. Input image width and height should be multiple of 8.\n",
      "Invalid image size. Input image width and height should be multiple of 8.\n",
      "Invalid image size. Input image width and height should be multiple of 8.\n",
      "Invalid image size. Input image width and height should be multiple of 8.\n",
      "Invalid image size. Input image width and height should be multiple of 8.\n"
     ]
    },
    {
     "name": "stderr",
     "output_type": "stream",
     "text": [
      "792it [03:13,  3.08it/s]"
     ]
    },
    {
     "name": "stdout",
     "output_type": "stream",
     "text": [
      "Invalid image size. Input image width and height should be multiple of 8.\n"
     ]
    },
    {
     "name": "stderr",
     "output_type": "stream",
     "text": [
      "800it [03:16,  2.78it/s]"
     ]
    },
    {
     "name": "stdout",
     "output_type": "stream",
     "text": [
      "Invalid image size. Input image width and height should be multiple of 8.\n"
     ]
    },
    {
     "name": "stderr",
     "output_type": "stream",
     "text": [
      "807it [03:18,  2.87it/s]"
     ]
    },
    {
     "name": "stdout",
     "output_type": "stream",
     "text": [
      "Invalid image size. Input image width and height should be multiple of 8.\n",
      "Invalid image size. Input image width and height should be multiple of 8.\n"
     ]
    },
    {
     "name": "stderr",
     "output_type": "stream",
     "text": [
      "\r",
      "810it [03:18,  3.54it/s]"
     ]
    },
    {
     "name": "stdout",
     "output_type": "stream",
     "text": [
      "Invalid image size. Input image width and height should be multiple of 8.\n",
      "Invalid image size. Input image width and height should be multiple of 8.\n",
      "Invalid image size. Input image width and height should be multiple of 8.\n",
      "Invalid image size. Input image width and height should be multiple of 8.\n",
      "Invalid image size. Input image width and height should be multiple of 8.\n",
      "Invalid image size. Input image width and height should be multiple of 8.\n"
     ]
    },
    {
     "name": "stderr",
     "output_type": "stream",
     "text": [
      "821it [03:20,  3.03it/s]"
     ]
    },
    {
     "name": "stdout",
     "output_type": "stream",
     "text": [
      "Invalid image size. Input image width and height should be multiple of 8.\n"
     ]
    },
    {
     "name": "stderr",
     "output_type": "stream",
     "text": [
      "824it [03:21,  3.18it/s]"
     ]
    },
    {
     "name": "stdout",
     "output_type": "stream",
     "text": [
      "Invalid image size. Input image width and height should be multiple of 8.\n"
     ]
    },
    {
     "name": "stderr",
     "output_type": "stream",
     "text": [
      "831it [03:23,  2.84it/s]"
     ]
    },
    {
     "name": "stdout",
     "output_type": "stream",
     "text": [
      "Invalid image size. Input image width and height should be multiple of 8.\n",
      "Invalid image size. Input image width and height should be multiple of 8.\n"
     ]
    },
    {
     "name": "stderr",
     "output_type": "stream",
     "text": [
      "839it [03:25,  2.92it/s]"
     ]
    },
    {
     "name": "stdout",
     "output_type": "stream",
     "text": [
      "Invalid image size. Input image width and height should be multiple of 8.\n",
      "Invalid image size. Input image width and height should be multiple of 8.\n",
      "Invalid image size. Input image width and height should be multiple of 8.\n",
      "Invalid image size. Input image width and height should be multiple of 8.\n",
      "Invalid image size. Input image width and height should be multiple of 8.\n",
      "Invalid image size. Input image width and height should be multiple of 8.\n",
      "Invalid image size. Input image width and height should be multiple of 8.\n",
      "Invalid image size. Input image width and height should be multiple of 8.\n",
      "Invalid image size. Input image width and height should be multiple of 8.\n"
     ]
    },
    {
     "name": "stderr",
     "output_type": "stream",
     "text": [
      "854it [03:27,  2.92it/s]"
     ]
    },
    {
     "name": "stdout",
     "output_type": "stream",
     "text": [
      "Invalid image size. Input image width and height should be multiple of 8.\n",
      "Invalid image size. Input image width and height should be multiple of 8.\n"
     ]
    },
    {
     "name": "stderr",
     "output_type": "stream",
     "text": [
      "862it [03:30,  2.76it/s]"
     ]
    },
    {
     "name": "stdout",
     "output_type": "stream",
     "text": [
      "Invalid image size. Input image width and height should be multiple of 8.\n"
     ]
    },
    {
     "name": "stderr",
     "output_type": "stream",
     "text": [
      "865it [03:31,  2.93it/s]"
     ]
    },
    {
     "name": "stdout",
     "output_type": "stream",
     "text": [
      "Invalid image size. Input image width and height should be multiple of 8.\n"
     ]
    },
    {
     "name": "stderr",
     "output_type": "stream",
     "text": [
      "870it [03:32,  2.95it/s]"
     ]
    },
    {
     "name": "stdout",
     "output_type": "stream",
     "text": [
      "Invalid image size. Input image width and height should be multiple of 8.\n",
      "Invalid image size. Input image width and height should be multiple of 8.\n",
      "Invalid image size. Input image width and height should be multiple of 8.\n",
      "Invalid image size. Input image width and height should be multiple of 8.\n",
      "Invalid image size. Input image width and height should be multiple of 8.\n",
      "Invalid image size. Input image width and height should be multiple of 8.\n",
      "Invalid image size. Input image width and height should be multiple of 8.\n",
      "Invalid image size. Input image width and height should be multiple of 8.\n",
      "Invalid image size. Input image width and height should be multiple of 8.\n"
     ]
    },
    {
     "name": "stderr",
     "output_type": "stream",
     "text": [
      "885it [03:34,  2.84it/s]"
     ]
    },
    {
     "name": "stdout",
     "output_type": "stream",
     "text": [
      "Invalid image size. Input image width and height should be multiple of 8.\n"
     ]
    },
    {
     "name": "stderr",
     "output_type": "stream",
     "text": [
      "\r",
      "887it [03:35,  3.29it/s]"
     ]
    },
    {
     "name": "stdout",
     "output_type": "stream",
     "text": [
      "Invalid image size. Input image width and height should be multiple of 8.\n"
     ]
    },
    {
     "name": "stderr",
     "output_type": "stream",
     "text": [
      "893it [03:36,  2.91it/s]"
     ]
    },
    {
     "name": "stdout",
     "output_type": "stream",
     "text": [
      "Invalid image size. Input image width and height should be multiple of 8.\n"
     ]
    },
    {
     "name": "stderr",
     "output_type": "stream",
     "text": [
      "898it [03:38,  2.96it/s]"
     ]
    },
    {
     "name": "stdout",
     "output_type": "stream",
     "text": [
      "Invalid image size. Input image width and height should be multiple of 8.\n"
     ]
    },
    {
     "name": "stderr",
     "output_type": "stream",
     "text": [
      "901it [03:39,  3.10it/s]"
     ]
    },
    {
     "name": "stdout",
     "output_type": "stream",
     "text": [
      "Invalid image size. Input image width and height should be multiple of 8.\n",
      "Invalid image size. Input image width and height should be multiple of 8.\n",
      "Invalid image size. Input image width and height should be multiple of 8.\n",
      "Invalid image size. Input image width and height should be multiple of 8.\n",
      "Invalid image size. Input image width and height should be multiple of 8.\n",
      "Invalid image size. Input image width and height should be multiple of 8.\n",
      "Invalid image size. Input image width and height should be multiple of 8.\n",
      "Invalid image size. Input image width and height should be multiple of 8.\n"
     ]
    },
    {
     "name": "stderr",
     "output_type": "stream",
     "text": [
      "916it [03:41,  2.81it/s]"
     ]
    },
    {
     "name": "stdout",
     "output_type": "stream",
     "text": [
      "Invalid image size. Input image width and height should be multiple of 8.\n"
     ]
    },
    {
     "name": "stderr",
     "output_type": "stream",
     "text": [
      "924it [03:44,  2.75it/s]"
     ]
    },
    {
     "name": "stdout",
     "output_type": "stream",
     "text": [
      "Invalid image size. Input image width and height should be multiple of 8.\n"
     ]
    },
    {
     "name": "stderr",
     "output_type": "stream",
     "text": [
      "933it [03:47,  2.79it/s]"
     ]
    },
    {
     "name": "stdout",
     "output_type": "stream",
     "text": [
      "Invalid image size. Input image width and height should be multiple of 8.\n",
      "Invalid image size. Input image width and height should be multiple of 8.\n",
      "Invalid image size. Input image width and height should be multiple of 8.\n",
      "Invalid image size. Input image width and height should be multiple of 8.\n",
      "Invalid image size. Input image width and height should be multiple of 8.\n",
      "Invalid image size. Input image width and height should be multiple of 8.\n",
      "Invalid image size. Input image width and height should be multiple of 8.\n",
      "Invalid image size. Input image width and height should be multiple of 8.\n"
     ]
    },
    {
     "name": "stderr",
     "output_type": "stream",
     "text": [
      "948it [03:50,  2.91it/s]"
     ]
    },
    {
     "name": "stdout",
     "output_type": "stream",
     "text": [
      "Invalid image size. Input image width and height should be multiple of 8.\n"
     ]
    },
    {
     "name": "stderr",
     "output_type": "stream",
     "text": [
      "956it [03:52,  2.49it/s]"
     ]
    },
    {
     "name": "stdout",
     "output_type": "stream",
     "text": [
      "Invalid image size. Input image width and height should be multiple of 8.\n"
     ]
    },
    {
     "name": "stderr",
     "output_type": "stream",
     "text": [
      "963it [03:54,  2.75it/s]"
     ]
    },
    {
     "name": "stdout",
     "output_type": "stream",
     "text": [
      "Invalid image size. Input image width and height should be multiple of 8.\n",
      "Invalid image size. Input image width and height should be multiple of 8.\n"
     ]
    },
    {
     "name": "stderr",
     "output_type": "stream",
     "text": [
      "\r",
      "966it [03:55,  3.42it/s]"
     ]
    },
    {
     "name": "stdout",
     "output_type": "stream",
     "text": [
      "Invalid image size. Input image width and height should be multiple of 8.\n",
      "Invalid image size. Input image width and height should be multiple of 8.\n",
      "Invalid image size. Input image width and height should be multiple of 8.\n",
      "Invalid image size. Input image width and height should be multiple of 8.\n",
      "Invalid image size. Input image width and height should be multiple of 8.\n",
      "Invalid image size. Input image width and height should be multiple of 8.\n"
     ]
    },
    {
     "name": "stderr",
     "output_type": "stream",
     "text": [
      "976it [03:56,  3.23it/s]"
     ]
    },
    {
     "name": "stdout",
     "output_type": "stream",
     "text": [
      "Invalid image size. Input image width and height should be multiple of 8.\n"
     ]
    },
    {
     "name": "stderr",
     "output_type": "stream",
     "text": [
      "979it [03:57,  3.32it/s]"
     ]
    },
    {
     "name": "stdout",
     "output_type": "stream",
     "text": [
      "Invalid image size. Input image width and height should be multiple of 8.\n"
     ]
    },
    {
     "name": "stderr",
     "output_type": "stream",
     "text": [
      "986it [03:59,  2.93it/s]"
     ]
    },
    {
     "name": "stdout",
     "output_type": "stream",
     "text": [
      "Invalid image size. Input image width and height should be multiple of 8.\n"
     ]
    },
    {
     "name": "stderr",
     "output_type": "stream",
     "text": [
      "994it [04:02,  2.75it/s]"
     ]
    },
    {
     "name": "stdout",
     "output_type": "stream",
     "text": [
      "Invalid image size. Input image width and height should be multiple of 8.\n",
      "Invalid image size. Input image width and height should be multiple of 8.\n",
      "Invalid image size. Input image width and height should be multiple of 8.\n",
      "Invalid image size. Input image width and height should be multiple of 8.\n"
     ]
    },
    {
     "name": "stderr",
     "output_type": "stream",
     "text": [
      "\r",
      "999it [04:02,  3.59it/s]"
     ]
    },
    {
     "name": "stdout",
     "output_type": "stream",
     "text": [
      "Invalid image size. Input image width and height should be multiple of 8.\n",
      "Invalid image size. Input image width and height should be multiple of 8.\n",
      "Invalid image size. Input image width and height should be multiple of 8.\n",
      "Invalid image size. Input image width and height should be multiple of 8.\n"
     ]
    },
    {
     "name": "stderr",
     "output_type": "stream",
     "text": [
      "1010it [04:05,  2.92it/s]"
     ]
    },
    {
     "name": "stdout",
     "output_type": "stream",
     "text": [
      "Invalid image size. Input image width and height should be multiple of 8.\n"
     ]
    },
    {
     "name": "stderr",
     "output_type": "stream",
     "text": [
      "1013it [04:06,  4.12it/s]\n"
     ]
    },
    {
     "ename": "KeyboardInterrupt",
     "evalue": "",
     "output_type": "error",
     "traceback": [
      "\u001b[1;31m---------------------------------------------------------------------------\u001b[0m",
      "\u001b[1;31mKeyboardInterrupt\u001b[0m                         Traceback (most recent call last)",
      "\u001b[1;32m<ipython-input-3-2f0e5f2e01dc>\u001b[0m in \u001b[0;36m<module>\u001b[1;34m\u001b[0m\n\u001b[1;32m----> 1\u001b[1;33m \u001b[0mmake_dct_folder\u001b[0m\u001b[1;33m(\u001b[0m\u001b[1;34m\"../../dataset/dataset_video_frames2/valid\"\u001b[0m\u001b[1;33m)\u001b[0m\u001b[1;33m\u001b[0m\u001b[1;33m\u001b[0m\u001b[0m\n\u001b[0m",
      "\u001b[1;32m<ipython-input-2-03c93e3938ad>\u001b[0m in \u001b[0;36mmake_dct_folder\u001b[1;34m(folder_path)\u001b[0m\n\u001b[0;32m     13\u001b[0m         \u001b[1;31m#dct_q10 = jpg.encode_image(img, qtable_luma_10, qtable_chroma_10)\u001b[0m\u001b[1;33m\u001b[0m\u001b[1;33m\u001b[0m\u001b[1;33m\u001b[0m\u001b[0m\n\u001b[0;32m     14\u001b[0m         \u001b[1;31m#dct_q50 = jpg.encode_image(img, qtable_luma_50, qtable_chroma_50)\u001b[0m\u001b[1;33m\u001b[0m\u001b[1;33m\u001b[0m\u001b[1;33m\u001b[0m\u001b[0m\n\u001b[1;32m---> 15\u001b[1;33m         \u001b[0mdct_q40\u001b[0m \u001b[1;33m=\u001b[0m \u001b[0mjpg\u001b[0m\u001b[1;33m.\u001b[0m\u001b[0mencode_image\u001b[0m\u001b[1;33m(\u001b[0m\u001b[0mimg\u001b[0m\u001b[1;33m,\u001b[0m \u001b[0mqtable_luma_40\u001b[0m\u001b[1;33m,\u001b[0m \u001b[0mqtable_chroma_40\u001b[0m\u001b[1;33m)\u001b[0m\u001b[1;33m\u001b[0m\u001b[1;33m\u001b[0m\u001b[0m\n\u001b[0m\u001b[0;32m     16\u001b[0m         \u001b[1;31m#dct_q30 = jpg.encode_image(img, qtable_luma_30, qtable_chroma_30)\u001b[0m\u001b[1;33m\u001b[0m\u001b[1;33m\u001b[0m\u001b[1;33m\u001b[0m\u001b[0m\n\u001b[0;32m     17\u001b[0m \u001b[1;33m\u001b[0m\u001b[0m\n",
      "\u001b[1;32m~\\OneDrive\\Documentos\\git\\Deep-JPEG-Decoder\\src\\lib\\jpeg.py\u001b[0m in \u001b[0;36mencode_image\u001b[1;34m(image_data, qtable_luma, qtable_chroma)\u001b[0m\n\u001b[0;32m    239\u001b[0m \u001b[1;33m\u001b[0m\u001b[0m\n\u001b[0;32m    240\u001b[0m     \u001b[0mdct_image\u001b[0m \u001b[1;33m=\u001b[0m \u001b[0mget_dct_image\u001b[0m\u001b[1;33m(\u001b[0m\u001b[0mimage_data\u001b[0m\u001b[1;33m)\u001b[0m\u001b[1;33m\u001b[0m\u001b[1;33m\u001b[0m\u001b[0m\n\u001b[1;32m--> 241\u001b[1;33m     \u001b[0mdct_image\u001b[0m \u001b[1;33m=\u001b[0m \u001b[0mquantization_dct_image\u001b[0m\u001b[1;33m(\u001b[0m\u001b[0mdct_image\u001b[0m\u001b[1;33m,\u001b[0m \u001b[0mqtable_luma\u001b[0m\u001b[1;33m,\u001b[0m \u001b[0mqtable_chroma\u001b[0m\u001b[1;33m,\u001b[0m \u001b[0mop\u001b[0m\u001b[1;33m=\u001b[0m\u001b[1;34m\"quantize\"\u001b[0m\u001b[1;33m)\u001b[0m\u001b[1;33m\u001b[0m\u001b[1;33m\u001b[0m\u001b[0m\n\u001b[0m\u001b[0;32m    242\u001b[0m \u001b[1;33m\u001b[0m\u001b[0m\n\u001b[0;32m    243\u001b[0m     \u001b[1;32mreturn\u001b[0m \u001b[0mdct_image\u001b[0m\u001b[1;33m\u001b[0m\u001b[1;33m\u001b[0m\u001b[0m\n",
      "\u001b[1;32m~\\OneDrive\\Documentos\\git\\Deep-JPEG-Decoder\\src\\lib\\jpeg.py\u001b[0m in \u001b[0;36mquantization_dct_image\u001b[1;34m(dct_image, qtable_luma, qtable_chroma, op)\u001b[0m\n\u001b[0;32m    204\u001b[0m                 \u001b[1;32melse\u001b[0m\u001b[1;33m:\u001b[0m\u001b[1;33m\u001b[0m\u001b[1;33m\u001b[0m\u001b[0m\n\u001b[0;32m    205\u001b[0m                     \u001b[0mblock\u001b[0m \u001b[1;33m=\u001b[0m \u001b[0munquantize_dct_block\u001b[0m\u001b[1;33m(\u001b[0m\u001b[0mblock\u001b[0m\u001b[1;33m,\u001b[0m \u001b[0mchannel\u001b[0m\u001b[1;33m,\u001b[0m \u001b[0mqtable_luma\u001b[0m\u001b[1;33m,\u001b[0m \u001b[0mqtable_chroma\u001b[0m\u001b[1;33m)\u001b[0m\u001b[1;33m\u001b[0m\u001b[1;33m\u001b[0m\u001b[0m\n\u001b[1;32m--> 206\u001b[1;33m                 \u001b[0mnew_dct_image\u001b[0m\u001b[1;33m[\u001b[0m\u001b[0mpos_y\u001b[0m\u001b[1;33m:\u001b[0m\u001b[0mpos_y\u001b[0m\u001b[1;33m+\u001b[0m\u001b[1;36m8\u001b[0m\u001b[1;33m,\u001b[0m \u001b[0mpos_x\u001b[0m\u001b[1;33m:\u001b[0m\u001b[0mpos_x\u001b[0m\u001b[1;33m+\u001b[0m\u001b[1;36m8\u001b[0m\u001b[1;33m,\u001b[0m \u001b[0mchannel\u001b[0m\u001b[1;33m]\u001b[0m \u001b[1;33m=\u001b[0m \u001b[0mblock\u001b[0m\u001b[1;33m\u001b[0m\u001b[1;33m\u001b[0m\u001b[0m\n\u001b[0m\u001b[0;32m    207\u001b[0m \u001b[1;33m\u001b[0m\u001b[0m\n\u001b[0;32m    208\u001b[0m     \u001b[1;32mreturn\u001b[0m \u001b[0mnew_dct_image\u001b[0m\u001b[1;33m\u001b[0m\u001b[1;33m\u001b[0m\u001b[0m\n",
      "\u001b[1;31mKeyboardInterrupt\u001b[0m: "
     ]
    }
   ],
   "source": [
    "make_dct_folder(\"../../dataset/dataset_video_frames2/valid\")"
   ]
  },
  {
   "cell_type": "code",
   "execution_count": null,
   "metadata": {},
   "outputs": [],
   "source": []
  }
 ],
 "metadata": {
  "kernelspec": {
   "display_name": "Python 3",
   "language": "python",
   "name": "python3"
  },
  "language_info": {
   "codemirror_mode": {
    "name": "ipython",
    "version": 3
   },
   "file_extension": ".py",
   "mimetype": "text/x-python",
   "name": "python",
   "nbconvert_exporter": "python",
   "pygments_lexer": "ipython3",
   "version": "3.7.6"
  }
 },
 "nbformat": 4,
 "nbformat_minor": 4
}
