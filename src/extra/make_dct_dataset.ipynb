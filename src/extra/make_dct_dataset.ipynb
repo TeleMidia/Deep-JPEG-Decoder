{
 "cells": [
  {
   "cell_type": "code",
   "execution_count": 1,
   "metadata": {},
   "outputs": [],
   "source": [
    "import sys\n",
    "sys.path.append('..')\n",
    "\n",
    "from tqdm import tqdm\n",
    "import lib.jpeg as jpg\n",
    "import lib.utils as utils\n",
    "import os\n",
    "import glob\n",
    "import numpy as np"
   ]
  },
  {
   "cell_type": "code",
   "execution_count": 2,
   "metadata": {},
   "outputs": [],
   "source": [
    "def make_dct_folder(folder_path):\n",
    "    qtable_luma_50, qtable_chroma_50 = jpg.generate_qtables(quality_factor=50)\n",
    "    qtable_luma_10, qtable_chroma_10 = jpg.generate_qtables(quality_factor=10)\n",
    "    #qtable_luma_40, qtable_chroma_40 = jpg.generate_qtables(quality_factor=40)\n",
    "    #qtable_luma_30, qtable_chroma_30 = jpg.generate_qtables(quality_factor=30)\n",
    "    \n",
    "    for file_ in tqdm(glob.iglob(folder_path+\"/*.jpg\")):\n",
    "        img = utils.open_image(file_)\n",
    "        \n",
    "        if img is None:\n",
    "            continue\n",
    "       \n",
    "        \n",
    "        dct_q10 = jpg.encode_image(img, qtable_luma_10, qtable_chroma_10)\n",
    "        dct_q50 = jpg.encode_image(img, qtable_luma_50, qtable_chroma_50)\n",
    "        #dct_q40 = jpg.encode_image(img, qtable_luma_40, qtable_chroma_40)\n",
    "        #dct_q30 = jpg.encode_image(img, qtable_luma_30, qtable_chroma_30)\n",
    "        \n",
    "        basename_jpg = os.path.basename(file_)\n",
    "        basename_q10 = basename_jpg.replace(\".jpg\",\"\")+\"_q10.npy\"\n",
    "        basename_q50 = basename_jpg.replace(\".jpg\",\"\")+\"_q50.npy\"\n",
    "        basename_q40 = basename_jpg.replace(\".jpg\",\"\")+\"_q40.npy\"\n",
    "        basename_q30 = basename_jpg.replace(\".jpg\",\"\")+\"_q30.npy\"\n",
    "        file_ = file_.replace(basename_jpg, \"\")\n",
    "        file_path_q10 = os.path.join(file_, basename_q10)\n",
    "        file_path_q50 = os.path.join(file_, basename_q50)\n",
    "        #file_path_q40 = os.path.join(file_, basename_q40)\n",
    "        #file_path_q30 = os.path.join(file_, basename_q30)\n",
    "        \n",
    "       \n",
    "        if os.path.exists(file_path_q10):\n",
    "            os.remove(file_path_q10)     \n",
    "        np.save(file_path_q10, dct_q10)\n",
    "        \n",
    "        if os.path.exists(file_path_q50):\n",
    "            os.remove(file_path_q50)    \n",
    "        np.save(file_path_q50, dct_q50)\n",
    "        '''\n",
    "        if os.path.exists(file_path_q40):\n",
    "            os.remove(file_path_q40)    \n",
    "        np.save(file_path_q40, dct_q40)\n",
    "        \n",
    "    \n",
    "        if os.path.exists(file_path_q30):\n",
    "            os.remove(file_path_q30)    \n",
    "        np.save(file_path_q30, dct_q30)\n",
    "        '''\n",
    "    "
   ]
  },
  {
   "cell_type": "code",
   "execution_count": 4,
   "metadata": {
    "scrolled": false
   },
   "outputs": [
    {
     "name": "stderr",
     "output_type": "stream",
     "text": [
      "60it [00:40,  1.48it/s]\n"
     ]
    }
   ],
   "source": [
    "make_dct_folder(\"../../dataset/dataset_video_frames/cropped/ramalho2\")"
   ]
  },
  {
   "cell_type": "code",
   "execution_count": null,
   "metadata": {},
   "outputs": [],
   "source": []
  }
 ],
 "metadata": {
  "kernelspec": {
   "display_name": "Python 3",
   "language": "python",
   "name": "python3"
  },
  "language_info": {
   "codemirror_mode": {
    "name": "ipython",
    "version": 3
   },
   "file_extension": ".py",
   "mimetype": "text/x-python",
   "name": "python",
   "nbconvert_exporter": "python",
   "pygments_lexer": "ipython3",
   "version": "3.7.6"
  }
 },
 "nbformat": 4,
 "nbformat_minor": 4
}
