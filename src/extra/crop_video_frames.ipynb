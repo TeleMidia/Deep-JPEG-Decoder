{
 "cells": [
  {
   "cell_type": "code",
   "execution_count": 1,
   "metadata": {},
   "outputs": [],
   "source": [
    "import cv2\n",
    "import numpy as np\n",
    "import sys\n",
    "sys.path.append('..')\n",
    "import lib.utils as utl\n",
    "import matplotlib.pyplot as plt\n",
    "from tqdm import tqdm\n",
    "import os,glob"
   ]
  },
  {
   "cell_type": "code",
   "execution_count": 2,
   "metadata": {},
   "outputs": [],
   "source": [
    "\n",
    "def crop_frames(folder_path):\n",
    "    size = 120\n",
    "    count = 0\n",
    "    prefix = \"test_1_\"\n",
    "    for file_ in tqdm(glob.iglob(folder_path+\"/*.jpeg\")):\n",
    "        \n",
    "        ori_img = img = cv2.imread(file_)\n",
    "       \n",
    "        folder_name = file_.split(\"/\")[-1]\n",
    "        img_path = file_.replace(folder_name,os.path.join(\"cropped\", folder_name))\n",
    "        img_path = img_path.replace(os.path.basename(img_path), \"\")\n",
    "        print(file_,\"->\" ,img_path)\n",
    "        print(ori_img.shape)\n",
    "        \n",
    "        for i in range(0,ori_img.shape[0], size):\n",
    "            for j in range(0,ori_img.shape[1], size):\n",
    "                patch = ori_img[i:(i+size),j:(j+size)]\n",
    "                cv2.imwrite(os.path.join(img_path, prefix+str(count)+\".jpg\"), patch, [int(cv2.IMWRITE_JPEG_QUALITY), 100])\n",
    "                count += 1       "
   ]
  },
  {
   "cell_type": "code",
   "execution_count": 3,
   "metadata": {},
   "outputs": [
    {
     "name": "stderr",
     "output_type": "stream",
     "text": [
      "5it [00:00, 92.13it/s]"
     ]
    },
    {
     "name": "stdout",
     "output_type": "stream",
     "text": [
      "../../dataset/dataset_video_frames/ramalho2\\test1_104.jpeg -> ../../dataset/dataset_video_frames/cropped\\ramalho2\\\n",
      "(360, 480, 3)\n",
      "../../dataset/dataset_video_frames/ramalho2\\test1_113.jpeg -> ../../dataset/dataset_video_frames/cropped\\ramalho2\\\n",
      "(360, 480, 3)\n",
      "../../dataset/dataset_video_frames/ramalho2\\test1_61.jpeg -> ../../dataset/dataset_video_frames/cropped\\ramalho2\\\n",
      "(360, 480, 3)\n",
      "../../dataset/dataset_video_frames/ramalho2\\test1_64.jpeg -> ../../dataset/dataset_video_frames/cropped\\ramalho2\\\n",
      "(360, 480, 3)\n",
      "../../dataset/dataset_video_frames/ramalho2\\test1_78.jpeg -> ../../dataset/dataset_video_frames/cropped\\ramalho2\\\n",
      "(360, 480, 3)\n"
     ]
    },
    {
     "name": "stderr",
     "output_type": "stream",
     "text": [
      "\n"
     ]
    }
   ],
   "source": [
    "crop_frames(\"../../dataset/dataset_video_frames/ramalho2\")\n",
    "\n",
    "\n"
   ]
  },
  {
   "cell_type": "code",
   "execution_count": null,
   "metadata": {},
   "outputs": [],
   "source": []
  }
 ],
 "metadata": {
  "kernelspec": {
   "display_name": "Python 3",
   "language": "python",
   "name": "python3"
  },
  "language_info": {
   "codemirror_mode": {
    "name": "ipython",
    "version": 3
   },
   "file_extension": ".py",
   "mimetype": "text/x-python",
   "name": "python",
   "nbconvert_exporter": "python",
   "pygments_lexer": "ipython3",
   "version": "3.7.6"
  }
 },
 "nbformat": 4,
 "nbformat_minor": 4
}
