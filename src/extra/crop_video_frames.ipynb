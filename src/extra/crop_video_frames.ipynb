{
 "cells": [
  {
   "cell_type": "code",
   "execution_count": 1,
   "metadata": {},
   "outputs": [],
   "source": [
    "import cv2\n",
    "import numpy as np\n",
    "import lib.utils as utl\n",
    "import matplotlib.pyplot as plt\n",
    "from tqdm import tqdm\n",
    "import os,glob"
   ]
  },
  {
   "cell_type": "code",
   "execution_count": 2,
   "metadata": {},
   "outputs": [],
   "source": [
    "\n",
    "def crop_frames(folder_path):\n",
    "    size = 120\n",
    "    count = 0\n",
    "    for file_ in tqdm(glob.iglob(folder_path+\"/*.jpg\")):\n",
    "        \n",
    "        ori_img = utl.open_image(file_)\n",
    "       \n",
    "        folder_name = file_.split(\"/\")[-1]\n",
    "        img_path = file_.replace(folder_name,os.path.join(\"cropped\", folder_name))\n",
    "        img_path = img_path.replace(os.path.basename(img_path), \"\")\n",
    "        print(file_,\"->\" ,img_path)\n",
    "        print(ori_img.shape)\n",
    "        \n",
    "        for i in range(0,ori_img.shape[0], size):\n",
    "            for j in range(0,ori_img.shape[1], size):\n",
    "                patch = ori_img[i:(i+size),j:(j+size)]\n",
    "                cv2.imwrite(os.path.join(img_path, str(count)+\".jpg\"), patch, [int(cv2.IMWRITE_JPEG_QUALITY), 100])\n",
    "                count += 1       "
   ]
  },
  {
   "cell_type": "code",
   "execution_count": 3,
   "metadata": {},
   "outputs": [
    {
     "name": "stderr",
     "output_type": "stream",
     "text": [
      "12it [00:00, 52.11it/s]"
     ]
    },
    {
     "name": "stdout",
     "output_type": "stream",
     "text": [
      "../dataset/dataset_frames/train\\thumbnails-01.jpg -> ../dataset/dataset_frames/cropped\\train\\\n",
      "(360, 480, 3)\n",
      "../dataset/dataset_frames/train\\thumbnails-02.jpg -> ../dataset/dataset_frames/cropped\\train\\\n",
      "(360, 480, 3)\n",
      "../dataset/dataset_frames/train\\thumbnails-03.jpg -> ../dataset/dataset_frames/cropped\\train\\\n",
      "(360, 480, 3)\n",
      "../dataset/dataset_frames/train\\thumbnails-04.jpg -> ../dataset/dataset_frames/cropped\\train\\\n",
      "(360, 480, 3)\n",
      "../dataset/dataset_frames/train\\thumbnails-05.jpg -> ../dataset/dataset_frames/cropped\\train\\\n",
      "(360, 480, 3)\n",
      "../dataset/dataset_frames/train\\thumbnails-06.jpg -> ../dataset/dataset_frames/cropped\\train\\\n",
      "(360, 480, 3)\n",
      "../dataset/dataset_frames/train\\thumbnails-07.jpg -> ../dataset/dataset_frames/cropped\\train\\\n",
      "(360, 480, 3)\n",
      "../dataset/dataset_frames/train\\thumbnails-08.jpg -> ../dataset/dataset_frames/cropped\\train\\\n",
      "(360, 480, 3)\n",
      "../dataset/dataset_frames/train\\thumbnails-09.jpg -> ../dataset/dataset_frames/cropped\\train\\\n",
      "(360, 480, 3)\n",
      "../dataset/dataset_frames/train\\thumbnails-10.jpg -> ../dataset/dataset_frames/cropped\\train\\\n",
      "(360, 480, 3)\n",
      "../dataset/dataset_frames/train\\thumbnails-100.jpg -> ../dataset/dataset_frames/cropped\\train\\\n",
      "(360, 480, 3)\n",
      "../dataset/dataset_frames/train\\thumbnails-101.jpg -> ../dataset/dataset_frames/cropped\\train\\\n",
      "(360, 480, 3)\n",
      "../dataset/dataset_frames/train\\thumbnails-102.jpg -> ../dataset/dataset_frames/cropped\\train\\\n",
      "(360, 480, 3)\n",
      "../dataset/dataset_frames/train\\thumbnails-103.jpg"
     ]
    },
    {
     "name": "stderr",
     "output_type": "stream",
     "text": [
      "\r",
      "19it [00:00, 55.01it/s]"
     ]
    },
    {
     "name": "stdout",
     "output_type": "stream",
     "text": [
      " -> ../dataset/dataset_frames/cropped\\train\\\n",
      "(360, 480, 3)\n",
      "../dataset/dataset_frames/train\\thumbnails-104.jpg -> ../dataset/dataset_frames/cropped\\train\\\n",
      "(360, 480, 3)\n",
      "../dataset/dataset_frames/train\\thumbnails-105.jpg -> ../dataset/dataset_frames/cropped\\train\\\n",
      "(360, 480, 3)\n",
      "../dataset/dataset_frames/train\\thumbnails-106.jpg -> ../dataset/dataset_frames/cropped\\train\\\n",
      "(360, 480, 3)\n",
      "../dataset/dataset_frames/train\\thumbnails-107.jpg -> ../dataset/dataset_frames/cropped\\train\\\n",
      "(360, 480, 3)\n",
      "../dataset/dataset_frames/train\\thumbnails-108.jpg -> ../dataset/dataset_frames/cropped\\train\\\n",
      "(360, 480, 3)\n",
      "../dataset/dataset_frames/train\\thumbnails-109.jpg -> ../dataset/dataset_frames/cropped\\train\\\n",
      "(360, 480, 3)\n",
      "../dataset/dataset_frames/train\\thumbnails-11.jpg -> ../dataset/dataset_frames/cropped\\train\\\n",
      "(360, 480, 3)\n",
      "../dataset/dataset_frames/train\\thumbnails-110.jpg -> ../dataset/dataset_frames/cropped\\train\\\n",
      "(360, 480, 3)\n",
      "../dataset/dataset_frames/train\\thumbnails-111.jpg -> ../dataset/dataset_frames/cropped\\train\\\n",
      "(360, 480, 3)\n",
      "../dataset/dataset_frames/train\\thumbnails-112.jpg -> ../dataset/dataset_frames/cropped\\train\\\n",
      "(360, 480, 3)\n",
      "../dataset/dataset_frames/train\\thumbnails-113.jpg -> ../dataset/dataset_frames/cropped\\train\\\n",
      "(360, 480, 3)\n",
      "../dataset/dataset_frames/train\\thumbnails-114.jpg -> ../dataset/dataset_frames/cropped\\train\\\n",
      "(360, 480, 3)\n",
      "../dataset/dataset_frames/train\\thumbnails-115.jpg -> ../dataset/dataset_frames/cropped\\train\\\n",
      "(360, 480, 3)\n"
     ]
    },
    {
     "name": "stderr",
     "output_type": "stream",
     "text": [
      "33it [00:00, 58.94it/s]"
     ]
    },
    {
     "name": "stdout",
     "output_type": "stream",
     "text": [
      "../dataset/dataset_frames/train\\thumbnails-116.jpg -> ../dataset/dataset_frames/cropped\\train\\\n",
      "(360, 480, 3)\n",
      "../dataset/dataset_frames/train\\thumbnails-117.jpg -> ../dataset/dataset_frames/cropped\\train\\\n",
      "(360, 480, 3)\n",
      "../dataset/dataset_frames/train\\thumbnails-118.jpg -> ../dataset/dataset_frames/cropped\\train\\\n",
      "(360, 480, 3)\n",
      "../dataset/dataset_frames/train\\thumbnails-119.jpg -> ../dataset/dataset_frames/cropped\\train\\\n",
      "(360, 480, 3)\n",
      "../dataset/dataset_frames/train\\thumbnails-12.jpg -> ../dataset/dataset_frames/cropped\\train\\\n",
      "(360, 480, 3)\n",
      "../dataset/dataset_frames/train\\thumbnails-120.jpg -> ../dataset/dataset_frames/cropped\\train\\\n",
      "(360, 480, 3)\n",
      "../dataset/dataset_frames/train\\thumbnails-121.jpg -> ../dataset/dataset_frames/cropped\\train\\\n",
      "(360, 480, 3)\n",
      "../dataset/dataset_frames/train\\thumbnails-122.jpg -> ../dataset/dataset_frames/cropped\\train\\\n",
      "(360, 480, 3)\n",
      "../dataset/dataset_frames/train\\thumbnails-123.jpg -> ../dataset/dataset_frames/cropped\\train\\\n",
      "(360, 480, 3)\n",
      "../dataset/dataset_frames/train\\thumbnails-124.jpg -> ../dataset/dataset_frames/cropped\\train\\\n",
      "(360, 480, 3)\n",
      "../dataset/dataset_frames/train\\thumbnails-125.jpg -> ../dataset/dataset_frames/cropped\\train\\\n",
      "(360, 480, 3)\n",
      "../dataset/dataset_frames/train\\thumbnails-126.jpg -> ../dataset/dataset_frames/cropped\\train\\\n",
      "(360, 480, 3)\n",
      "../dataset/dataset_frames/train\\thumbnails-127.jpg -> ../dataset/dataset_frames/cropped\\train\\\n",
      "(360, 480, 3)\n"
     ]
    },
    {
     "name": "stderr",
     "output_type": "stream",
     "text": [
      "48it [00:00, 64.14it/s]"
     ]
    },
    {
     "name": "stdout",
     "output_type": "stream",
     "text": [
      "../dataset/dataset_frames/train\\thumbnails-128.jpg -> ../dataset/dataset_frames/cropped\\train\\\n",
      "(360, 480, 3)\n",
      "../dataset/dataset_frames/train\\thumbnails-129.jpg -> ../dataset/dataset_frames/cropped\\train\\\n",
      "(360, 480, 3)\n",
      "../dataset/dataset_frames/train\\thumbnails-13.jpg -> ../dataset/dataset_frames/cropped\\train\\\n",
      "(360, 480, 3)\n",
      "../dataset/dataset_frames/train\\thumbnails-130.jpg -> ../dataset/dataset_frames/cropped\\train\\\n",
      "(360, 480, 3)\n",
      "../dataset/dataset_frames/train\\thumbnails-131.jpg -> ../dataset/dataset_frames/cropped\\train\\\n",
      "(360, 480, 3)\n",
      "../dataset/dataset_frames/train\\thumbnails-132.jpg -> ../dataset/dataset_frames/cropped\\train\\\n",
      "(360, 480, 3)\n",
      "../dataset/dataset_frames/train\\thumbnails-133.jpg -> ../dataset/dataset_frames/cropped\\train\\\n",
      "(360, 480, 3)\n",
      "../dataset/dataset_frames/train\\thumbnails-134.jpg -> ../dataset/dataset_frames/cropped\\train\\\n",
      "(360, 480, 3)\n",
      "../dataset/dataset_frames/train\\thumbnails-135.jpg -> ../dataset/dataset_frames/cropped\\train\\\n",
      "(360, 480, 3)\n",
      "../dataset/dataset_frames/train\\thumbnails-136.jpg -> ../dataset/dataset_frames/cropped\\train\\\n",
      "(360, 480, 3)\n",
      "../dataset/dataset_frames/train\\thumbnails-137.jpg -> ../dataset/dataset_frames/cropped\\train\\\n",
      "(360, 480, 3)\n",
      "../dataset/dataset_frames/train\\thumbnails-138.jpg -> ../dataset/dataset_frames/cropped\\train\\\n",
      "(360, 480, 3)\n",
      "../dataset/dataset_frames/train\\thumbnails-139.jpg"
     ]
    },
    {
     "name": "stderr",
     "output_type": "stream",
     "text": [
      "63it [00:00, 65.36it/s]"
     ]
    },
    {
     "name": "stdout",
     "output_type": "stream",
     "text": [
      " -> ../dataset/dataset_frames/cropped\\train\\\n",
      "(360, 480, 3)\n",
      "../dataset/dataset_frames/train\\thumbnails-14.jpg -> ../dataset/dataset_frames/cropped\\train\\\n",
      "(360, 480, 3)\n",
      "../dataset/dataset_frames/train\\thumbnails-140.jpg -> ../dataset/dataset_frames/cropped\\train\\\n",
      "(360, 480, 3)\n",
      "../dataset/dataset_frames/train\\thumbnails-141.jpg -> ../dataset/dataset_frames/cropped\\train\\\n",
      "(360, 480, 3)\n",
      "../dataset/dataset_frames/train\\thumbnails-142.jpg -> ../dataset/dataset_frames/cropped\\train\\\n",
      "(360, 480, 3)\n",
      "../dataset/dataset_frames/train\\thumbnails-143.jpg -> ../dataset/dataset_frames/cropped\\train\\\n",
      "(360, 480, 3)\n",
      "../dataset/dataset_frames/train\\thumbnails-144.jpg -> ../dataset/dataset_frames/cropped\\train\\\n",
      "(360, 480, 3)\n",
      "../dataset/dataset_frames/train\\thumbnails-145.jpg -> ../dataset/dataset_frames/cropped\\train\\\n",
      "(360, 480, 3)\n",
      "../dataset/dataset_frames/train\\thumbnails-146.jpg -> ../dataset/dataset_frames/cropped\\train\\\n",
      "(360, 480, 3)\n",
      "../dataset/dataset_frames/train\\thumbnails-147.jpg -> ../dataset/dataset_frames/cropped\\train\\\n",
      "(360, 480, 3)\n",
      "../dataset/dataset_frames/train\\thumbnails-148.jpg -> ../dataset/dataset_frames/cropped\\train\\\n",
      "(360, 480, 3)\n",
      "../dataset/dataset_frames/train\\thumbnails-149.jpg -> ../dataset/dataset_frames/cropped\\train\\\n",
      "(360, 480, 3)\n",
      "../dataset/dataset_frames/train\\thumbnails-15.jpg -> ../dataset/dataset_frames/cropped\\train\\\n",
      "(360, 480, 3)\n",
      "../dataset/dataset_frames/train\\thumbnails-150.jpg"
     ]
    },
    {
     "name": "stderr",
     "output_type": "stream",
     "text": [
      "77it [00:01, 65.71it/s]"
     ]
    },
    {
     "name": "stdout",
     "output_type": "stream",
     "text": [
      " -> ../dataset/dataset_frames/cropped\\train\\\n",
      "(360, 480, 3)\n",
      "../dataset/dataset_frames/train\\thumbnails-151.jpg -> ../dataset/dataset_frames/cropped\\train\\\n",
      "(360, 480, 3)\n",
      "../dataset/dataset_frames/train\\thumbnails-152.jpg -> ../dataset/dataset_frames/cropped\\train\\\n",
      "(360, 480, 3)\n",
      "../dataset/dataset_frames/train\\thumbnails-153.jpg -> ../dataset/dataset_frames/cropped\\train\\\n",
      "(360, 480, 3)\n",
      "../dataset/dataset_frames/train\\thumbnails-154.jpg -> ../dataset/dataset_frames/cropped\\train\\\n",
      "(360, 480, 3)\n",
      "../dataset/dataset_frames/train\\thumbnails-155.jpg -> ../dataset/dataset_frames/cropped\\train\\\n",
      "(360, 480, 3)\n",
      "../dataset/dataset_frames/train\\thumbnails-156.jpg -> ../dataset/dataset_frames/cropped\\train\\\n",
      "(360, 480, 3)\n",
      "../dataset/dataset_frames/train\\thumbnails-157.jpg -> ../dataset/dataset_frames/cropped\\train\\\n",
      "(360, 480, 3)\n",
      "../dataset/dataset_frames/train\\thumbnails-158.jpg -> ../dataset/dataset_frames/cropped\\train\\\n",
      "(360, 480, 3)\n",
      "../dataset/dataset_frames/train\\thumbnails-159.jpg -> ../dataset/dataset_frames/cropped\\train\\\n",
      "(360, 480, 3)\n",
      "../dataset/dataset_frames/train\\thumbnails-16.jpg -> ../dataset/dataset_frames/cropped\\train\\\n",
      "(360, 480, 3)\n",
      "../dataset/dataset_frames/train\\thumbnails-160.jpg -> ../dataset/dataset_frames/cropped\\train\\\n",
      "(360, 480, 3)\n",
      "../dataset/dataset_frames/train\\thumbnails-161.jpg -> ../dataset/dataset_frames/cropped\\train\\\n",
      "(360, 480, 3)\n"
     ]
    },
    {
     "name": "stderr",
     "output_type": "stream",
     "text": [
      "\r",
      "84it [00:01, 57.55it/s]"
     ]
    },
    {
     "name": "stdout",
     "output_type": "stream",
     "text": [
      "../dataset/dataset_frames/train\\thumbnails-162.jpg -> ../dataset/dataset_frames/cropped\\train\\\n",
      "(360, 480, 3)\n",
      "../dataset/dataset_frames/train\\thumbnails-163.jpg -> ../dataset/dataset_frames/cropped\\train\\\n",
      "(360, 480, 3)\n",
      "../dataset/dataset_frames/train\\thumbnails-164.jpg -> ../dataset/dataset_frames/cropped\\train\\\n",
      "(360, 480, 3)\n",
      "../dataset/dataset_frames/train\\thumbnails-165.jpg -> ../dataset/dataset_frames/cropped\\train\\\n",
      "(360, 480, 3)\n",
      "../dataset/dataset_frames/train\\thumbnails-166.jpg -> ../dataset/dataset_frames/cropped\\train\\\n",
      "(360, 480, 3)\n",
      "../dataset/dataset_frames/train\\thumbnails-167.jpg -> ../dataset/dataset_frames/cropped\\train\\\n",
      "(360, 480, 3)\n",
      "../dataset/dataset_frames/train\\thumbnails-168.jpg -> ../dataset/dataset_frames/cropped\\train\\\n",
      "(360, 480, 3)\n",
      "../dataset/dataset_frames/train\\thumbnails-169.jpg -> ../dataset/dataset_frames/cropped\\train\\\n",
      "(360, 480, 3)\n",
      "../dataset/dataset_frames/train\\thumbnails-17.jpg -> ../dataset/dataset_frames/cropped\\train\\\n",
      "(360, 480, 3)\n",
      "../dataset/dataset_frames/train\\thumbnails-170.jpg -> ../dataset/dataset_frames/cropped\\train\\\n",
      "(360, 480, 3)\n",
      "../dataset/dataset_frames/train\\thumbnails-171.jpg -> ../dataset/dataset_frames/cropped\\train\\\n",
      "(360, 480, 3)\n",
      "../dataset/dataset_frames/train\\thumbnails-173.jpg -> ../dataset/dataset_frames/cropped\\train\\\n",
      "(360, 480, 3)\n"
     ]
    },
    {
     "name": "stderr",
     "output_type": "stream",
     "text": [
      "97it [00:01, 56.47it/s]"
     ]
    },
    {
     "name": "stdout",
     "output_type": "stream",
     "text": [
      "../dataset/dataset_frames/train\\thumbnails-174.jpg -> ../dataset/dataset_frames/cropped\\train\\\n",
      "(360, 480, 3)\n",
      "../dataset/dataset_frames/train\\thumbnails-175.jpg -> ../dataset/dataset_frames/cropped\\train\\\n",
      "(360, 480, 3)\n",
      "../dataset/dataset_frames/train\\thumbnails-176.jpg -> ../dataset/dataset_frames/cropped\\train\\\n",
      "(360, 480, 3)\n",
      "../dataset/dataset_frames/train\\thumbnails-178.jpg -> ../dataset/dataset_frames/cropped\\train\\\n",
      "(360, 480, 3)\n",
      "../dataset/dataset_frames/train\\thumbnails-179.jpg -> ../dataset/dataset_frames/cropped\\train\\\n",
      "(360, 480, 3)\n",
      "../dataset/dataset_frames/train\\thumbnails-18.jpg -> ../dataset/dataset_frames/cropped\\train\\\n",
      "(360, 480, 3)\n",
      "../dataset/dataset_frames/train\\thumbnails-180.jpg -> ../dataset/dataset_frames/cropped\\train\\\n",
      "(360, 480, 3)\n",
      "../dataset/dataset_frames/train\\thumbnails-181.jpg -> ../dataset/dataset_frames/cropped\\train\\\n",
      "(360, 480, 3)\n",
      "../dataset/dataset_frames/train\\thumbnails-183.jpg -> ../dataset/dataset_frames/cropped\\train\\\n",
      "(360, 480, 3)\n",
      "../dataset/dataset_frames/train\\thumbnails-184.jpg -> ../dataset/dataset_frames/cropped\\train\\\n",
      "(360, 480, 3)\n",
      "../dataset/dataset_frames/train\\thumbnails-186.jpg -> ../dataset/dataset_frames/cropped\\train\\\n",
      "(360, 480, 3)\n",
      "../dataset/dataset_frames/train\\thumbnails-188.jpg"
     ]
    },
    {
     "name": "stderr",
     "output_type": "stream",
     "text": [
      "111it [00:01, 61.87it/s]"
     ]
    },
    {
     "name": "stdout",
     "output_type": "stream",
     "text": [
      " -> ../dataset/dataset_frames/cropped\\train\\\n",
      "(360, 480, 3)\n",
      "../dataset/dataset_frames/train\\thumbnails-189.jpg -> ../dataset/dataset_frames/cropped\\train\\\n",
      "(360, 480, 3)\n",
      "../dataset/dataset_frames/train\\thumbnails-19.jpg -> ../dataset/dataset_frames/cropped\\train\\\n",
      "(360, 480, 3)\n",
      "../dataset/dataset_frames/train\\thumbnails-190.jpg -> ../dataset/dataset_frames/cropped\\train\\\n",
      "(360, 480, 3)\n",
      "../dataset/dataset_frames/train\\thumbnails-192.jpg -> ../dataset/dataset_frames/cropped\\train\\\n",
      "(360, 480, 3)\n",
      "../dataset/dataset_frames/train\\thumbnails-193.jpg -> ../dataset/dataset_frames/cropped\\train\\\n",
      "(360, 480, 3)\n",
      "../dataset/dataset_frames/train\\thumbnails-195.jpg -> ../dataset/dataset_frames/cropped\\train\\\n",
      "(360, 480, 3)\n",
      "../dataset/dataset_frames/train\\thumbnails-197.jpg -> ../dataset/dataset_frames/cropped\\train\\\n",
      "(360, 480, 3)\n",
      "../dataset/dataset_frames/train\\thumbnails-198.jpg -> ../dataset/dataset_frames/cropped\\train\\\n",
      "(360, 480, 3)\n",
      "../dataset/dataset_frames/train\\thumbnails-20.jpg -> ../dataset/dataset_frames/cropped\\train\\\n",
      "(360, 480, 3)\n",
      "../dataset/dataset_frames/train\\thumbnails-200.jpg -> ../dataset/dataset_frames/cropped\\train\\\n",
      "(360, 480, 3)\n",
      "../dataset/dataset_frames/train\\thumbnails-201.jpg -> ../dataset/dataset_frames/cropped\\train\\\n",
      "(360, 480, 3)\n",
      "../dataset/dataset_frames/train\\thumbnails-202.jpg -> ../dataset/dataset_frames/cropped\\train\\\n",
      "(360, 480, 3)\n",
      "../dataset/dataset_frames/train\\thumbnails-204.jpg"
     ]
    },
    {
     "name": "stderr",
     "output_type": "stream",
     "text": [
      "127it [00:02, 66.04it/s]"
     ]
    },
    {
     "name": "stdout",
     "output_type": "stream",
     "text": [
      " -> ../dataset/dataset_frames/cropped\\train\\\n",
      "(360, 480, 3)\n",
      "../dataset/dataset_frames/train\\thumbnails-205.jpg -> ../dataset/dataset_frames/cropped\\train\\\n",
      "(360, 480, 3)\n",
      "../dataset/dataset_frames/train\\thumbnails-206.jpg -> ../dataset/dataset_frames/cropped\\train\\\n",
      "(360, 480, 3)\n",
      "../dataset/dataset_frames/train\\thumbnails-207.jpg -> ../dataset/dataset_frames/cropped\\train\\\n",
      "(360, 480, 3)\n",
      "../dataset/dataset_frames/train\\thumbnails-208.jpg -> ../dataset/dataset_frames/cropped\\train\\\n",
      "(360, 480, 3)\n",
      "../dataset/dataset_frames/train\\thumbnails-209.jpg -> ../dataset/dataset_frames/cropped\\train\\\n",
      "(360, 480, 3)\n",
      "../dataset/dataset_frames/train\\thumbnails-21.jpg -> ../dataset/dataset_frames/cropped\\train\\\n",
      "(360, 480, 3)\n",
      "../dataset/dataset_frames/train\\thumbnails-210.jpg -> ../dataset/dataset_frames/cropped\\train\\\n",
      "(360, 480, 3)\n",
      "../dataset/dataset_frames/train\\thumbnails-211.jpg -> ../dataset/dataset_frames/cropped\\train\\\n",
      "(360, 480, 3)\n",
      "../dataset/dataset_frames/train\\thumbnails-212.jpg -> ../dataset/dataset_frames/cropped\\train\\\n",
      "(360, 480, 3)\n",
      "../dataset/dataset_frames/train\\thumbnails-22.jpg -> ../dataset/dataset_frames/cropped\\train\\\n",
      "(360, 480, 3)\n",
      "../dataset/dataset_frames/train\\thumbnails-23.jpg -> ../dataset/dataset_frames/cropped\\train\\\n",
      "(360, 480, 3)\n",
      "../dataset/dataset_frames/train\\thumbnails-24.jpg -> ../dataset/dataset_frames/cropped\\train\\\n",
      "(360, 480, 3)\n"
     ]
    },
    {
     "name": "stderr",
     "output_type": "stream",
     "text": [
      "\r",
      "134it [00:02, 65.72it/s]"
     ]
    },
    {
     "name": "stdout",
     "output_type": "stream",
     "text": [
      "../dataset/dataset_frames/train\\thumbnails-25.jpg -> ../dataset/dataset_frames/cropped\\train\\\n",
      "(360, 480, 3)\n",
      "../dataset/dataset_frames/train\\thumbnails-26.jpg -> ../dataset/dataset_frames/cropped\\train\\\n",
      "(360, 480, 3)\n",
      "../dataset/dataset_frames/train\\thumbnails-27.jpg -> ../dataset/dataset_frames/cropped\\train\\\n",
      "(360, 480, 3)\n",
      "../dataset/dataset_frames/train\\thumbnails-28.jpg -> ../dataset/dataset_frames/cropped\\train\\\n",
      "(360, 480, 3)\n",
      "../dataset/dataset_frames/train\\thumbnails-29.jpg -> ../dataset/dataset_frames/cropped\\train\\\n",
      "(360, 480, 3)\n",
      "../dataset/dataset_frames/train\\thumbnails-30.jpg -> ../dataset/dataset_frames/cropped\\train\\\n",
      "(360, 480, 3)\n",
      "../dataset/dataset_frames/train\\thumbnails-31.jpg -> ../dataset/dataset_frames/cropped\\train\\\n",
      "(360, 480, 3)\n",
      "../dataset/dataset_frames/train\\thumbnails-32.jpg -> ../dataset/dataset_frames/cropped\\train\\\n",
      "(360, 480, 3)\n",
      "../dataset/dataset_frames/train\\thumbnails-33.jpg -> ../dataset/dataset_frames/cropped\\train\\\n",
      "(360, 480, 3)\n",
      "../dataset/dataset_frames/train\\thumbnails-34.jpg -> ../dataset/dataset_frames/cropped\\train\\\n",
      "(360, 480, 3)\n",
      "../dataset/dataset_frames/train\\thumbnails-35.jpg -> ../dataset/dataset_frames/cropped\\train\\\n",
      "(360, 480, 3)\n",
      "../dataset/dataset_frames/train\\thumbnails-36.jpg -> ../dataset/dataset_frames/cropped\\train\\\n",
      "(360, 480, 3)\n",
      "../dataset/dataset_frames/train\\thumbnails-37.jpg -> ../dataset/dataset_frames/cropped\\train\\\n",
      "(360, 480, 3)\n",
      "../dataset/dataset_frames/train\\thumbnails-38.jpg -> ../dataset/dataset_frames/cropped\\train\\\n",
      "(360, 480, 3)\n"
     ]
    },
    {
     "name": "stderr",
     "output_type": "stream",
     "text": [
      "150it [00:02, 68.90it/s]"
     ]
    },
    {
     "name": "stdout",
     "output_type": "stream",
     "text": [
      "../dataset/dataset_frames/train\\thumbnails-39.jpg -> ../dataset/dataset_frames/cropped\\train\\\n",
      "(360, 480, 3)\n",
      "../dataset/dataset_frames/train\\thumbnails-40.jpg -> ../dataset/dataset_frames/cropped\\train\\\n",
      "(360, 480, 3)\n",
      "../dataset/dataset_frames/train\\thumbnails-41.jpg -> ../dataset/dataset_frames/cropped\\train\\\n",
      "(360, 480, 3)\n",
      "../dataset/dataset_frames/train\\thumbnails-42.jpg -> ../dataset/dataset_frames/cropped\\train\\\n",
      "(360, 480, 3)\n",
      "../dataset/dataset_frames/train\\thumbnails-43.jpg -> ../dataset/dataset_frames/cropped\\train\\\n",
      "(360, 480, 3)\n",
      "../dataset/dataset_frames/train\\thumbnails-44.jpg -> ../dataset/dataset_frames/cropped\\train\\\n",
      "(360, 480, 3)\n",
      "../dataset/dataset_frames/train\\thumbnails-45.jpg -> ../dataset/dataset_frames/cropped\\train\\\n",
      "(360, 480, 3)\n",
      "../dataset/dataset_frames/train\\thumbnails-46.jpg -> ../dataset/dataset_frames/cropped\\train\\\n",
      "(360, 480, 3)\n",
      "../dataset/dataset_frames/train\\thumbnails-47.jpg -> ../dataset/dataset_frames/cropped\\train\\\n",
      "(360, 480, 3)\n",
      "../dataset/dataset_frames/train\\thumbnails-48.jpg -> ../dataset/dataset_frames/cropped\\train\\\n",
      "(360, 480, 3)\n",
      "../dataset/dataset_frames/train\\thumbnails-49.jpg -> ../dataset/dataset_frames/cropped\\train\\\n",
      "(360, 480, 3)\n",
      "../dataset/dataset_frames/train\\thumbnails-50.jpg -> ../dataset/dataset_frames/cropped\\train\\\n",
      "(360, 480, 3)\n",
      "../dataset/dataset_frames/train\\thumbnails-51.jpg -> ../dataset/dataset_frames/cropped\\train\\\n",
      "(360, 480, 3)\n",
      "../dataset/dataset_frames/train\\thumbnails-52.jpg -> ../dataset/dataset_frames/cropped\\train\\\n",
      "(360, 480, 3)\n",
      "../dataset/dataset_frames/train\\thumbnails-53.jpg -> "
     ]
    },
    {
     "name": "stderr",
     "output_type": "stream",
     "text": [
      "\r",
      "158it [00:02, 70.71it/s]"
     ]
    },
    {
     "name": "stdout",
     "output_type": "stream",
     "text": [
      "../dataset/dataset_frames/cropped\\train\\\n",
      "(360, 480, 3)\n",
      "../dataset/dataset_frames/train\\thumbnails-54.jpg -> ../dataset/dataset_frames/cropped\\train\\\n",
      "(360, 480, 3)\n",
      "../dataset/dataset_frames/train\\thumbnails-55.jpg -> ../dataset/dataset_frames/cropped\\train\\\n",
      "(360, 480, 3)\n",
      "../dataset/dataset_frames/train\\thumbnails-56.jpg -> ../dataset/dataset_frames/cropped\\train\\\n",
      "(360, 480, 3)\n",
      "../dataset/dataset_frames/train\\thumbnails-57.jpg -> ../dataset/dataset_frames/cropped\\train\\\n",
      "(360, 480, 3)\n",
      "../dataset/dataset_frames/train\\thumbnails-58.jpg -> ../dataset/dataset_frames/cropped\\train\\\n",
      "(360, 480, 3)\n",
      "../dataset/dataset_frames/train\\thumbnails-59.jpg -> ../dataset/dataset_frames/cropped\\train\\\n",
      "(360, 480, 3)\n",
      "../dataset/dataset_frames/train\\thumbnails-60.jpg -> ../dataset/dataset_frames/cropped\\train\\\n",
      "(360, 480, 3)\n",
      "../dataset/dataset_frames/train\\thumbnails-61.jpg -> ../dataset/dataset_frames/cropped\\train\\\n",
      "(360, 480, 3)\n",
      "../dataset/dataset_frames/train\\thumbnails-62.jpg -> ../dataset/dataset_frames/cropped\\train\\\n",
      "(360, 480, 3)\n"
     ]
    },
    {
     "name": "stderr",
     "output_type": "stream",
     "text": [
      "173it [00:02, 61.35it/s]"
     ]
    },
    {
     "name": "stdout",
     "output_type": "stream",
     "text": [
      "../dataset/dataset_frames/train\\thumbnails-63.jpg -> ../dataset/dataset_frames/cropped\\train\\\n",
      "(360, 480, 3)\n",
      "../dataset/dataset_frames/train\\thumbnails-64.jpg -> ../dataset/dataset_frames/cropped\\train\\\n",
      "(360, 480, 3)\n",
      "../dataset/dataset_frames/train\\thumbnails-65.jpg -> ../dataset/dataset_frames/cropped\\train\\\n",
      "(360, 480, 3)\n",
      "../dataset/dataset_frames/train\\thumbnails-66.jpg -> ../dataset/dataset_frames/cropped\\train\\\n",
      "(360, 480, 3)\n",
      "../dataset/dataset_frames/train\\thumbnails-67.jpg -> ../dataset/dataset_frames/cropped\\train\\\n",
      "(360, 480, 3)\n",
      "../dataset/dataset_frames/train\\thumbnails-68.jpg -> ../dataset/dataset_frames/cropped\\train\\\n",
      "(360, 480, 3)\n",
      "../dataset/dataset_frames/train\\thumbnails-69.jpg -> ../dataset/dataset_frames/cropped\\train\\\n",
      "(360, 480, 3)\n",
      "../dataset/dataset_frames/train\\thumbnails-70.jpg -> ../dataset/dataset_frames/cropped\\train\\\n",
      "(360, 480, 3)\n",
      "../dataset/dataset_frames/train\\thumbnails-71.jpg -> ../dataset/dataset_frames/cropped\\train\\\n",
      "(360, 480, 3)\n",
      "../dataset/dataset_frames/train\\thumbnails-72.jpg -> ../dataset/dataset_frames/cropped\\train\\\n",
      "(360, 480, 3)\n",
      "../dataset/dataset_frames/train\\thumbnails-73.jpg -> ../dataset/dataset_frames/cropped\\train\\\n",
      "(360, 480, 3)\n",
      "../dataset/dataset_frames/train\\thumbnails-74.jpg -> ../dataset/dataset_frames/cropped\\train\\\n",
      "(360, 480, 3)\n",
      "../dataset/dataset_frames/train\\thumbnails-75.jpg"
     ]
    },
    {
     "name": "stderr",
     "output_type": "stream",
     "text": [
      "188it [00:02, 63.22it/s]"
     ]
    },
    {
     "name": "stdout",
     "output_type": "stream",
     "text": [
      " -> ../dataset/dataset_frames/cropped\\train\\\n",
      "(360, 480, 3)\n",
      "../dataset/dataset_frames/train\\thumbnails-76.jpg -> ../dataset/dataset_frames/cropped\\train\\\n",
      "(360, 480, 3)\n",
      "../dataset/dataset_frames/train\\thumbnails-77.jpg -> ../dataset/dataset_frames/cropped\\train\\\n",
      "(360, 480, 3)\n",
      "../dataset/dataset_frames/train\\thumbnails-78.jpg -> ../dataset/dataset_frames/cropped\\train\\\n",
      "(360, 480, 3)\n",
      "../dataset/dataset_frames/train\\thumbnails-79.jpg -> ../dataset/dataset_frames/cropped\\train\\\n",
      "(360, 480, 3)\n",
      "../dataset/dataset_frames/train\\thumbnails-80.jpg -> ../dataset/dataset_frames/cropped\\train\\\n",
      "(360, 480, 3)\n",
      "../dataset/dataset_frames/train\\thumbnails-81.jpg -> ../dataset/dataset_frames/cropped\\train\\\n",
      "(360, 480, 3)\n",
      "../dataset/dataset_frames/train\\thumbnails-82.jpg -> ../dataset/dataset_frames/cropped\\train\\\n",
      "(360, 480, 3)\n",
      "../dataset/dataset_frames/train\\thumbnails-83.jpg -> ../dataset/dataset_frames/cropped\\train\\\n",
      "(360, 480, 3)\n",
      "../dataset/dataset_frames/train\\thumbnails-84.jpg -> ../dataset/dataset_frames/cropped\\train\\\n",
      "(360, 480, 3)\n",
      "../dataset/dataset_frames/train\\thumbnails-85.jpg -> ../dataset/dataset_frames/cropped\\train\\\n",
      "(360, 480, 3)\n",
      "../dataset/dataset_frames/train\\thumbnails-86.jpg -> ../dataset/dataset_frames/cropped\\train\\\n",
      "(360, 480, 3)\n",
      "../dataset/dataset_frames/train\\thumbnails-87.jpg -> ../dataset/dataset_frames/cropped\\train\\\n",
      "(360, 480, 3)\n",
      "../dataset/dataset_frames/train\\thumbnails-88.jpg -> ../dataset/dataset_frames/cropped\\train\\\n",
      "(360, 480, 3)\n"
     ]
    },
    {
     "name": "stderr",
     "output_type": "stream",
     "text": [
      "202it [00:03, 64.04it/s]"
     ]
    },
    {
     "name": "stdout",
     "output_type": "stream",
     "text": [
      "../dataset/dataset_frames/train\\thumbnails-89.jpg -> ../dataset/dataset_frames/cropped\\train\\\n",
      "(360, 480, 3)\n",
      "../dataset/dataset_frames/train\\thumbnails-90.jpg -> ../dataset/dataset_frames/cropped\\train\\\n",
      "(360, 480, 3)\n",
      "../dataset/dataset_frames/train\\thumbnails-91.jpg -> ../dataset/dataset_frames/cropped\\train\\\n",
      "(360, 480, 3)\n",
      "../dataset/dataset_frames/train\\thumbnails-92.jpg -> ../dataset/dataset_frames/cropped\\train\\\n",
      "(360, 480, 3)\n",
      "../dataset/dataset_frames/train\\thumbnails-93.jpg -> ../dataset/dataset_frames/cropped\\train\\\n",
      "(360, 480, 3)\n",
      "../dataset/dataset_frames/train\\thumbnails-94.jpg -> ../dataset/dataset_frames/cropped\\train\\\n",
      "(360, 480, 3)\n",
      "../dataset/dataset_frames/train\\thumbnails-95.jpg -> ../dataset/dataset_frames/cropped\\train\\\n",
      "(360, 480, 3)\n",
      "../dataset/dataset_frames/train\\thumbnails-96.jpg -> ../dataset/dataset_frames/cropped\\train\\\n",
      "(360, 480, 3)\n",
      "../dataset/dataset_frames/train\\thumbnails-97.jpg -> ../dataset/dataset_frames/cropped\\train\\\n",
      "(360, 480, 3)\n",
      "../dataset/dataset_frames/train\\thumbnails-98.jpg -> ../dataset/dataset_frames/cropped\\train\\\n",
      "(360, 480, 3)\n",
      "../dataset/dataset_frames/train\\thumbnails-99.jpg -> ../dataset/dataset_frames/cropped\\train\\\n",
      "(360, 480, 3)\n"
     ]
    },
    {
     "name": "stderr",
     "output_type": "stream",
     "text": [
      "\n"
     ]
    }
   ],
   "source": [
    "crop_frames(\"../dataset/dataset_frames/train\")\n",
    "\n",
    "\n"
   ]
  }
 ],
 "metadata": {
  "kernelspec": {
   "display_name": "Python 3",
   "language": "python",
   "name": "python3"
  },
  "language_info": {
   "codemirror_mode": {
    "name": "ipython",
    "version": 3
   },
   "file_extension": ".py",
   "mimetype": "text/x-python",
   "name": "python",
   "nbconvert_exporter": "python",
   "pygments_lexer": "ipython3",
   "version": "3.7.6"
  }
 },
 "nbformat": 4,
 "nbformat_minor": 4
}
