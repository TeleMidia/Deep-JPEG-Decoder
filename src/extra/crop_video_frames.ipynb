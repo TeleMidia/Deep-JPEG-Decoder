{
 "cells": [
  {
   "cell_type": "code",
   "execution_count": 1,
   "metadata": {},
   "outputs": [],
   "source": [
    "import cv2\n",
    "import numpy as np\n",
    "import sys\n",
    "sys.path.append('..')\n",
    "import lib.utils as utl\n",
    "import matplotlib.pyplot as plt\n",
    "from tqdm import tqdm\n",
    "import os,glob"
   ]
  },
  {
   "cell_type": "code",
   "execution_count": 2,
   "metadata": {},
   "outputs": [],
   "source": [
    "\n",
    "def crop_frames(folder_path):\n",
    "    size = 128\n",
    "    count = 0\n",
    "    for file_ in tqdm(glob.iglob(folder_path+\"/*.jpeg\")):\n",
    "        \n",
    "        ori_img = img = cv2.imread(file_)\n",
    "       \n",
    "        folder_name = file_.split(\"/\")[-1]\n",
    "        img_path = file_.replace(folder_name,os.path.join(\"cropped\", folder_name))\n",
    "        img_path = img_path.replace(os.path.basename(img_path), \"\")\n",
    "        print(file_,\"->\" ,img_path)\n",
    "        print(ori_img.shape)\n",
    "        \n",
    "        for i in range(0,ori_img.shape[0], size):\n",
    "            for j in range(0,ori_img.shape[1], size):\n",
    "                patch = ori_img[i:(i+size),j:(j+size)]\n",
    "                cv2.imwrite(os.path.join(img_path, str(count)+\".jpg\"), patch, [int(cv2.IMWRITE_JPEG_QUALITY), 100])\n",
    "                count += 1       "
   ]
  },
  {
   "cell_type": "code",
   "execution_count": 3,
   "metadata": {},
   "outputs": [
    {
     "name": "stderr",
     "output_type": "stream",
     "text": [
      "5it [00:00, 40.11it/s]"
     ]
    },
    {
     "name": "stdout",
     "output_type": "stream",
     "text": [
      "../../dataset/dataset_video_frames2/valid\\thumbnails-1-01.jpeg -> ../../dataset/dataset_video_frames2/cropped\\valid\\\n",
      "(470, 854, 3)\n",
      "../../dataset/dataset_video_frames2/valid\\thumbnails-1-02.jpeg -> ../../dataset/dataset_video_frames2/cropped\\valid\\\n",
      "(470, 854, 3)\n",
      "../../dataset/dataset_video_frames2/valid\\thumbnails-1-03.jpeg -> ../../dataset/dataset_video_frames2/cropped\\valid\\\n",
      "(470, 854, 3)\n",
      "../../dataset/dataset_video_frames2/valid\\thumbnails-1-04.jpeg -> ../../dataset/dataset_video_frames2/cropped\\valid\\\n",
      "(470, 854, 3)\n",
      "../../dataset/dataset_video_frames2/valid\\thumbnails-1-05.jpeg -> ../../dataset/dataset_video_frames2/cropped\\valid\\\n",
      "(470, 854, 3)\n",
      "../../dataset/dataset_video_frames2/valid\\thumbnails-1-06.jpeg -> ../../dataset/dataset_video_frames2/cropped\\valid\\\n",
      "(470, 854, 3)\n",
      "../../dataset/dataset_video_frames2/valid\\thumbnails-1-07.jpeg -> ../../dataset/dataset_video_frames2/cropped\\valid\\\n",
      "(470, 854, 3)\n"
     ]
    },
    {
     "name": "stderr",
     "output_type": "stream",
     "text": [
      "12it [00:00, 34.78it/s]"
     ]
    },
    {
     "name": "stdout",
     "output_type": "stream",
     "text": [
      "../../dataset/dataset_video_frames2/valid\\thumbnails-1-08.jpeg -> ../../dataset/dataset_video_frames2/cropped\\valid\\\n",
      "(470, 854, 3)\n",
      "../../dataset/dataset_video_frames2/valid\\thumbnails-1-09.jpeg -> ../../dataset/dataset_video_frames2/cropped\\valid\\\n",
      "(470, 854, 3)\n",
      "../../dataset/dataset_video_frames2/valid\\thumbnails-1-10.jpeg -> ../../dataset/dataset_video_frames2/cropped\\valid\\\n",
      "(470, 854, 3)\n",
      "../../dataset/dataset_video_frames2/valid\\thumbnails-1-11.jpeg -> ../../dataset/dataset_video_frames2/cropped\\valid\\\n",
      "(470, 854, 3)\n",
      "../../dataset/dataset_video_frames2/valid\\thumbnails-1-12.jpeg -> ../../dataset/dataset_video_frames2/cropped\\valid\\\n",
      "(470, 854, 3)\n",
      "../../dataset/dataset_video_frames2/valid\\thumbnails-1-13.jpeg -> ../../dataset/dataset_video_frames2/cropped\\valid\\\n",
      "(470, 854, 3)\n",
      "../../dataset/dataset_video_frames2/valid\\thumbnails-1-14.jpeg -> ../../dataset/dataset_video_frames2/cropped\\valid\\\n",
      "(470, 854, 3)\n",
      "../../dataset/dataset_video_frames2/valid\\thumbnails-1-15.jpeg -> ../../dataset/dataset_video_frames2/cropped\\valid\\\n",
      "(470, 854, 3)\n"
     ]
    },
    {
     "name": "stderr",
     "output_type": "stream",
     "text": [
      "20it [00:00, 35.47it/s]"
     ]
    },
    {
     "name": "stdout",
     "output_type": "stream",
     "text": [
      "../../dataset/dataset_video_frames2/valid\\thumbnails-1-16.jpeg -> ../../dataset/dataset_video_frames2/cropped\\valid\\\n",
      "(470, 854, 3)\n",
      "../../dataset/dataset_video_frames2/valid\\thumbnails-1-17.jpeg -> ../../dataset/dataset_video_frames2/cropped\\valid\\\n",
      "(470, 854, 3)\n",
      "../../dataset/dataset_video_frames2/valid\\thumbnails-1-18.jpeg -> ../../dataset/dataset_video_frames2/cropped\\valid\\\n",
      "(470, 854, 3)\n",
      "../../dataset/dataset_video_frames2/valid\\thumbnails-2-01.jpeg -> ../../dataset/dataset_video_frames2/cropped\\valid\\\n",
      "(470, 854, 3)\n",
      "../../dataset/dataset_video_frames2/valid\\thumbnails-2-02.jpeg -> ../../dataset/dataset_video_frames2/cropped\\valid\\\n",
      "(470, 854, 3)\n",
      "../../dataset/dataset_video_frames2/valid\\thumbnails-2-03.jpeg -> ../../dataset/dataset_video_frames2/cropped\\valid\\\n",
      "(470, 854, 3)\n",
      "../../dataset/dataset_video_frames2/valid\\thumbnails-2-04.jpeg -> ../../dataset/dataset_video_frames2/cropped\\valid\\\n",
      "(470, 854, 3)\n",
      "../../dataset/dataset_video_frames2/valid\\thumbnails-2-05.jpeg"
     ]
    },
    {
     "name": "stderr",
     "output_type": "stream",
     "text": [
      "29it [00:00, 37.43it/s]"
     ]
    },
    {
     "name": "stdout",
     "output_type": "stream",
     "text": [
      " -> ../../dataset/dataset_video_frames2/cropped\\valid\\\n",
      "(470, 854, 3)\n",
      "../../dataset/dataset_video_frames2/valid\\thumbnails-2-06.jpeg -> ../../dataset/dataset_video_frames2/cropped\\valid\\\n",
      "(470, 854, 3)\n",
      "../../dataset/dataset_video_frames2/valid\\thumbnails-2-07.jpeg -> ../../dataset/dataset_video_frames2/cropped\\valid\\\n",
      "(470, 854, 3)\n",
      "../../dataset/dataset_video_frames2/valid\\thumbnails-2-08.jpeg -> ../../dataset/dataset_video_frames2/cropped\\valid\\\n",
      "(470, 854, 3)\n",
      "../../dataset/dataset_video_frames2/valid\\thumbnails-2-09.jpeg -> ../../dataset/dataset_video_frames2/cropped\\valid\\\n",
      "(470, 854, 3)\n",
      "../../dataset/dataset_video_frames2/valid\\thumbnails-2-10.jpeg -> ../../dataset/dataset_video_frames2/cropped\\valid\\\n",
      "(470, 854, 3)\n",
      "../../dataset/dataset_video_frames2/valid\\thumbnails-2-11.jpeg -> ../../dataset/dataset_video_frames2/cropped\\valid\\\n",
      "(470, 854, 3)\n",
      "../../dataset/dataset_video_frames2/valid\\thumbnails-2-12.jpeg -> ../../dataset/dataset_video_frames2/cropped\\valid\\\n",
      "(470, 854, 3)\n",
      "../../dataset/dataset_video_frames2/valid\\thumbnails-2-13.jpeg"
     ]
    },
    {
     "name": "stderr",
     "output_type": "stream",
     "text": [
      "\r",
      "34it [00:00, 38.64it/s]"
     ]
    },
    {
     "name": "stdout",
     "output_type": "stream",
     "text": [
      " -> ../../dataset/dataset_video_frames2/cropped\\valid\\\n",
      "(470, 854, 3)\n",
      "../../dataset/dataset_video_frames2/valid\\thumbnails-2-14.jpeg -> ../../dataset/dataset_video_frames2/cropped\\valid\\\n",
      "(470, 854, 3)\n",
      "../../dataset/dataset_video_frames2/valid\\thumbnails-2-15.jpeg -> ../../dataset/dataset_video_frames2/cropped\\valid\\\n",
      "(470, 854, 3)\n",
      "../../dataset/dataset_video_frames2/valid\\thumbnails-2-16.jpeg -> ../../dataset/dataset_video_frames2/cropped\\valid\\\n",
      "(470, 854, 3)\n",
      "../../dataset/dataset_video_frames2/valid\\thumbnails-2-17.jpeg -> ../../dataset/dataset_video_frames2/cropped\\valid\\\n",
      "(470, 854, 3)\n",
      "../../dataset/dataset_video_frames2/valid\\thumbnails-2-18.jpeg -> ../../dataset/dataset_video_frames2/cropped\\valid\\\n",
      "(470, 854, 3)\n",
      "../../dataset/dataset_video_frames2/valid\\thumbnails-2-19.jpeg -> ../../dataset/dataset_video_frames2/cropped\\valid\\\n",
      "(470, 854, 3)\n",
      "../../dataset/dataset_video_frames2/valid\\thumbnails-2-20.jpeg -> ../../dataset/dataset_video_frames2/cropped\\valid\\\n",
      "(470, 854, 3)\n",
      "../../dataset/dataset_video_frames2/valid\\thumbnails-3-01.jpeg"
     ]
    },
    {
     "name": "stderr",
     "output_type": "stream",
     "text": [
      "43it [00:01, 38.34it/s]"
     ]
    },
    {
     "name": "stdout",
     "output_type": "stream",
     "text": [
      " -> ../../dataset/dataset_video_frames2/cropped\\valid\\\n",
      "(470, 854, 3)\n",
      "../../dataset/dataset_video_frames2/valid\\thumbnails-3-02.jpeg -> ../../dataset/dataset_video_frames2/cropped\\valid\\\n",
      "(470, 854, 3)\n",
      "../../dataset/dataset_video_frames2/valid\\thumbnails-3-03.jpeg -> ../../dataset/dataset_video_frames2/cropped\\valid\\\n",
      "(470, 854, 3)\n",
      "../../dataset/dataset_video_frames2/valid\\thumbnails-3-04.jpeg -> ../../dataset/dataset_video_frames2/cropped\\valid\\\n",
      "(470, 854, 3)\n",
      "../../dataset/dataset_video_frames2/valid\\thumbnails-3-05.jpeg -> ../../dataset/dataset_video_frames2/cropped\\valid\\\n",
      "(470, 854, 3)\n",
      "../../dataset/dataset_video_frames2/valid\\thumbnails-3-06.jpeg -> ../../dataset/dataset_video_frames2/cropped\\valid\\\n",
      "(470, 854, 3)\n",
      "../../dataset/dataset_video_frames2/valid\\thumbnails-3-07.jpeg -> ../../dataset/dataset_video_frames2/cropped\\valid\\\n",
      "(470, 854, 3)\n",
      "../../dataset/dataset_video_frames2/valid\\thumbnails-3-08.jpeg"
     ]
    },
    {
     "name": "stderr",
     "output_type": "stream",
     "text": [
      "51it [00:01, 36.55it/s]"
     ]
    },
    {
     "name": "stdout",
     "output_type": "stream",
     "text": [
      " -> ../../dataset/dataset_video_frames2/cropped\\valid\\\n",
      "(470, 854, 3)\n",
      "../../dataset/dataset_video_frames2/valid\\thumbnails-3-09.jpeg -> ../../dataset/dataset_video_frames2/cropped\\valid\\\n",
      "(470, 854, 3)\n",
      "../../dataset/dataset_video_frames2/valid\\thumbnails-3-10.jpeg -> ../../dataset/dataset_video_frames2/cropped\\valid\\\n",
      "(470, 854, 3)\n",
      "../../dataset/dataset_video_frames2/valid\\thumbnails-3-11.jpeg -> ../../dataset/dataset_video_frames2/cropped\\valid\\\n",
      "(470, 854, 3)\n",
      "../../dataset/dataset_video_frames2/valid\\thumbnails-3-12.jpeg -> ../../dataset/dataset_video_frames2/cropped\\valid\\\n",
      "(470, 854, 3)\n",
      "../../dataset/dataset_video_frames2/valid\\thumbnails-3-13.jpeg -> ../../dataset/dataset_video_frames2/cropped\\valid\\\n",
      "(470, 854, 3)\n",
      "../../dataset/dataset_video_frames2/valid\\thumbnails-3-14.jpeg -> ../../dataset/dataset_video_frames2/cropped\\valid\\\n",
      "(470, 854, 3)\n",
      "../../dataset/dataset_video_frames2/valid\\thumbnails-3-15.jpeg -> ../../dataset/dataset_video_frames2/cropped\\valid\\\n",
      "(470, 854, 3)\n"
     ]
    },
    {
     "name": "stderr",
     "output_type": "stream",
     "text": [
      "59it [00:01, 37.23it/s]"
     ]
    },
    {
     "name": "stdout",
     "output_type": "stream",
     "text": [
      "../../dataset/dataset_video_frames2/valid\\thumbnails-3-16.jpeg -> ../../dataset/dataset_video_frames2/cropped\\valid\\\n",
      "(470, 854, 3)\n",
      "../../dataset/dataset_video_frames2/valid\\thumbnails-3-17.jpeg -> ../../dataset/dataset_video_frames2/cropped\\valid\\\n",
      "(470, 854, 3)\n",
      "../../dataset/dataset_video_frames2/valid\\thumbnails-3-18.jpeg -> ../../dataset/dataset_video_frames2/cropped\\valid\\\n",
      "(470, 854, 3)\n",
      "../../dataset/dataset_video_frames2/valid\\thumbnails-3-19.jpeg -> ../../dataset/dataset_video_frames2/cropped\\valid\\\n",
      "(470, 854, 3)\n",
      "../../dataset/dataset_video_frames2/valid\\thumbnails-3-20.jpeg -> ../../dataset/dataset_video_frames2/cropped\\valid\\\n",
      "(470, 854, 3)\n",
      "../../dataset/dataset_video_frames2/valid\\thumbnails-3-21.jpeg -> ../../dataset/dataset_video_frames2/cropped\\valid\\\n",
      "(470, 854, 3)\n",
      "../../dataset/dataset_video_frames2/valid\\thumbnails-3-22.jpeg -> ../../dataset/dataset_video_frames2/cropped\\valid\\\n",
      "(470, 854, 3)\n"
     ]
    },
    {
     "name": "stderr",
     "output_type": "stream",
     "text": [
      "\r",
      "61it [00:01, 36.65it/s]"
     ]
    },
    {
     "name": "stdout",
     "output_type": "stream",
     "text": [
      "../../dataset/dataset_video_frames2/valid\\thumbnails-3-23.jpeg -> ../../dataset/dataset_video_frames2/cropped\\valid\\\n",
      "(470, 854, 3)\n"
     ]
    },
    {
     "name": "stderr",
     "output_type": "stream",
     "text": [
      "\n"
     ]
    }
   ],
   "source": [
    "crop_frames(\"../../dataset/dataset_video_frames2/valid\")\n",
    "\n",
    "\n"
   ]
  },
  {
   "cell_type": "code",
   "execution_count": null,
   "metadata": {},
   "outputs": [],
   "source": []
  }
 ],
 "metadata": {
  "kernelspec": {
   "display_name": "Python 3",
   "language": "python",
   "name": "python3"
  },
  "language_info": {
   "codemirror_mode": {
    "name": "ipython",
    "version": 3
   },
   "file_extension": ".py",
   "mimetype": "text/x-python",
   "name": "python",
   "nbconvert_exporter": "python",
   "pygments_lexer": "ipython3",
   "version": "3.7.6"
  }
 },
 "nbformat": 4,
 "nbformat_minor": 4
}
