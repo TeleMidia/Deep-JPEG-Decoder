{
 "cells": [
  {
   "cell_type": "code",
   "execution_count": 1,
   "metadata": {},
   "outputs": [],
   "source": [
    "from tqdm import tqdm\n",
    "import lib.jpeg as jpg\n",
    "import lib.utils as utils\n",
    "import os\n",
    "import glob\n",
    "import numpy as np"
   ]
  },
  {
   "cell_type": "code",
   "execution_count": 2,
   "metadata": {},
   "outputs": [],
   "source": [
    "def make_dct_folder(folder_path):\n",
    "    qtable_luma_50, qtable_chroma_50 = jpg.generate_qtables(quality_factor=50)\n",
    "    qtable_luma_10, qtable_chroma_10 = jpg.generate_qtables(quality_factor=10)\n",
    "    \n",
    "    for file_ in tqdm(glob.iglob(folder_path+\"/*/*.jpg\")):\n",
    "        img = utils.open_image(file_)\n",
    "\n",
    "        dct_q10 = jpg.encode_image(img, qtable_luma_10, qtable_chroma_10)\n",
    "        dct_q50 = jpg.encode_image(img, qtable_luma_50, qtable_chroma_50)\n",
    "        \n",
    "        basename_jpg = os.path.basename(file_)\n",
    "        basename_q10 = basename_jpg.replace(\".jpg\",\"\")+\"_q10.npy\"\n",
    "        basename_q50 = basename_jpg.replace(\".jpg\",\"\")+\"_q50.npy\"\n",
    "        file_ = file_.replace(basename_jpg, \"\")\n",
    "        file_path_q10 = os.path.join(file_, basename_q10)\n",
    "        file_path_q50 = os.path.join(file_, basename_q50)\n",
    "        \n",
    "        if os.path.exists(file_path_q10):\n",
    "            os.remove(file_path_q10)\n",
    "            \n",
    "        np.save(file_path_q10, dct_q10)\n",
    "        \n",
    "        if os.path.exists(file_path_q50):\n",
    "            os.remove(file_path_q50)\n",
    "            \n",
    "        np.save(file_path_q50, dct_q50)\n",
    "    "
   ]
  },
  {
   "cell_type": "code",
   "execution_count": 3,
   "metadata": {
    "scrolled": true
   },
   "outputs": [
    {
     "name": "stderr",
     "output_type": "stream",
     "text": [
      "876it [06:25,  2.27it/s]\n"
     ]
    }
   ],
   "source": [
    "make_dct_folder(\"../dataset/valid\")"
   ]
  },
  {
   "cell_type": "code",
   "execution_count": null,
   "metadata": {},
   "outputs": [],
   "source": []
  }
 ],
 "metadata": {
  "kernelspec": {
   "display_name": "Python 3",
   "language": "python",
   "name": "python3"
  },
  "language_info": {
   "codemirror_mode": {
    "name": "ipython",
    "version": 3
   },
   "file_extension": ".py",
   "mimetype": "text/x-python",
   "name": "python",
   "nbconvert_exporter": "python",
   "pygments_lexer": "ipython3",
   "version": "3.7.6"
  }
 },
 "nbformat": 4,
 "nbformat_minor": 4
}
